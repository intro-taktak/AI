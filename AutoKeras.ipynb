{
 "cells": [
  {
   "cell_type": "code",
   "execution_count": 1,
   "metadata": {},
   "outputs": [
    {
     "name": "stdout",
     "output_type": "stream",
     "text": [
      "(60000, 28, 28)\n",
      "(60000,)\n",
      "[5 0 4]\n"
     ]
    }
   ],
   "source": [
    "import tensorflow as tf\n",
    "from tensorflow import keras\n",
    "from tensorflow.keras import layers\n",
    "\n",
    "import os\n",
    "import numpy as np\n",
    "\n",
    "import tensorflow as tf\n",
    "import datetime\n",
    "\n",
    "(x_train, y_train), (x_test, y_test) = mnist.load_data()\n",
    "print(x_train.shape) # (60000, 28, 28)\n",
    "print(y_train.shape) # (60000,)\n",
    "print(y_train[:3]) # array([7, 2, 1], dtype=uint8)"
   ]
  },
  {
   "cell_type": "code",
   "execution_count": 2,
   "metadata": {},
   "outputs": [
    {
     "name": "stdout",
     "output_type": "stream",
     "text": [
      "Train for 1500 steps, validate for 375 steps\n",
      "Epoch 1/3\n",
      "1500/1500 [==============================] - ETA: 39:19 - loss: 2.4800 - accuracy: 0.062 - ETA: 1:49 - loss: 1.4818 - accuracy: 0.558 - ETA: 56s - loss: 1.1284 - accuracy: 0.6635 - ETA: 39s - loss: 0.9039 - accuracy: 0.728 - ETA: 29s - loss: 0.7637 - accuracy: 0.770 - ETA: 24s - loss: 0.6738 - accuracy: 0.795 - ETA: 20s - loss: 0.6118 - accuracy: 0.816 - ETA: 17s - loss: 0.5626 - accuracy: 0.831 - ETA: 15s - loss: 0.5223 - accuracy: 0.844 - ETA: 13s - loss: 0.4881 - accuracy: 0.853 - ETA: 12s - loss: 0.4552 - accuracy: 0.863 - ETA: 11s - loss: 0.4375 - accuracy: 0.869 - ETA: 10s - loss: 0.4186 - accuracy: 0.874 - ETA: 9s - loss: 0.4076 - accuracy: 0.878 - ETA: 9s - loss: 0.3930 - accuracy: 0.88 - ETA: 8s - loss: 0.3782 - accuracy: 0.88 - ETA: 8s - loss: 0.3659 - accuracy: 0.89 - ETA: 7s - loss: 0.3555 - accuracy: 0.89 - ETA: 7s - loss: 0.3456 - accuracy: 0.89 - ETA: 6s - loss: 0.3383 - accuracy: 0.89 - ETA: 6s - loss: 0.3282 - accuracy: 0.90 - ETA: 6s - loss: 0.3205 - accuracy: 0.90 - ETA: 5s - loss: 0.3133 - accuracy: 0.90 - ETA: 5s - loss: 0.3070 - accuracy: 0.90 - ETA: 5s - loss: 0.2992 - accuracy: 0.90 - ETA: 5s - loss: 0.2932 - accuracy: 0.91 - ETA: 4s - loss: 0.2875 - accuracy: 0.91 - ETA: 4s - loss: 0.2807 - accuracy: 0.91 - ETA: 4s - loss: 0.2746 - accuracy: 0.91 - ETA: 4s - loss: 0.2690 - accuracy: 0.91 - ETA: 4s - loss: 0.2650 - accuracy: 0.92 - ETA: 3s - loss: 0.2597 - accuracy: 0.92 - ETA: 3s - loss: 0.2547 - accuracy: 0.92 - ETA: 3s - loss: 0.2511 - accuracy: 0.92 - ETA: 3s - loss: 0.2463 - accuracy: 0.92 - ETA: 3s - loss: 0.2428 - accuracy: 0.92 - ETA: 3s - loss: 0.2396 - accuracy: 0.92 - ETA: 3s - loss: 0.2356 - accuracy: 0.92 - ETA: 2s - loss: 0.2323 - accuracy: 0.92 - ETA: 2s - loss: 0.2313 - accuracy: 0.92 - ETA: 2s - loss: 0.2283 - accuracy: 0.93 - ETA: 2s - loss: 0.2252 - accuracy: 0.93 - ETA: 2s - loss: 0.2227 - accuracy: 0.93 - ETA: 2s - loss: 0.2196 - accuracy: 0.93 - ETA: 2s - loss: 0.2167 - accuracy: 0.93 - ETA: 2s - loss: 0.2150 - accuracy: 0.93 - ETA: 1s - loss: 0.2136 - accuracy: 0.93 - ETA: 1s - loss: 0.2122 - accuracy: 0.93 - ETA: 1s - loss: 0.2098 - accuracy: 0.93 - ETA: 1s - loss: 0.2070 - accuracy: 0.93 - ETA: 1s - loss: 0.2053 - accuracy: 0.93 - ETA: 1s - loss: 0.2031 - accuracy: 0.93 - ETA: 1s - loss: 0.2006 - accuracy: 0.93 - ETA: 1s - loss: 0.1984 - accuracy: 0.94 - ETA: 1s - loss: 0.1971 - accuracy: 0.94 - ETA: 1s - loss: 0.1954 - accuracy: 0.94 - ETA: 1s - loss: 0.1937 - accuracy: 0.94 - ETA: 0s - loss: 0.1925 - accuracy: 0.94 - ETA: 0s - loss: 0.1910 - accuracy: 0.94 - ETA: 0s - loss: 0.1890 - accuracy: 0.94 - ETA: 0s - loss: 0.1876 - accuracy: 0.94 - ETA: 0s - loss: 0.1862 - accuracy: 0.94 - ETA: 0s - loss: 0.1849 - accuracy: 0.94 - ETA: 0s - loss: 0.1833 - accuracy: 0.94 - ETA: 0s - loss: 0.1818 - accuracy: 0.94 - ETA: 0s - loss: 0.1806 - accuracy: 0.94 - ETA: 0s - loss: 0.1795 - accuracy: 0.94 - ETA: 0s - loss: 0.1785 - accuracy: 0.94 - ETA: 0s - loss: 0.1777 - accuracy: 0.94 - 6s 4ms/step - loss: 0.1769 - accuracy: 0.9466 - val_loss: 0.0740 - val_accuracy: 0.9794\n",
      "Epoch 2/3\n",
      "1500/1500 [==============================] - ETA: 2:42 - loss: 0.0806 - accuracy: 0.96 - ETA: 14s - loss: 0.1026 - accuracy: 0.9743 - ETA: 7s - loss: 0.1121 - accuracy: 0.970 - ETA: 6s - loss: 0.1018 - accuracy: 0.97 - ETA: 5s - loss: 0.0943 - accuracy: 0.97 - ETA: 4s - loss: 0.0877 - accuracy: 0.97 - ETA: 4s - loss: 0.0875 - accuracy: 0.97 - ETA: 4s - loss: 0.0878 - accuracy: 0.97 - ETA: 4s - loss: 0.0878 - accuracy: 0.97 - ETA: 3s - loss: 0.0884 - accuracy: 0.97 - ETA: 3s - loss: 0.0871 - accuracy: 0.97 - ETA: 3s - loss: 0.0885 - accuracy: 0.97 - ETA: 3s - loss: 0.0889 - accuracy: 0.97 - ETA: 3s - loss: 0.0913 - accuracy: 0.97 - ETA: 3s - loss: 0.0917 - accuracy: 0.97 - ETA: 3s - loss: 0.0917 - accuracy: 0.97 - ETA: 3s - loss: 0.0894 - accuracy: 0.97 - ETA: 3s - loss: 0.0878 - accuracy: 0.97 - ETA: 2s - loss: 0.0875 - accuracy: 0.97 - ETA: 2s - loss: 0.0875 - accuracy: 0.97 - ETA: 2s - loss: 0.0857 - accuracy: 0.97 - ETA: 2s - loss: 0.0858 - accuracy: 0.97 - ETA: 2s - loss: 0.0852 - accuracy: 0.97 - ETA: 2s - loss: 0.0851 - accuracy: 0.97 - ETA: 2s - loss: 0.0851 - accuracy: 0.97 - ETA: 2s - loss: 0.0842 - accuracy: 0.97 - ETA: 2s - loss: 0.0845 - accuracy: 0.97 - ETA: 2s - loss: 0.0847 - accuracy: 0.97 - ETA: 2s - loss: 0.0837 - accuracy: 0.97 - ETA: 2s - loss: 0.0826 - accuracy: 0.97 - ETA: 2s - loss: 0.0827 - accuracy: 0.97 - ETA: 2s - loss: 0.0823 - accuracy: 0.97 - ETA: 2s - loss: 0.0810 - accuracy: 0.97 - ETA: 1s - loss: 0.0803 - accuracy: 0.97 - ETA: 1s - loss: 0.0800 - accuracy: 0.97 - ETA: 1s - loss: 0.0799 - accuracy: 0.97 - ETA: 1s - loss: 0.0796 - accuracy: 0.97 - ETA: 1s - loss: 0.0793 - accuracy: 0.97 - ETA: 1s - loss: 0.0802 - accuracy: 0.97 - ETA: 1s - loss: 0.0800 - accuracy: 0.97 - ETA: 1s - loss: 0.0793 - accuracy: 0.97 - ETA: 1s - loss: 0.0792 - accuracy: 0.97 - ETA: 1s - loss: 0.0786 - accuracy: 0.97 - ETA: 1s - loss: 0.0782 - accuracy: 0.97 - ETA: 1s - loss: 0.0788 - accuracy: 0.97 - ETA: 1s - loss: 0.0790 - accuracy: 0.97 - ETA: 1s - loss: 0.0792 - accuracy: 0.97 - ETA: 1s - loss: 0.0790 - accuracy: 0.97 - ETA: 1s - loss: 0.0780 - accuracy: 0.97 - ETA: 0s - loss: 0.0783 - accuracy: 0.97 - ETA: 0s - loss: 0.0781 - accuracy: 0.97 - ETA: 0s - loss: 0.0776 - accuracy: 0.97 - ETA: 0s - loss: 0.0780 - accuracy: 0.97 - ETA: 0s - loss: 0.0779 - accuracy: 0.97 - ETA: 0s - loss: 0.0774 - accuracy: 0.97 - ETA: 0s - loss: 0.0775 - accuracy: 0.97 - ETA: 0s - loss: 0.0771 - accuracy: 0.97 - ETA: 0s - loss: 0.0772 - accuracy: 0.97 - ETA: 0s - loss: 0.0774 - accuracy: 0.97 - ETA: 0s - loss: 0.0772 - accuracy: 0.97 - ETA: 0s - loss: 0.0773 - accuracy: 0.97 - ETA: 0s - loss: 0.0771 - accuracy: 0.97 - ETA: 0s - loss: 0.0770 - accuracy: 0.97 - ETA: 0s - loss: 0.0769 - accuracy: 0.97 - ETA: 0s - loss: 0.0774 - accuracy: 0.97 - ETA: 0s - loss: 0.0772 - accuracy: 0.97 - 4s 3ms/step - loss: 0.0775 - accuracy: 0.9761 - val_loss: 0.0593 - val_accuracy: 0.9830\n",
      "Epoch 3/3\n",
      "1500/1500 [==============================] - ETA: 2:39 - loss: 0.0220 - accuracy: 1.00 - ETA: 10s - loss: 0.0807 - accuracy: 0.9810 - ETA: 6s - loss: 0.0848 - accuracy: 0.977 - ETA: 5s - loss: 0.0769 - accuracy: 0.97 - ETA: 5s - loss: 0.0738 - accuracy: 0.97 - ETA: 4s - loss: 0.0680 - accuracy: 0.97 - ETA: 4s - loss: 0.0696 - accuracy: 0.97 - ETA: 4s - loss: 0.0704 - accuracy: 0.97 - ETA: 3s - loss: 0.0720 - accuracy: 0.97 - ETA: 3s - loss: 0.0732 - accuracy: 0.97 - ETA: 3s - loss: 0.0726 - accuracy: 0.97 - ETA: 3s - loss: 0.0705 - accuracy: 0.97 - ETA: 3s - loss: 0.0711 - accuracy: 0.97 - ETA: 3s - loss: 0.0720 - accuracy: 0.97 - ETA: 3s - loss: 0.0730 - accuracy: 0.97 - ETA: 3s - loss: 0.0716 - accuracy: 0.97 - ETA: 3s - loss: 0.0710 - accuracy: 0.97 - ETA: 2s - loss: 0.0707 - accuracy: 0.97 - ETA: 2s - loss: 0.0701 - accuracy: 0.97 - ETA: 2s - loss: 0.0696 - accuracy: 0.97 - ETA: 2s - loss: 0.0684 - accuracy: 0.97 - ETA: 2s - loss: 0.0669 - accuracy: 0.97 - ETA: 2s - loss: 0.0669 - accuracy: 0.97 - ETA: 2s - loss: 0.0674 - accuracy: 0.97 - ETA: 2s - loss: 0.0668 - accuracy: 0.97 - ETA: 2s - loss: 0.0661 - accuracy: 0.97 - ETA: 2s - loss: 0.0669 - accuracy: 0.97 - ETA: 2s - loss: 0.0658 - accuracy: 0.97 - ETA: 2s - loss: 0.0653 - accuracy: 0.98 - ETA: 2s - loss: 0.0646 - accuracy: 0.98 - ETA: 2s - loss: 0.0645 - accuracy: 0.98 - ETA: 2s - loss: 0.0640 - accuracy: 0.98 - ETA: 2s - loss: 0.0637 - accuracy: 0.98 - ETA: 1s - loss: 0.0630 - accuracy: 0.98 - ETA: 1s - loss: 0.0626 - accuracy: 0.98 - ETA: 1s - loss: 0.0622 - accuracy: 0.98 - ETA: 1s - loss: 0.0621 - accuracy: 0.98 - ETA: 1s - loss: 0.0620 - accuracy: 0.98 - ETA: 1s - loss: 0.0618 - accuracy: 0.98 - ETA: 1s - loss: 0.0631 - accuracy: 0.98 - ETA: 1s - loss: 0.0630 - accuracy: 0.98 - ETA: 1s - loss: 0.0629 - accuracy: 0.98 - ETA: 1s - loss: 0.0633 - accuracy: 0.98 - ETA: 1s - loss: 0.0630 - accuracy: 0.98 - ETA: 1s - loss: 0.0624 - accuracy: 0.98 - ETA: 1s - loss: 0.0625 - accuracy: 0.98 - ETA: 1s - loss: 0.0629 - accuracy: 0.98 - ETA: 1s - loss: 0.0633 - accuracy: 0.98 - ETA: 1s - loss: 0.0632 - accuracy: 0.98 - ETA: 1s - loss: 0.0630 - accuracy: 0.98 - ETA: 1s - loss: 0.0630 - accuracy: 0.98 - ETA: 0s - loss: 0.0633 - accuracy: 0.98 - ETA: 0s - loss: 0.0638 - accuracy: 0.97 - ETA: 0s - loss: 0.0632 - accuracy: 0.98 - ETA: 0s - loss: 0.0635 - accuracy: 0.97 - ETA: 0s - loss: 0.0634 - accuracy: 0.98 - ETA: 0s - loss: 0.0634 - accuracy: 0.98 - ETA: 0s - loss: 0.0638 - accuracy: 0.97 - ETA: 0s - loss: 0.0636 - accuracy: 0.97 - ETA: 0s - loss: 0.0631 - accuracy: 0.98 - ETA: 0s - loss: 0.0635 - accuracy: 0.98 - ETA: 0s - loss: 0.0638 - accuracy: 0.97 - ETA: 0s - loss: 0.0641 - accuracy: 0.97 - ETA: 0s - loss: 0.0640 - accuracy: 0.97 - ETA: 0s - loss: 0.0635 - accuracy: 0.98 - ETA: 0s - loss: 0.0633 - accuracy: 0.98 - ETA: 0s - loss: 0.0640 - accuracy: 0.97 - ETA: 0s - loss: 0.0639 - accuracy: 0.97 - ETA: 0s - loss: 0.0640 - accuracy: 0.97 - 4s 3ms/step - loss: 0.0639 - accuracy: 0.9798 - val_loss: 0.0500 - val_accuracy: 0.9858\n"
     ]
    },
    {
     "data": {
      "text/html": [
       "<span style=\"color:#4527A0\"><h1 style=\"font-size:18px\">Trial complete</h1></span>"
      ],
      "text/plain": [
       "<IPython.core.display.HTML object>"
      ]
     },
     "metadata": {},
     "output_type": "display_data"
    },
    {
     "data": {
      "text/html": [
       "<span style=\"color:#4527A0\"><h1 style=\"font-size:18px\">Trial summary</h1></span>"
      ],
      "text/plain": [
       "<IPython.core.display.HTML object>"
      ]
     },
     "metadata": {},
     "output_type": "display_data"
    },
    {
     "data": {
      "text/html": [
       "<span style=\"color:cyan\"> |-Trial ID: 139266aa14178a04068a89f0ea9935e8</span>"
      ],
      "text/plain": [
       "<IPython.core.display.HTML object>"
      ]
     },
     "metadata": {},
     "output_type": "display_data"
    },
    {
     "data": {
      "text/html": [
       "<span style=\"color:cyan\"> |-Score: 0.05001525429360724</span>"
      ],
      "text/plain": [
       "<IPython.core.display.HTML object>"
      ]
     },
     "metadata": {},
     "output_type": "display_data"
    },
    {
     "data": {
      "text/html": [
       "<span style=\"color:cyan\"> |-Best step: 0</span>"
      ],
      "text/plain": [
       "<IPython.core.display.HTML object>"
      ]
     },
     "metadata": {},
     "output_type": "display_data"
    },
    {
     "data": {
      "text/html": [
       "<span style=\"color:#7E57C2\"><h2 style=\"font-size:16px\">Hyperparameters:</h2></span>"
      ],
      "text/plain": [
       "<IPython.core.display.HTML object>"
      ]
     },
     "metadata": {},
     "output_type": "display_data"
    },
    {
     "data": {
      "text/html": [
       "<span style=\"color:cyan\"> |-classification_head_1/dropout_rate: 0.5</span>"
      ],
      "text/plain": [
       "<IPython.core.display.HTML object>"
      ]
     },
     "metadata": {},
     "output_type": "display_data"
    },
    {
     "data": {
      "text/html": [
       "<span style=\"color:blue\"> |-classification_head_1/spatial_reduction_1/reduction_type: flatten</span>"
      ],
      "text/plain": [
       "<IPython.core.display.HTML object>"
      ]
     },
     "metadata": {},
     "output_type": "display_data"
    },
    {
     "data": {
      "text/html": [
       "<span style=\"color:cyan\"> |-dense_block_1/dropout_rate: 0</span>"
      ],
      "text/plain": [
       "<IPython.core.display.HTML object>"
      ]
     },
     "metadata": {},
     "output_type": "display_data"
    },
    {
     "data": {
      "text/html": [
       "<span style=\"color:blue\"> |-dense_block_1/num_layers: 1</span>"
      ],
      "text/plain": [
       "<IPython.core.display.HTML object>"
      ]
     },
     "metadata": {},
     "output_type": "display_data"
    },
    {
     "data": {
      "text/html": [
       "<span style=\"color:cyan\"> |-dense_block_1/units_0: 128</span>"
      ],
      "text/plain": [
       "<IPython.core.display.HTML object>"
      ]
     },
     "metadata": {},
     "output_type": "display_data"
    },
    {
     "data": {
      "text/html": [
       "<span style=\"color:blue\"> |-dense_block_1/use_batchnorm: False</span>"
      ],
      "text/plain": [
       "<IPython.core.display.HTML object>"
      ]
     },
     "metadata": {},
     "output_type": "display_data"
    },
    {
     "data": {
      "text/html": [
       "<span style=\"color:cyan\"> |-image_block_1/augment: False</span>"
      ],
      "text/plain": [
       "<IPython.core.display.HTML object>"
      ]
     },
     "metadata": {},
     "output_type": "display_data"
    },
    {
     "data": {
      "text/html": [
       "<span style=\"color:blue\"> |-image_block_1/block_type: vanilla</span>"
      ],
      "text/plain": [
       "<IPython.core.display.HTML object>"
      ]
     },
     "metadata": {},
     "output_type": "display_data"
    },
    {
     "data": {
      "text/html": [
       "<span style=\"color:cyan\"> |-image_block_1/conv_block_1/dropout_rate: 0.25</span>"
      ],
      "text/plain": [
       "<IPython.core.display.HTML object>"
      ]
     },
     "metadata": {},
     "output_type": "display_data"
    },
    {
     "data": {
      "text/html": [
       "<span style=\"color:blue\"> |-image_block_1/conv_block_1/filters_0_0: 32</span>"
      ],
      "text/plain": [
       "<IPython.core.display.HTML object>"
      ]
     },
     "metadata": {},
     "output_type": "display_data"
    },
    {
     "data": {
      "text/html": [
       "<span style=\"color:cyan\"> |-image_block_1/conv_block_1/filters_0_1: 64</span>"
      ],
      "text/plain": [
       "<IPython.core.display.HTML object>"
      ]
     },
     "metadata": {},
     "output_type": "display_data"
    },
    {
     "data": {
      "text/html": [
       "<span style=\"color:blue\"> |-image_block_1/conv_block_1/kernel_size: 3</span>"
      ],
      "text/plain": [
       "<IPython.core.display.HTML object>"
      ]
     },
     "metadata": {},
     "output_type": "display_data"
    },
    {
     "data": {
      "text/html": [
       "<span style=\"color:cyan\"> |-image_block_1/conv_block_1/max_pooling: True</span>"
      ],
      "text/plain": [
       "<IPython.core.display.HTML object>"
      ]
     },
     "metadata": {},
     "output_type": "display_data"
    },
    {
     "data": {
      "text/html": [
       "<span style=\"color:blue\"> |-image_block_1/conv_block_1/num_blocks: 1</span>"
      ],
      "text/plain": [
       "<IPython.core.display.HTML object>"
      ]
     },
     "metadata": {},
     "output_type": "display_data"
    },
    {
     "data": {
      "text/html": [
       "<span style=\"color:cyan\"> |-image_block_1/conv_block_1/num_layers: 2</span>"
      ],
      "text/plain": [
       "<IPython.core.display.HTML object>"
      ]
     },
     "metadata": {},
     "output_type": "display_data"
    },
    {
     "data": {
      "text/html": [
       "<span style=\"color:blue\"> |-image_block_1/conv_block_1/separable: False</span>"
      ],
      "text/plain": [
       "<IPython.core.display.HTML object>"
      ]
     },
     "metadata": {},
     "output_type": "display_data"
    },
    {
     "data": {
      "text/html": [
       "<span style=\"color:cyan\"> |-image_block_1/normalize: True</span>"
      ],
      "text/plain": [
       "<IPython.core.display.HTML object>"
      ]
     },
     "metadata": {},
     "output_type": "display_data"
    },
    {
     "data": {
      "text/html": [
       "<span style=\"color:blue\"> |-optimizer: adam</span>"
      ],
      "text/plain": [
       "<IPython.core.display.HTML object>"
      ]
     },
     "metadata": {},
     "output_type": "display_data"
    },
    {
     "name": "stdout",
     "output_type": "stream",
     "text": [
      "Train for 1500 steps, validate for 375 steps\n",
      "Epoch 1/3\n"
     ]
    },
    {
     "name": "stdout",
     "output_type": "stream",
     "text": [
      " 367/1500 [======>.......................] - ETA: 1:45:20 - loss: 2.6596 - accuracy: 0.093 - ETA: 35:30 - loss: 2.4285 - accuracy: 0.1771  - ETA: 21:32 - loss: 2.2384 - accuracy: 0.250 - ETA: 15:33 - loss: 2.1115 - accuracy: 0.321 - ETA: 12:13 - loss: 2.0720 - accuracy: 0.368 - ETA: 10:06 - loss: 1.8585 - accuracy: 0.426 - ETA: 8:39 - loss: 1.7877 - accuracy: 0.466 - ETA: 7:34 - loss: 1.7670 - accuracy: 0.48 - ETA: 6:45 - loss: 1.7814 - accuracy: 0.49 - ETA: 6:06 - loss: 1.7669 - accuracy: 0.50 - ETA: 5:35 - loss: 1.7339 - accuracy: 0.52 - ETA: 5:08 - loss: 1.6498 - accuracy: 0.54 - ETA: 4:47 - loss: 1.6479 - accuracy: 0.55 - ETA: 4:28 - loss: 1.5896 - accuracy: 0.56 - ETA: 4:12 - loss: 1.5507 - accuracy: 0.57 - ETA: 3:58 - loss: 1.5256 - accuracy: 0.58 - ETA: 3:46 - loss: 1.4969 - accuracy: 0.58 - ETA: 3:35 - loss: 1.4881 - accuracy: 0.59 - ETA: 3:25 - loss: 1.4473 - accuracy: 0.59 - ETA: 3:16 - loss: 1.4511 - accuracy: 0.60 - ETA: 3:08 - loss: 1.4129 - accuracy: 0.60 - ETA: 3:01 - loss: 1.4231 - accuracy: 0.60 - ETA: 2:55 - loss: 1.3903 - accuracy: 0.61 - ETA: 2:49 - loss: 1.3521 - accuracy: 0.62 - ETA: 2:43 - loss: 1.3328 - accuracy: 0.62 - ETA: 2:38 - loss: 1.2982 - accuracy: 0.63 - ETA: 2:33 - loss: 1.2610 - accuracy: 0.64 - ETA: 2:29 - loss: 1.2291 - accuracy: 0.65 - ETA: 2:25 - loss: 1.2029 - accuracy: 0.66 - ETA: 2:21 - loss: 1.1791 - accuracy: 0.66 - ETA: 2:17 - loss: 1.1523 - accuracy: 0.67 - ETA: 2:14 - loss: 1.1266 - accuracy: 0.68 - ETA: 2:11 - loss: 1.1033 - accuracy: 0.68 - ETA: 2:08 - loss: 1.0856 - accuracy: 0.69 - ETA: 2:05 - loss: 1.0637 - accuracy: 0.69 - ETA: 2:03 - loss: 1.0494 - accuracy: 0.70 - ETA: 2:00 - loss: 1.0314 - accuracy: 0.70 - ETA: 1:58 - loss: 1.0144 - accuracy: 0.71 - ETA: 1:55 - loss: 0.9989 - accuracy: 0.71 - ETA: 1:53 - loss: 0.9813 - accuracy: 0.72 - ETA: 1:51 - loss: 0.9600 - accuracy: 0.72 - ETA: 1:49 - loss: 0.9473 - accuracy: 0.72 - ETA: 1:47 - loss: 0.9370 - accuracy: 0.73 - ETA: 1:46 - loss: 0.9281 - accuracy: 0.73 - ETA: 1:44 - loss: 0.9233 - accuracy: 0.73 - ETA: 1:42 - loss: 0.9128 - accuracy: 0.73 - ETA: 1:41 - loss: 0.8986 - accuracy: 0.74 - ETA: 1:39 - loss: 0.8911 - accuracy: 0.74 - ETA: 1:38 - loss: 0.8793 - accuracy: 0.74 - ETA: 1:37 - loss: 0.8708 - accuracy: 0.75 - ETA: 1:35 - loss: 0.8581 - accuracy: 0.75 - ETA: 1:34 - loss: 0.8507 - accuracy: 0.75 - ETA: 1:33 - loss: 0.8419 - accuracy: 0.75 - ETA: 1:32 - loss: 0.8320 - accuracy: 0.75 - ETA: 1:30 - loss: 0.8229 - accuracy: 0.76 - ETA: 1:29 - loss: 0.8190 - accuracy: 0.76 - ETA: 1:28 - loss: 0.8115 - accuracy: 0.76 - ETA: 1:27 - loss: 0.8046 - accuracy: 0.76 - ETA: 1:26 - loss: 0.8054 - accuracy: 0.76 - ETA: 1:25 - loss: 0.8000 - accuracy: 0.77 - ETA: 1:24 - loss: 0.7914 - accuracy: 0.77 - ETA: 1:23 - loss: 0.7841 - accuracy: 0.77 - ETA: 1:23 - loss: 0.7780 - accuracy: 0.77 - ETA: 1:22 - loss: 0.7705 - accuracy: 0.77 - ETA: 1:21 - loss: 0.7628 - accuracy: 0.78 - ETA: 1:20 - loss: 0.7598 - accuracy: 0.78 - ETA: 1:19 - loss: 0.7546 - accuracy: 0.78 - ETA: 1:19 - loss: 0.7465 - accuracy: 0.78 - ETA: 1:18 - loss: 0.7385 - accuracy: 0.78 - ETA: 1:17 - loss: 0.7301 - accuracy: 0.79 - ETA: 1:16 - loss: 0.7300 - accuracy: 0.79 - ETA: 1:16 - loss: 0.7221 - accuracy: 0.79 - ETA: 1:15 - loss: 0.7175 - accuracy: 0.79 - ETA: 1:14 - loss: 0.7144 - accuracy: 0.79 - ETA: 1:14 - loss: 0.7082 - accuracy: 0.79 - ETA: 1:13 - loss: 0.7021 - accuracy: 0.79 - ETA: 1:13 - loss: 0.6956 - accuracy: 0.79 - ETA: 1:12 - loss: 0.6921 - accuracy: 0.80 - ETA: 1:11 - loss: 0.6856 - accuracy: 0.80 - ETA: 1:11 - loss: 0.6802 - accuracy: 0.80 - ETA: 1:10 - loss: 0.6761 - accuracy: 0.80 - ETA: 1:10 - loss: 0.6714 - accuracy: 0.80 - ETA: 1:09 - loss: 0.6647 - accuracy: 0.80 - ETA: 1:09 - loss: 0.6614 - accuracy: 0.80 - ETA: 1:08 - loss: 0.6555 - accuracy: 0.80 - ETA: 1:08 - loss: 0.6534 - accuracy: 0.81 - ETA: 1:07 - loss: 0.6474 - accuracy: 0.81 - ETA: 1:07 - loss: 0.6436 - accuracy: 0.81 - ETA: 1:06 - loss: 0.6386 - accuracy: 0.81 - ETA: 1:06 - loss: 0.6369 - accuracy: 0.81 - ETA: 1:05 - loss: 0.6322 - accuracy: 0.81 - ETA: 1:05 - loss: 0.6292 - accuracy: 0.81 - ETA: 1:05 - loss: 0.6265 - accuracy: 0.81 - ETA: 1:04 - loss: 0.6214 - accuracy: 0.81 - ETA: 1:04 - loss: 0.6159 - accuracy: 0.82 - ETA: 1:03 - loss: 0.6123 - accuracy: 0.82 - ETA: 1:03 - loss: 0.6073 - accuracy: 0.82 - ETA: 1:03 - loss: 0.6031 - accuracy: 0.82 - ETA: 1:02 - loss: 0.6006 - accuracy: 0.82 - ETA: 1:02 - loss: 0.5965 - accuracy: 0.82 - ETA: 1:01 - loss: 0.5931 - accuracy: 0.82 - ETA: 1:01 - loss: 0.5940 - accuracy: 0.82 - ETA: 1:01 - loss: 0.5900 - accuracy: 0.82 - ETA: 1:00 - loss: 0.5869 - accuracy: 0.83 - ETA: 1:00 - loss: 0.5837 - accuracy: 0.83 - ETA: 1:00 - loss: 0.5792 - accuracy: 0.83 - ETA: 59s - loss: 0.5773 - accuracy: 0.8332 - ETA: 59s - loss: 0.5748 - accuracy: 0.833 - ETA: 59s - loss: 0.5727 - accuracy: 0.834 - ETA: 58s - loss: 0.5696 - accuracy: 0.835 - ETA: 58s - loss: 0.5663 - accuracy: 0.836 - ETA: 58s - loss: 0.5640 - accuracy: 0.837 - ETA: 57s - loss: 0.5615 - accuracy: 0.837 - ETA: 57s - loss: 0.5615 - accuracy: 0.837 - ETA: 57s - loss: 0.5608 - accuracy: 0.837 - ETA: 57s - loss: 0.5593 - accuracy: 0.838 - ETA: 56s - loss: 0.5559 - accuracy: 0.839 - ETA: 56s - loss: 0.5532 - accuracy: 0.840 - ETA: 56s - loss: 0.5503 - accuracy: 0.840 - ETA: 55s - loss: 0.5482 - accuracy: 0.841 - ETA: 55s - loss: 0.5444 - accuracy: 0.842 - ETA: 55s - loss: 0.5431 - accuracy: 0.842 - ETA: 55s - loss: 0.5397 - accuracy: 0.843 - ETA: 54s - loss: 0.5385 - accuracy: 0.843 - ETA: 54s - loss: 0.5361 - accuracy: 0.844 - ETA: 54s - loss: 0.5343 - accuracy: 0.845 - ETA: 54s - loss: 0.5308 - accuracy: 0.846 - ETA: 53s - loss: 0.5305 - accuracy: 0.846 - ETA: 53s - loss: 0.5303 - accuracy: 0.846 - ETA: 53s - loss: 0.5281 - accuracy: 0.846 - ETA: 53s - loss: 0.5263 - accuracy: 0.847 - ETA: 52s - loss: 0.5241 - accuracy: 0.848 - ETA: 52s - loss: 0.5258 - accuracy: 0.848 - ETA: 52s - loss: 0.5242 - accuracy: 0.848 - ETA: 52s - loss: 0.5234 - accuracy: 0.849 - ETA: 51s - loss: 0.5223 - accuracy: 0.849 - ETA: 51s - loss: 0.5228 - accuracy: 0.849 - ETA: 51s - loss: 0.5213 - accuracy: 0.849 - ETA: 51s - loss: 0.5200 - accuracy: 0.850 - ETA: 51s - loss: 0.5190 - accuracy: 0.850 - ETA: 50s - loss: 0.5164 - accuracy: 0.850 - ETA: 50s - loss: 0.5143 - accuracy: 0.851 - ETA: 50s - loss: 0.5128 - accuracy: 0.851 - ETA: 50s - loss: 0.5112 - accuracy: 0.852 - ETA: 50s - loss: 0.5104 - accuracy: 0.852 - ETA: 49s - loss: 0.5093 - accuracy: 0.852 - ETA: 49s - loss: 0.5110 - accuracy: 0.852 - ETA: 49s - loss: 0.5113 - accuracy: 0.852 - ETA: 49s - loss: 0.5099 - accuracy: 0.852 - ETA: 49s - loss: 0.5086 - accuracy: 0.853 - ETA: 48s - loss: 0.5075 - accuracy: 0.853 - ETA: 48s - loss: 0.5054 - accuracy: 0.853 - ETA: 48s - loss: 0.5033 - accuracy: 0.854 - ETA: 48s - loss: 0.5031 - accuracy: 0.853 - ETA: 48s - loss: 0.5009 - accuracy: 0.854 - ETA: 47s - loss: 0.4986 - accuracy: 0.855 - ETA: 47s - loss: 0.4963 - accuracy: 0.855 - ETA: 47s - loss: 0.4962 - accuracy: 0.856 - ETA: 47s - loss: 0.4946 - accuracy: 0.856 - ETA: 47s - loss: 0.4937 - accuracy: 0.856 - ETA: 46s - loss: 0.4935 - accuracy: 0.856 - ETA: 46s - loss: 0.4919 - accuracy: 0.856 - ETA: 46s - loss: 0.4895 - accuracy: 0.857 - ETA: 46s - loss: 0.4874 - accuracy: 0.857 - ETA: 46s - loss: 0.4861 - accuracy: 0.858 - ETA: 46s - loss: 0.4839 - accuracy: 0.858 - ETA: 45s - loss: 0.4828 - accuracy: 0.859 - ETA: 45s - loss: 0.4807 - accuracy: 0.859 - ETA: 45s - loss: 0.4788 - accuracy: 0.860 - ETA: 45s - loss: 0.4770 - accuracy: 0.860 - ETA: 45s - loss: 0.4773 - accuracy: 0.861 - ETA: 45s - loss: 0.4762 - accuracy: 0.861 - ETA: 44s - loss: 0.4770 - accuracy: 0.861 - ETA: 44s - loss: 0.4762 - accuracy: 0.861 - ETA: 44s - loss: 0.4750 - accuracy: 0.861 - ETA: 44s - loss: 0.4741 - accuracy: 0.862 - ETA: 44s - loss: 0.4728 - accuracy: 0.862 - ETA: 44s - loss: 0.4711 - accuracy: 0.863 - ETA: 44s - loss: 0.4698 - accuracy: 0.863 - ETA: 43s - loss: 0.4693 - accuracy: 0.863 - ETA: 43s - loss: 0.4681 - accuracy: 0.863 - ETA: 43s - loss: 0.4672 - accuracy: 0.863 - ETA: 43s - loss: 0.4652 - accuracy: 0.864 - ETA: 43s - loss: 0.4639 - accuracy: 0.864 739/1500 [=============>................] - ETA: 43s - loss: 0.4623 - accuracy: 0.864 - ETA: 42s - loss: 0.4611 - accuracy: 0.865 - ETA: 42s - loss: 0.4599 - accuracy: 0.865 - ETA: 42s - loss: 0.4582 - accuracy: 0.865 - ETA: 42s - loss: 0.4563 - accuracy: 0.866 - ETA: 42s - loss: 0.4557 - accuracy: 0.867 - ETA: 42s - loss: 0.4539 - accuracy: 0.867 - ETA: 42s - loss: 0.4521 - accuracy: 0.868 - ETA: 41s - loss: 0.4549 - accuracy: 0.868 - ETA: 41s - loss: 0.4541 - accuracy: 0.868 - ETA: 41s - loss: 0.4524 - accuracy: 0.868 - ETA: 41s - loss: 0.4515 - accuracy: 0.868 - ETA: 41s - loss: 0.4499 - accuracy: 0.869 - ETA: 41s - loss: 0.4495 - accuracy: 0.869 - ETA: 41s - loss: 0.4501 - accuracy: 0.869 - ETA: 41s - loss: 0.4488 - accuracy: 0.869 - ETA: 40s - loss: 0.4494 - accuracy: 0.869 - ETA: 40s - loss: 0.4476 - accuracy: 0.870 - ETA: 40s - loss: 0.4466 - accuracy: 0.870 - ETA: 40s - loss: 0.4452 - accuracy: 0.870 - ETA: 40s - loss: 0.4441 - accuracy: 0.870 - ETA: 40s - loss: 0.4432 - accuracy: 0.871 - ETA: 40s - loss: 0.4418 - accuracy: 0.871 - ETA: 40s - loss: 0.4402 - accuracy: 0.871 - ETA: 39s - loss: 0.4389 - accuracy: 0.872 - ETA: 39s - loss: 0.4373 - accuracy: 0.872 - ETA: 39s - loss: 0.4362 - accuracy: 0.873 - ETA: 39s - loss: 0.4356 - accuracy: 0.873 - ETA: 39s - loss: 0.4338 - accuracy: 0.873 - ETA: 39s - loss: 0.4327 - accuracy: 0.873 - ETA: 39s - loss: 0.4321 - accuracy: 0.874 - ETA: 39s - loss: 0.4306 - accuracy: 0.874 - ETA: 38s - loss: 0.4293 - accuracy: 0.875 - ETA: 38s - loss: 0.4280 - accuracy: 0.875 - ETA: 38s - loss: 0.4273 - accuracy: 0.875 - ETA: 38s - loss: 0.4263 - accuracy: 0.875 - ETA: 38s - loss: 0.4249 - accuracy: 0.876 - ETA: 38s - loss: 0.4234 - accuracy: 0.876 - ETA: 38s - loss: 0.4229 - accuracy: 0.876 - ETA: 38s - loss: 0.4221 - accuracy: 0.877 - ETA: 37s - loss: 0.4215 - accuracy: 0.877 - ETA: 37s - loss: 0.4209 - accuracy: 0.877 - ETA: 37s - loss: 0.4195 - accuracy: 0.877 - ETA: 37s - loss: 0.4189 - accuracy: 0.877 - ETA: 37s - loss: 0.4187 - accuracy: 0.877 - ETA: 37s - loss: 0.4179 - accuracy: 0.877 - ETA: 37s - loss: 0.4167 - accuracy: 0.878 - ETA: 37s - loss: 0.4173 - accuracy: 0.878 - ETA: 37s - loss: 0.4168 - accuracy: 0.878 - ETA: 36s - loss: 0.4154 - accuracy: 0.878 - ETA: 36s - loss: 0.4143 - accuracy: 0.879 - ETA: 36s - loss: 0.4131 - accuracy: 0.879 - ETA: 36s - loss: 0.4120 - accuracy: 0.879 - ETA: 36s - loss: 0.4108 - accuracy: 0.880 - ETA: 36s - loss: 0.4094 - accuracy: 0.880 - ETA: 36s - loss: 0.4083 - accuracy: 0.880 - ETA: 36s - loss: 0.4080 - accuracy: 0.880 - ETA: 36s - loss: 0.4081 - accuracy: 0.881 - ETA: 35s - loss: 0.4077 - accuracy: 0.881 - ETA: 35s - loss: 0.4064 - accuracy: 0.881 - ETA: 35s - loss: 0.4058 - accuracy: 0.881 - ETA: 35s - loss: 0.4047 - accuracy: 0.881 - ETA: 35s - loss: 0.4046 - accuracy: 0.881 - ETA: 35s - loss: 0.4034 - accuracy: 0.882 - ETA: 35s - loss: 0.4033 - accuracy: 0.882 - ETA: 35s - loss: 0.4025 - accuracy: 0.882 - ETA: 35s - loss: 0.4015 - accuracy: 0.882 - ETA: 35s - loss: 0.4003 - accuracy: 0.883 - ETA: 34s - loss: 0.3992 - accuracy: 0.883 - ETA: 34s - loss: 0.3983 - accuracy: 0.883 - ETA: 34s - loss: 0.3972 - accuracy: 0.884 - ETA: 34s - loss: 0.3960 - accuracy: 0.884 - ETA: 34s - loss: 0.3949 - accuracy: 0.884 - ETA: 34s - loss: 0.3938 - accuracy: 0.885 - ETA: 34s - loss: 0.3929 - accuracy: 0.885 - ETA: 34s - loss: 0.3920 - accuracy: 0.885 - ETA: 34s - loss: 0.3911 - accuracy: 0.885 - ETA: 33s - loss: 0.3905 - accuracy: 0.886 - ETA: 33s - loss: 0.3898 - accuracy: 0.886 - ETA: 33s - loss: 0.3909 - accuracy: 0.886 - ETA: 33s - loss: 0.3904 - accuracy: 0.886 - ETA: 33s - loss: 0.3900 - accuracy: 0.886 - ETA: 33s - loss: 0.3904 - accuracy: 0.886 - ETA: 33s - loss: 0.3895 - accuracy: 0.886 - ETA: 33s - loss: 0.3882 - accuracy: 0.887 - ETA: 33s - loss: 0.3876 - accuracy: 0.887 - ETA: 33s - loss: 0.3871 - accuracy: 0.887 - ETA: 33s - loss: 0.3863 - accuracy: 0.887 - ETA: 32s - loss: 0.3872 - accuracy: 0.887 - ETA: 32s - loss: 0.3870 - accuracy: 0.887 - ETA: 32s - loss: 0.3877 - accuracy: 0.887 - ETA: 32s - loss: 0.3874 - accuracy: 0.887 - ETA: 32s - loss: 0.3877 - accuracy: 0.887 - ETA: 32s - loss: 0.3878 - accuracy: 0.887 - ETA: 32s - loss: 0.3882 - accuracy: 0.887 - ETA: 32s - loss: 0.3873 - accuracy: 0.887 - ETA: 32s - loss: 0.3867 - accuracy: 0.887 - ETA: 32s - loss: 0.3862 - accuracy: 0.888 - ETA: 31s - loss: 0.3854 - accuracy: 0.888 - ETA: 31s - loss: 0.3850 - accuracy: 0.888 - ETA: 31s - loss: 0.3843 - accuracy: 0.888 - ETA: 31s - loss: 0.3840 - accuracy: 0.889 - ETA: 31s - loss: 0.3829 - accuracy: 0.889 - ETA: 31s - loss: 0.3822 - accuracy: 0.889 - ETA: 31s - loss: 0.3815 - accuracy: 0.889 - ETA: 31s - loss: 0.3805 - accuracy: 0.890 - ETA: 31s - loss: 0.3794 - accuracy: 0.890 - ETA: 31s - loss: 0.3785 - accuracy: 0.890 - ETA: 31s - loss: 0.3780 - accuracy: 0.890 - ETA: 30s - loss: 0.3770 - accuracy: 0.891 - ETA: 30s - loss: 0.3761 - accuracy: 0.891 - ETA: 30s - loss: 0.3751 - accuracy: 0.891 - ETA: 30s - loss: 0.3741 - accuracy: 0.891 - ETA: 30s - loss: 0.3730 - accuracy: 0.892 - ETA: 30s - loss: 0.3723 - accuracy: 0.892 - ETA: 30s - loss: 0.3716 - accuracy: 0.892 - ETA: 30s - loss: 0.3706 - accuracy: 0.892 - ETA: 30s - loss: 0.3698 - accuracy: 0.893 - ETA: 30s - loss: 0.3706 - accuracy: 0.893 - ETA: 30s - loss: 0.3701 - accuracy: 0.893 - ETA: 30s - loss: 0.3703 - accuracy: 0.893 - ETA: 29s - loss: 0.3697 - accuracy: 0.893 - ETA: 29s - loss: 0.3692 - accuracy: 0.893 - ETA: 29s - loss: 0.3683 - accuracy: 0.893 - ETA: 29s - loss: 0.3673 - accuracy: 0.894 - ETA: 29s - loss: 0.3667 - accuracy: 0.894 - ETA: 29s - loss: 0.3661 - accuracy: 0.894 - ETA: 29s - loss: 0.3655 - accuracy: 0.894 - ETA: 29s - loss: 0.3652 - accuracy: 0.894 - ETA: 29s - loss: 0.3647 - accuracy: 0.894 - ETA: 29s - loss: 0.3644 - accuracy: 0.894 - ETA: 29s - loss: 0.3642 - accuracy: 0.894 - ETA: 28s - loss: 0.3637 - accuracy: 0.895 - ETA: 28s - loss: 0.3664 - accuracy: 0.895 - ETA: 28s - loss: 0.3659 - accuracy: 0.895 - ETA: 28s - loss: 0.3651 - accuracy: 0.895 - ETA: 28s - loss: 0.3643 - accuracy: 0.895 - ETA: 28s - loss: 0.3639 - accuracy: 0.895 - ETA: 28s - loss: 0.3633 - accuracy: 0.895 - ETA: 28s - loss: 0.3633 - accuracy: 0.896 - ETA: 28s - loss: 0.3629 - accuracy: 0.896 - ETA: 28s - loss: 0.3642 - accuracy: 0.896 - ETA: 28s - loss: 0.3634 - accuracy: 0.896 - ETA: 28s - loss: 0.3633 - accuracy: 0.896 - ETA: 27s - loss: 0.3640 - accuracy: 0.896 - ETA: 27s - loss: 0.3632 - accuracy: 0.896 - ETA: 27s - loss: 0.3625 - accuracy: 0.897 - ETA: 27s - loss: 0.3625 - accuracy: 0.897 - ETA: 27s - loss: 0.3615 - accuracy: 0.897 - ETA: 27s - loss: 0.3606 - accuracy: 0.897 - ETA: 27s - loss: 0.3608 - accuracy: 0.897 - ETA: 27s - loss: 0.3605 - accuracy: 0.897 - ETA: 27s - loss: 0.3597 - accuracy: 0.897 - ETA: 27s - loss: 0.3590 - accuracy: 0.898 - ETA: 27s - loss: 0.3583 - accuracy: 0.898 - ETA: 27s - loss: 0.3577 - accuracy: 0.898 - ETA: 26s - loss: 0.3572 - accuracy: 0.898 - ETA: 26s - loss: 0.3565 - accuracy: 0.898 - ETA: 26s - loss: 0.3559 - accuracy: 0.898 - ETA: 26s - loss: 0.3557 - accuracy: 0.899 - ETA: 26s - loss: 0.3553 - accuracy: 0.899 - ETA: 26s - loss: 0.3548 - accuracy: 0.899 - ETA: 26s - loss: 0.3542 - accuracy: 0.899 - ETA: 26s - loss: 0.3540 - accuracy: 0.899 - ETA: 26s - loss: 0.3537 - accuracy: 0.899 - ETA: 26s - loss: 0.3531 - accuracy: 0.899 - ETA: 26s - loss: 0.3523 - accuracy: 0.900 - ETA: 26s - loss: 0.3526 - accuracy: 0.900 - ETA: 26s - loss: 0.3530 - accuracy: 0.900 - ETA: 25s - loss: 0.3524 - accuracy: 0.900 - ETA: 25s - loss: 0.3518 - accuracy: 0.900 - ETA: 25s - loss: 0.3515 - accuracy: 0.900 - ETA: 25s - loss: 0.3516 - accuracy: 0.900 - ETA: 25s - loss: 0.3509 - accuracy: 0.900 - ETA: 25s - loss: 0.3504 - accuracy: 0.900 - ETA: 25s - loss: 0.3499 - accuracy: 0.900 - ETA: 25s - loss: 0.3492 - accuracy: 0.901 - ETA: 25s - loss: 0.3490 - accuracy: 0.901 - ETA: 25s - loss: 0.3484 - accuracy: 0.901 - ETA: 25s - loss: 0.3478 - accuracy: 0.901 - ETA: 25s - loss: 0.3470 - accuracy: 0.901 - ETA: 25s - loss: 0.3465 - accuracy: 0.901 - ETA: 24s - loss: 0.3457 - accuracy: 0.901 - ETA: 24s - loss: 0.3454 - accuracy: 0.902 - ETA: 24s - loss: 0.3446 - accuracy: 0.902 - ETA: 24s - loss: 0.3444 - accuracy: 0.9022"
     ]
    },
    {
     "name": "stdout",
     "output_type": "stream",
     "text": [
      "1111/1500 [=====================>........] - ETA: 24s - loss: 0.3438 - accuracy: 0.902 - ETA: 24s - loss: 0.3434 - accuracy: 0.902 - ETA: 24s - loss: 0.3433 - accuracy: 0.902 - ETA: 24s - loss: 0.3427 - accuracy: 0.902 - ETA: 24s - loss: 0.3431 - accuracy: 0.902 - ETA: 24s - loss: 0.3425 - accuracy: 0.903 - ETA: 24s - loss: 0.3420 - accuracy: 0.903 - ETA: 24s - loss: 0.3416 - accuracy: 0.903 - ETA: 24s - loss: 0.3419 - accuracy: 0.903 - ETA: 23s - loss: 0.3416 - accuracy: 0.903 - ETA: 23s - loss: 0.3410 - accuracy: 0.903 - ETA: 23s - loss: 0.3402 - accuracy: 0.903 - ETA: 23s - loss: 0.3398 - accuracy: 0.903 - ETA: 23s - loss: 0.3395 - accuracy: 0.904 - ETA: 23s - loss: 0.3404 - accuracy: 0.904 - ETA: 23s - loss: 0.3400 - accuracy: 0.904 - ETA: 23s - loss: 0.3395 - accuracy: 0.904 - ETA: 23s - loss: 0.3399 - accuracy: 0.904 - ETA: 23s - loss: 0.3395 - accuracy: 0.904 - ETA: 23s - loss: 0.3389 - accuracy: 0.904 - ETA: 23s - loss: 0.3385 - accuracy: 0.905 - ETA: 23s - loss: 0.3380 - accuracy: 0.905 - ETA: 22s - loss: 0.3376 - accuracy: 0.905 - ETA: 22s - loss: 0.3371 - accuracy: 0.905 - ETA: 22s - loss: 0.3365 - accuracy: 0.905 - ETA: 22s - loss: 0.3363 - accuracy: 0.905 - ETA: 22s - loss: 0.3356 - accuracy: 0.905 - ETA: 22s - loss: 0.3348 - accuracy: 0.906 - ETA: 22s - loss: 0.3343 - accuracy: 0.906 - ETA: 22s - loss: 0.3338 - accuracy: 0.906 - ETA: 22s - loss: 0.3333 - accuracy: 0.906 - ETA: 22s - loss: 0.3329 - accuracy: 0.906 - ETA: 22s - loss: 0.3323 - accuracy: 0.906 - ETA: 22s - loss: 0.3321 - accuracy: 0.906 - ETA: 22s - loss: 0.3327 - accuracy: 0.906 - ETA: 22s - loss: 0.3320 - accuracy: 0.906 - ETA: 21s - loss: 0.3315 - accuracy: 0.907 - ETA: 21s - loss: 0.3314 - accuracy: 0.907 - ETA: 21s - loss: 0.3308 - accuracy: 0.907 - ETA: 21s - loss: 0.3309 - accuracy: 0.907 - ETA: 21s - loss: 0.3304 - accuracy: 0.907 - ETA: 21s - loss: 0.3297 - accuracy: 0.907 - ETA: 21s - loss: 0.3298 - accuracy: 0.907 - ETA: 21s - loss: 0.3293 - accuracy: 0.907 - ETA: 21s - loss: 0.3289 - accuracy: 0.907 - ETA: 21s - loss: 0.3286 - accuracy: 0.907 - ETA: 21s - loss: 0.3285 - accuracy: 0.907 - ETA: 21s - loss: 0.3282 - accuracy: 0.907 - ETA: 21s - loss: 0.3280 - accuracy: 0.907 - ETA: 21s - loss: 0.3279 - accuracy: 0.908 - ETA: 20s - loss: 0.3278 - accuracy: 0.908 - ETA: 20s - loss: 0.3277 - accuracy: 0.908 - ETA: 20s - loss: 0.3270 - accuracy: 0.908 - ETA: 20s - loss: 0.3266 - accuracy: 0.908 - ETA: 20s - loss: 0.3268 - accuracy: 0.908 - ETA: 20s - loss: 0.3266 - accuracy: 0.908 - ETA: 20s - loss: 0.3261 - accuracy: 0.908 - ETA: 20s - loss: 0.3260 - accuracy: 0.908 - ETA: 20s - loss: 0.3256 - accuracy: 0.908 - ETA: 20s - loss: 0.3252 - accuracy: 0.908 - ETA: 20s - loss: 0.3247 - accuracy: 0.908 - ETA: 20s - loss: 0.3242 - accuracy: 0.909 - ETA: 20s - loss: 0.3239 - accuracy: 0.909 - ETA: 20s - loss: 0.3239 - accuracy: 0.909 - ETA: 19s - loss: 0.3233 - accuracy: 0.909 - ETA: 19s - loss: 0.3230 - accuracy: 0.909 - ETA: 19s - loss: 0.3227 - accuracy: 0.909 - ETA: 19s - loss: 0.3221 - accuracy: 0.909 - ETA: 19s - loss: 0.3220 - accuracy: 0.909 - ETA: 19s - loss: 0.3215 - accuracy: 0.909 - ETA: 19s - loss: 0.3211 - accuracy: 0.909 - ETA: 19s - loss: 0.3205 - accuracy: 0.910 - ETA: 19s - loss: 0.3202 - accuracy: 0.910 - ETA: 19s - loss: 0.3197 - accuracy: 0.910 - ETA: 19s - loss: 0.3194 - accuracy: 0.910 - ETA: 19s - loss: 0.3190 - accuracy: 0.910 - ETA: 19s - loss: 0.3188 - accuracy: 0.910 - ETA: 19s - loss: 0.3184 - accuracy: 0.910 - ETA: 18s - loss: 0.3183 - accuracy: 0.910 - ETA: 18s - loss: 0.3179 - accuracy: 0.910 - ETA: 18s - loss: 0.3179 - accuracy: 0.910 - ETA: 18s - loss: 0.3173 - accuracy: 0.910 - ETA: 18s - loss: 0.3172 - accuracy: 0.911 - ETA: 18s - loss: 0.3170 - accuracy: 0.911 - ETA: 18s - loss: 0.3170 - accuracy: 0.911 - ETA: 18s - loss: 0.3169 - accuracy: 0.911 - ETA: 18s - loss: 0.3169 - accuracy: 0.911 - ETA: 18s - loss: 0.3164 - accuracy: 0.911 - ETA: 18s - loss: 0.3162 - accuracy: 0.911 - ETA: 18s - loss: 0.3160 - accuracy: 0.911 - ETA: 18s - loss: 0.3156 - accuracy: 0.911 - ETA: 18s - loss: 0.3150 - accuracy: 0.911 - ETA: 18s - loss: 0.3146 - accuracy: 0.911 - ETA: 17s - loss: 0.3157 - accuracy: 0.911 - ETA: 17s - loss: 0.3155 - accuracy: 0.911 - ETA: 17s - loss: 0.3152 - accuracy: 0.912 - ETA: 17s - loss: 0.3148 - accuracy: 0.912 - ETA: 17s - loss: 0.3146 - accuracy: 0.912 - ETA: 17s - loss: 0.3147 - accuracy: 0.912 - ETA: 17s - loss: 0.3144 - accuracy: 0.912 - ETA: 17s - loss: 0.3143 - accuracy: 0.912 - ETA: 17s - loss: 0.3142 - accuracy: 0.912 - ETA: 17s - loss: 0.3138 - accuracy: 0.912 - ETA: 17s - loss: 0.3137 - accuracy: 0.912 - ETA: 17s - loss: 0.3132 - accuracy: 0.912 - ETA: 17s - loss: 0.3128 - accuracy: 0.912 - ETA: 17s - loss: 0.3123 - accuracy: 0.912 - ETA: 17s - loss: 0.3119 - accuracy: 0.912 - ETA: 16s - loss: 0.3114 - accuracy: 0.913 - ETA: 16s - loss: 0.3109 - accuracy: 0.913 - ETA: 16s - loss: 0.3105 - accuracy: 0.913 - ETA: 16s - loss: 0.3111 - accuracy: 0.913 - ETA: 16s - loss: 0.3112 - accuracy: 0.913 - ETA: 16s - loss: 0.3109 - accuracy: 0.913 - ETA: 16s - loss: 0.3107 - accuracy: 0.913 - ETA: 16s - loss: 0.3103 - accuracy: 0.913 - ETA: 16s - loss: 0.3099 - accuracy: 0.913 - ETA: 16s - loss: 0.3096 - accuracy: 0.913 - ETA: 16s - loss: 0.3092 - accuracy: 0.913 - ETA: 16s - loss: 0.3088 - accuracy: 0.913 - ETA: 16s - loss: 0.3087 - accuracy: 0.913 - ETA: 16s - loss: 0.3085 - accuracy: 0.913 - ETA: 16s - loss: 0.3081 - accuracy: 0.914 - ETA: 15s - loss: 0.3080 - accuracy: 0.913 - ETA: 15s - loss: 0.3078 - accuracy: 0.914 - ETA: 15s - loss: 0.3075 - accuracy: 0.914 - ETA: 15s - loss: 0.3073 - accuracy: 0.914 - ETA: 15s - loss: 0.3067 - accuracy: 0.914 - ETA: 15s - loss: 0.3063 - accuracy: 0.914 - ETA: 15s - loss: 0.3060 - accuracy: 0.914 - ETA: 15s - loss: 0.3056 - accuracy: 0.914 - ETA: 15s - loss: 0.3054 - accuracy: 0.914 - ETA: 15s - loss: 0.3051 - accuracy: 0.914 - ETA: 15s - loss: 0.3048 - accuracy: 0.914 - ETA: 15s - loss: 0.3048 - accuracy: 0.914 - ETA: 15s - loss: 0.3048 - accuracy: 0.914 - ETA: 15s - loss: 0.3043 - accuracy: 0.914 - ETA: 15s - loss: 0.3042 - accuracy: 0.915 - ETA: 14s - loss: 0.3040 - accuracy: 0.915 - ETA: 14s - loss: 0.3038 - accuracy: 0.915 - ETA: 14s - loss: 0.3035 - accuracy: 0.915 - ETA: 14s - loss: 0.3032 - accuracy: 0.915 - ETA: 14s - loss: 0.3028 - accuracy: 0.915 - ETA: 14s - loss: 0.3023 - accuracy: 0.915 - ETA: 14s - loss: 0.3021 - accuracy: 0.915 - ETA: 14s - loss: 0.3015 - accuracy: 0.915 - ETA: 14s - loss: 0.3011 - accuracy: 0.915 - ETA: 14s - loss: 0.3008 - accuracy: 0.916 - ETA: 14s - loss: 0.3005 - accuracy: 0.916 - ETA: 14s - loss: 0.3001 - accuracy: 0.916 - ETA: 14s - loss: 0.2999 - accuracy: 0.916 - ETA: 14s - loss: 0.2997 - accuracy: 0.916 - ETA: 14s - loss: 0.2994 - accuracy: 0.916 - ETA: 13s - loss: 0.2990 - accuracy: 0.916 - ETA: 13s - loss: 0.2988 - accuracy: 0.916 - ETA: 13s - loss: 0.2987 - accuracy: 0.916 - ETA: 13s - loss: 0.2984 - accuracy: 0.916 - ETA: 13s - loss: 0.2979 - accuracy: 0.916 - ETA: 13s - loss: 0.2978 - accuracy: 0.917 - ETA: 13s - loss: 0.2973 - accuracy: 0.917 - ETA: 13s - loss: 0.2967 - accuracy: 0.917 - ETA: 13s - loss: 0.2963 - accuracy: 0.917 - ETA: 13s - loss: 0.2960 - accuracy: 0.917 - ETA: 13s - loss: 0.2960 - accuracy: 0.917 - ETA: 13s - loss: 0.2955 - accuracy: 0.917 - ETA: 13s - loss: 0.2950 - accuracy: 0.917 - ETA: 13s - loss: 0.2949 - accuracy: 0.917 - ETA: 13s - loss: 0.2945 - accuracy: 0.917 - ETA: 12s - loss: 0.2945 - accuracy: 0.917 - ETA: 12s - loss: 0.2941 - accuracy: 0.918 - ETA: 12s - loss: 0.2936 - accuracy: 0.918 - ETA: 12s - loss: 0.2934 - accuracy: 0.918 - ETA: 12s - loss: 0.2935 - accuracy: 0.918 - ETA: 12s - loss: 0.2933 - accuracy: 0.918 - ETA: 12s - loss: 0.2935 - accuracy: 0.918 - ETA: 12s - loss: 0.2932 - accuracy: 0.918 - ETA: 12s - loss: 0.2930 - accuracy: 0.918 - ETA: 12s - loss: 0.2926 - accuracy: 0.918 - ETA: 12s - loss: 0.2922 - accuracy: 0.918 - ETA: 12s - loss: 0.2920 - accuracy: 0.918 - ETA: 12s - loss: 0.2918 - accuracy: 0.918 - ETA: 12s - loss: 0.2916 - accuracy: 0.918 - ETA: 12s - loss: 0.2913 - accuracy: 0.918 - ETA: 12s - loss: 0.2919 - accuracy: 0.918 - ETA: 11s - loss: 0.2918 - accuracy: 0.919 - ETA: 11s - loss: 0.2914 - accuracy: 0.9190"
     ]
    },
    {
     "name": "stdout",
     "output_type": "stream",
     "text": [
      "1497/1500 [============================>.] - ETA: 11s - loss: 0.2910 - accuracy: 0.919 - ETA: 11s - loss: 0.2908 - accuracy: 0.919 - ETA: 11s - loss: 0.2905 - accuracy: 0.919 - ETA: 11s - loss: 0.2900 - accuracy: 0.919 - ETA: 11s - loss: 0.2896 - accuracy: 0.919 - ETA: 11s - loss: 0.2893 - accuracy: 0.919 - ETA: 11s - loss: 0.2892 - accuracy: 0.919 - ETA: 11s - loss: 0.2888 - accuracy: 0.919 - ETA: 11s - loss: 0.2884 - accuracy: 0.919 - ETA: 11s - loss: 0.2882 - accuracy: 0.919 - ETA: 11s - loss: 0.2880 - accuracy: 0.919 - ETA: 11s - loss: 0.2876 - accuracy: 0.919 - ETA: 11s - loss: 0.2871 - accuracy: 0.920 - ETA: 11s - loss: 0.2868 - accuracy: 0.920 - ETA: 10s - loss: 0.2865 - accuracy: 0.920 - ETA: 10s - loss: 0.2861 - accuracy: 0.920 - ETA: 10s - loss: 0.2856 - accuracy: 0.920 - ETA: 10s - loss: 0.2852 - accuracy: 0.920 - ETA: 10s - loss: 0.2849 - accuracy: 0.920 - ETA: 10s - loss: 0.2847 - accuracy: 0.920 - ETA: 10s - loss: 0.2844 - accuracy: 0.920 - ETA: 10s - loss: 0.2840 - accuracy: 0.920 - ETA: 10s - loss: 0.2837 - accuracy: 0.921 - ETA: 10s - loss: 0.2838 - accuracy: 0.921 - ETA: 10s - loss: 0.2835 - accuracy: 0.921 - ETA: 10s - loss: 0.2832 - accuracy: 0.921 - ETA: 10s - loss: 0.2828 - accuracy: 0.921 - ETA: 10s - loss: 0.2824 - accuracy: 0.921 - ETA: 10s - loss: 0.2828 - accuracy: 0.921 - ETA: 10s - loss: 0.2831 - accuracy: 0.921 - ETA: 9s - loss: 0.2827 - accuracy: 0.921 - ETA: 9s - loss: 0.2826 - accuracy: 0.92 - ETA: 9s - loss: 0.2822 - accuracy: 0.92 - ETA: 9s - loss: 0.2821 - accuracy: 0.92 - ETA: 9s - loss: 0.2819 - accuracy: 0.92 - ETA: 9s - loss: 0.2817 - accuracy: 0.92 - ETA: 9s - loss: 0.2813 - accuracy: 0.92 - ETA: 9s - loss: 0.2810 - accuracy: 0.92 - ETA: 9s - loss: 0.2812 - accuracy: 0.92 - ETA: 9s - loss: 0.2808 - accuracy: 0.92 - ETA: 9s - loss: 0.2804 - accuracy: 0.92 - ETA: 9s - loss: 0.2800 - accuracy: 0.92 - ETA: 9s - loss: 0.2800 - accuracy: 0.92 - ETA: 9s - loss: 0.2797 - accuracy: 0.92 - ETA: 9s - loss: 0.2796 - accuracy: 0.92 - ETA: 9s - loss: 0.2793 - accuracy: 0.92 - ETA: 8s - loss: 0.2790 - accuracy: 0.92 - ETA: 8s - loss: 0.2787 - accuracy: 0.92 - ETA: 8s - loss: 0.2784 - accuracy: 0.92 - ETA: 8s - loss: 0.2782 - accuracy: 0.92 - ETA: 8s - loss: 0.2779 - accuracy: 0.92 - ETA: 8s - loss: 0.2775 - accuracy: 0.92 - ETA: 8s - loss: 0.2772 - accuracy: 0.92 - ETA: 8s - loss: 0.2770 - accuracy: 0.92 - ETA: 8s - loss: 0.2767 - accuracy: 0.92 - ETA: 8s - loss: 0.2764 - accuracy: 0.92 - ETA: 8s - loss: 0.2760 - accuracy: 0.92 - ETA: 8s - loss: 0.2756 - accuracy: 0.92 - ETA: 8s - loss: 0.2755 - accuracy: 0.92 - ETA: 8s - loss: 0.2755 - accuracy: 0.92 - ETA: 8s - loss: 0.2754 - accuracy: 0.92 - ETA: 8s - loss: 0.2751 - accuracy: 0.92 - ETA: 7s - loss: 0.2747 - accuracy: 0.92 - ETA: 7s - loss: 0.2746 - accuracy: 0.92 - ETA: 7s - loss: 0.2742 - accuracy: 0.92 - ETA: 7s - loss: 0.2739 - accuracy: 0.92 - ETA: 7s - loss: 0.2738 - accuracy: 0.92 - ETA: 7s - loss: 0.2734 - accuracy: 0.92 - ETA: 7s - loss: 0.2732 - accuracy: 0.92 - ETA: 7s - loss: 0.2730 - accuracy: 0.92 - ETA: 7s - loss: 0.2726 - accuracy: 0.92 - ETA: 7s - loss: 0.2725 - accuracy: 0.92 - ETA: 7s - loss: 0.2723 - accuracy: 0.92 - ETA: 7s - loss: 0.2721 - accuracy: 0.92 - ETA: 7s - loss: 0.2718 - accuracy: 0.92 - ETA: 7s - loss: 0.2719 - accuracy: 0.92 - ETA: 7s - loss: 0.2716 - accuracy: 0.92 - ETA: 7s - loss: 0.2713 - accuracy: 0.92 - ETA: 6s - loss: 0.2710 - accuracy: 0.92 - ETA: 6s - loss: 0.2708 - accuracy: 0.92 - ETA: 6s - loss: 0.2706 - accuracy: 0.92 - ETA: 6s - loss: 0.2703 - accuracy: 0.92 - ETA: 6s - loss: 0.2698 - accuracy: 0.92 - ETA: 6s - loss: 0.2695 - accuracy: 0.92 - ETA: 6s - loss: 0.2695 - accuracy: 0.92 - ETA: 6s - loss: 0.2692 - accuracy: 0.92 - ETA: 6s - loss: 0.2689 - accuracy: 0.92 - ETA: 6s - loss: 0.2685 - accuracy: 0.92 - ETA: 6s - loss: 0.2682 - accuracy: 0.92 - ETA: 6s - loss: 0.2681 - accuracy: 0.92 - ETA: 6s - loss: 0.2679 - accuracy: 0.92 - ETA: 6s - loss: 0.2678 - accuracy: 0.92 - ETA: 6s - loss: 0.2676 - accuracy: 0.92 - ETA: 6s - loss: 0.2673 - accuracy: 0.92 - ETA: 5s - loss: 0.2671 - accuracy: 0.92 - ETA: 5s - loss: 0.2667 - accuracy: 0.92 - ETA: 5s - loss: 0.2664 - accuracy: 0.92 - ETA: 5s - loss: 0.2663 - accuracy: 0.92 - ETA: 5s - loss: 0.2660 - accuracy: 0.92 - ETA: 5s - loss: 0.2659 - accuracy: 0.92 - ETA: 5s - loss: 0.2660 - accuracy: 0.92 - ETA: 5s - loss: 0.2658 - accuracy: 0.92 - ETA: 5s - loss: 0.2655 - accuracy: 0.92 - ETA: 5s - loss: 0.2653 - accuracy: 0.92 - ETA: 5s - loss: 0.2650 - accuracy: 0.92 - ETA: 5s - loss: 0.2647 - accuracy: 0.92 - ETA: 5s - loss: 0.2643 - accuracy: 0.92 - ETA: 5s - loss: 0.2642 - accuracy: 0.92 - ETA: 5s - loss: 0.2640 - accuracy: 0.92 - ETA: 5s - loss: 0.2638 - accuracy: 0.92 - ETA: 5s - loss: 0.2635 - accuracy: 0.92 - ETA: 4s - loss: 0.2632 - accuracy: 0.92 - ETA: 4s - loss: 0.2631 - accuracy: 0.92 - ETA: 4s - loss: 0.2628 - accuracy: 0.92 - ETA: 4s - loss: 0.2627 - accuracy: 0.92 - ETA: 4s - loss: 0.2629 - accuracy: 0.92 - ETA: 4s - loss: 0.2628 - accuracy: 0.92 - ETA: 4s - loss: 0.2626 - accuracy: 0.92 - ETA: 4s - loss: 0.2625 - accuracy: 0.92 - ETA: 4s - loss: 0.2623 - accuracy: 0.92 - ETA: 4s - loss: 0.2620 - accuracy: 0.92 - ETA: 4s - loss: 0.2616 - accuracy: 0.92 - ETA: 4s - loss: 0.2613 - accuracy: 0.92 - ETA: 4s - loss: 0.2613 - accuracy: 0.92 - ETA: 4s - loss: 0.2611 - accuracy: 0.92 - ETA: 4s - loss: 0.2608 - accuracy: 0.92 - ETA: 4s - loss: 0.2607 - accuracy: 0.92 - ETA: 3s - loss: 0.2604 - accuracy: 0.92 - ETA: 3s - loss: 0.2603 - accuracy: 0.92 - ETA: 3s - loss: 0.2600 - accuracy: 0.92 - ETA: 3s - loss: 0.2598 - accuracy: 0.92 - ETA: 3s - loss: 0.2596 - accuracy: 0.92 - ETA: 3s - loss: 0.2593 - accuracy: 0.92 - ETA: 3s - loss: 0.2592 - accuracy: 0.92 - ETA: 3s - loss: 0.2591 - accuracy: 0.92 - ETA: 3s - loss: 0.2592 - accuracy: 0.92 - ETA: 3s - loss: 0.2589 - accuracy: 0.92 - ETA: 3s - loss: 0.2586 - accuracy: 0.92 - ETA: 3s - loss: 0.2584 - accuracy: 0.92 - ETA: 3s - loss: 0.2582 - accuracy: 0.92 - ETA: 3s - loss: 0.2580 - accuracy: 0.92 - ETA: 3s - loss: 0.2577 - accuracy: 0.92 - ETA: 3s - loss: 0.2574 - accuracy: 0.92 - ETA: 3s - loss: 0.2573 - accuracy: 0.92 - ETA: 2s - loss: 0.2570 - accuracy: 0.92 - ETA: 2s - loss: 0.2570 - accuracy: 0.92 - ETA: 2s - loss: 0.2567 - accuracy: 0.92 - ETA: 2s - loss: 0.2564 - accuracy: 0.92 - ETA: 2s - loss: 0.2564 - accuracy: 0.92 - ETA: 2s - loss: 0.2563 - accuracy: 0.92 - ETA: 2s - loss: 0.2560 - accuracy: 0.92 - ETA: 2s - loss: 0.2557 - accuracy: 0.92 - ETA: 2s - loss: 0.2554 - accuracy: 0.92 - ETA: 2s - loss: 0.2553 - accuracy: 0.92 - ETA: 2s - loss: 0.2551 - accuracy: 0.92 - ETA: 2s - loss: 0.2548 - accuracy: 0.92 - ETA: 2s - loss: 0.2546 - accuracy: 0.92 - ETA: 2s - loss: 0.2549 - accuracy: 0.92 - ETA: 2s - loss: 0.2547 - accuracy: 0.92 - ETA: 2s - loss: 0.2547 - accuracy: 0.92 - ETA: 1s - loss: 0.2544 - accuracy: 0.92 - ETA: 1s - loss: 0.2542 - accuracy: 0.92 - ETA: 1s - loss: 0.2540 - accuracy: 0.92 - ETA: 1s - loss: 0.2537 - accuracy: 0.92 - ETA: 1s - loss: 0.2539 - accuracy: 0.92 - ETA: 1s - loss: 0.2536 - accuracy: 0.92 - ETA: 1s - loss: 0.2535 - accuracy: 0.92 - ETA: 1s - loss: 0.2543 - accuracy: 0.92 - ETA: 1s - loss: 0.2543 - accuracy: 0.92 - ETA: 1s - loss: 0.2545 - accuracy: 0.92 - ETA: 1s - loss: 0.2543 - accuracy: 0.92 - ETA: 1s - loss: 0.2541 - accuracy: 0.92 - ETA: 1s - loss: 0.2538 - accuracy: 0.92 - ETA: 1s - loss: 0.2538 - accuracy: 0.92 - ETA: 1s - loss: 0.2539 - accuracy: 0.92 - ETA: 1s - loss: 0.2537 - accuracy: 0.92 - ETA: 1s - loss: 0.2535 - accuracy: 0.92 - ETA: 0s - loss: 0.2532 - accuracy: 0.92 - ETA: 0s - loss: 0.2530 - accuracy: 0.92 - ETA: 0s - loss: 0.2531 - accuracy: 0.92 - ETA: 0s - loss: 0.2528 - accuracy: 0.92 - ETA: 0s - loss: 0.2526 - accuracy: 0.92 - ETA: 0s - loss: 0.2527 - accuracy: 0.92 - ETA: 0s - loss: 0.2527 - accuracy: 0.92 - ETA: 0s - loss: 0.2525 - accuracy: 0.92 - ETA: 0s - loss: 0.2523 - accuracy: 0.92 - ETA: 0s - loss: 0.2520 - accuracy: 0.92 - ETA: 0s - loss: 0.2527 - accuracy: 0.93 - ETA: 0s - loss: 0.2530 - accuracy: 0.92 - ETA: 0s - loss: 0.2529 - accuracy: 0.92 - ETA: 0s - loss: 0.2527 - accuracy: 0.93 - ETA: 0s - loss: 0.2525 - accuracy: 0.93 - ETA: 0s - loss: 0.2523 - accuracy: 0.9300"
     ]
    },
    {
     "name": "stdout",
     "output_type": "stream",
     "text": [
      "1500/1500 [==============================] - ETA: 0s - loss: 0.2525 - accuracy: 0.93 - 49s 33ms/step - loss: 0.2523 - accuracy: 0.9300 - val_loss: 0.3273 - val_accuracy: 0.9078\n",
      "Epoch 2/3\n"
     ]
    },
    {
     "name": "stdout",
     "output_type": "stream",
     "text": [
      " 371/1500 [======>.......................] - ETA: 3:17 - loss: 0.0376 - accuracy: 0.96 - ETA: 1:32 - loss: 0.1482 - accuracy: 0.94 - ETA: 1:10 - loss: 0.1563 - accuracy: 0.95 - ETA: 1:02 - loss: 0.1697 - accuracy: 0.95 - ETA: 57s - loss: 0.1431 - accuracy: 0.9618 - ETA: 53s - loss: 0.1228 - accuracy: 0.968 - ETA: 51s - loss: 0.1275 - accuracy: 0.966 - ETA: 49s - loss: 0.1198 - accuracy: 0.968 - ETA: 48s - loss: 0.1478 - accuracy: 0.968 - ETA: 47s - loss: 0.1494 - accuracy: 0.967 - ETA: 46s - loss: 0.1566 - accuracy: 0.967 - ETA: 45s - loss: 0.1483 - accuracy: 0.968 - ETA: 45s - loss: 0.1394 - accuracy: 0.970 - ETA: 44s - loss: 0.1407 - accuracy: 0.968 - ETA: 44s - loss: 0.1597 - accuracy: 0.967 - ETA: 44s - loss: 0.1538 - accuracy: 0.968 - ETA: 43s - loss: 0.1550 - accuracy: 0.966 - ETA: 43s - loss: 0.1524 - accuracy: 0.967 - ETA: 43s - loss: 0.1513 - accuracy: 0.965 - ETA: 43s - loss: 0.1502 - accuracy: 0.964 - ETA: 43s - loss: 0.1468 - accuracy: 0.964 - ETA: 42s - loss: 0.1557 - accuracy: 0.962 - ETA: 42s - loss: 0.1537 - accuracy: 0.963 - ETA: 42s - loss: 0.1486 - accuracy: 0.964 - ETA: 42s - loss: 0.1513 - accuracy: 0.963 - ETA: 41s - loss: 0.1492 - accuracy: 0.964 - ETA: 41s - loss: 0.1446 - accuracy: 0.965 - ETA: 41s - loss: 0.1422 - accuracy: 0.966 - ETA: 41s - loss: 0.1443 - accuracy: 0.966 - ETA: 41s - loss: 0.1403 - accuracy: 0.967 - ETA: 41s - loss: 0.1401 - accuracy: 0.966 - ETA: 41s - loss: 0.1361 - accuracy: 0.967 - ETA: 41s - loss: 0.1347 - accuracy: 0.967 - ETA: 40s - loss: 0.1322 - accuracy: 0.967 - ETA: 40s - loss: 0.1326 - accuracy: 0.967 - ETA: 40s - loss: 0.1338 - accuracy: 0.967 - ETA: 40s - loss: 0.1309 - accuracy: 0.967 - ETA: 40s - loss: 0.1278 - accuracy: 0.968 - ETA: 40s - loss: 0.1262 - accuracy: 0.968 - ETA: 40s - loss: 0.1235 - accuracy: 0.969 - ETA: 40s - loss: 0.1223 - accuracy: 0.969 - ETA: 40s - loss: 0.1209 - accuracy: 0.969 - ETA: 40s - loss: 0.1223 - accuracy: 0.969 - ETA: 39s - loss: 0.1222 - accuracy: 0.969 - ETA: 39s - loss: 0.1221 - accuracy: 0.969 - ETA: 39s - loss: 0.1221 - accuracy: 0.969 - ETA: 39s - loss: 0.1203 - accuracy: 0.970 - ETA: 39s - loss: 0.1189 - accuracy: 0.970 - ETA: 39s - loss: 0.1167 - accuracy: 0.971 - ETA: 39s - loss: 0.1150 - accuracy: 0.971 - ETA: 39s - loss: 0.1163 - accuracy: 0.970 - ETA: 39s - loss: 0.1154 - accuracy: 0.971 - ETA: 39s - loss: 0.1139 - accuracy: 0.971 - ETA: 39s - loss: 0.1127 - accuracy: 0.971 - ETA: 39s - loss: 0.1126 - accuracy: 0.971 - ETA: 38s - loss: 0.1186 - accuracy: 0.970 - ETA: 38s - loss: 0.1171 - accuracy: 0.970 - ETA: 38s - loss: 0.1171 - accuracy: 0.970 - ETA: 38s - loss: 0.1193 - accuracy: 0.970 - ETA: 38s - loss: 0.1215 - accuracy: 0.969 - ETA: 38s - loss: 0.1208 - accuracy: 0.969 - ETA: 38s - loss: 0.1214 - accuracy: 0.969 - ETA: 38s - loss: 0.1217 - accuracy: 0.969 - ETA: 38s - loss: 0.1218 - accuracy: 0.969 - ETA: 38s - loss: 0.1207 - accuracy: 0.969 - ETA: 38s - loss: 0.1206 - accuracy: 0.968 - ETA: 38s - loss: 0.1219 - accuracy: 0.968 - ETA: 38s - loss: 0.1213 - accuracy: 0.968 - ETA: 37s - loss: 0.1211 - accuracy: 0.968 - ETA: 37s - loss: 0.1195 - accuracy: 0.969 - ETA: 37s - loss: 0.1218 - accuracy: 0.968 - ETA: 37s - loss: 0.1201 - accuracy: 0.969 - ETA: 37s - loss: 0.1200 - accuracy: 0.969 - ETA: 37s - loss: 0.1209 - accuracy: 0.968 - ETA: 37s - loss: 0.1198 - accuracy: 0.969 - ETA: 37s - loss: 0.1193 - accuracy: 0.969 - ETA: 37s - loss: 0.1179 - accuracy: 0.969 - ETA: 37s - loss: 0.1174 - accuracy: 0.969 - ETA: 37s - loss: 0.1168 - accuracy: 0.969 - ETA: 37s - loss: 0.1163 - accuracy: 0.969 - ETA: 37s - loss: 0.1165 - accuracy: 0.969 - ETA: 36s - loss: 0.1160 - accuracy: 0.969 - ETA: 36s - loss: 0.1156 - accuracy: 0.969 - ETA: 36s - loss: 0.1162 - accuracy: 0.969 - ETA: 36s - loss: 0.1153 - accuracy: 0.969 - ETA: 36s - loss: 0.1236 - accuracy: 0.969 - ETA: 36s - loss: 0.1225 - accuracy: 0.969 - ETA: 36s - loss: 0.1231 - accuracy: 0.969 - ETA: 36s - loss: 0.1221 - accuracy: 0.969 - ETA: 36s - loss: 0.1220 - accuracy: 0.969 - ETA: 36s - loss: 0.1214 - accuracy: 0.970 - ETA: 36s - loss: 0.1221 - accuracy: 0.969 - ETA: 36s - loss: 0.1222 - accuracy: 0.969 - ETA: 36s - loss: 0.1226 - accuracy: 0.969 - ETA: 36s - loss: 0.1214 - accuracy: 0.969 - ETA: 35s - loss: 0.1218 - accuracy: 0.969 - ETA: 35s - loss: 0.1219 - accuracy: 0.969 - ETA: 35s - loss: 0.1209 - accuracy: 0.969 - ETA: 35s - loss: 0.1243 - accuracy: 0.969 - ETA: 35s - loss: 0.1241 - accuracy: 0.969 - ETA: 35s - loss: 0.1262 - accuracy: 0.968 - ETA: 35s - loss: 0.1260 - accuracy: 0.968 - ETA: 35s - loss: 0.1250 - accuracy: 0.969 - ETA: 35s - loss: 0.1244 - accuracy: 0.968 - ETA: 35s - loss: 0.1245 - accuracy: 0.968 - ETA: 35s - loss: 0.1239 - accuracy: 0.968 - ETA: 35s - loss: 0.1243 - accuracy: 0.968 - ETA: 35s - loss: 0.1250 - accuracy: 0.968 - ETA: 35s - loss: 0.1244 - accuracy: 0.968 - ETA: 35s - loss: 0.1241 - accuracy: 0.968 - ETA: 35s - loss: 0.1247 - accuracy: 0.968 - ETA: 35s - loss: 0.1245 - accuracy: 0.968 - ETA: 34s - loss: 0.1242 - accuracy: 0.968 - ETA: 34s - loss: 0.1260 - accuracy: 0.968 - ETA: 34s - loss: 0.1276 - accuracy: 0.967 - ETA: 34s - loss: 0.1270 - accuracy: 0.967 - ETA: 34s - loss: 0.1260 - accuracy: 0.968 - ETA: 34s - loss: 0.1251 - accuracy: 0.968 - ETA: 34s - loss: 0.1249 - accuracy: 0.968 - ETA: 34s - loss: 0.1257 - accuracy: 0.968 - ETA: 34s - loss: 0.1248 - accuracy: 0.968 - ETA: 34s - loss: 0.1244 - accuracy: 0.968 - ETA: 34s - loss: 0.1242 - accuracy: 0.968 - ETA: 34s - loss: 0.1252 - accuracy: 0.968 - ETA: 34s - loss: 0.1247 - accuracy: 0.968 - ETA: 34s - loss: 0.1259 - accuracy: 0.967 - ETA: 34s - loss: 0.1260 - accuracy: 0.967 - ETA: 34s - loss: 0.1260 - accuracy: 0.967 - ETA: 34s - loss: 0.1270 - accuracy: 0.967 - ETA: 33s - loss: 0.1262 - accuracy: 0.967 - ETA: 33s - loss: 0.1255 - accuracy: 0.967 - ETA: 33s - loss: 0.1253 - accuracy: 0.967 - ETA: 33s - loss: 0.1248 - accuracy: 0.968 - ETA: 33s - loss: 0.1250 - accuracy: 0.968 - ETA: 33s - loss: 0.1248 - accuracy: 0.968 - ETA: 33s - loss: 0.1246 - accuracy: 0.968 - ETA: 33s - loss: 0.1268 - accuracy: 0.967 - ETA: 33s - loss: 0.1266 - accuracy: 0.968 - ETA: 33s - loss: 0.1280 - accuracy: 0.967 - ETA: 33s - loss: 0.1275 - accuracy: 0.968 - ETA: 33s - loss: 0.1277 - accuracy: 0.968 - ETA: 33s - loss: 0.1271 - accuracy: 0.968 - ETA: 33s - loss: 0.1268 - accuracy: 0.968 - ETA: 33s - loss: 0.1265 - accuracy: 0.968 - ETA: 33s - loss: 0.1262 - accuracy: 0.968 - ETA: 32s - loss: 0.1270 - accuracy: 0.968 - ETA: 32s - loss: 0.1342 - accuracy: 0.967 - ETA: 32s - loss: 0.1350 - accuracy: 0.967 - ETA: 32s - loss: 0.1350 - accuracy: 0.967 - ETA: 32s - loss: 0.1362 - accuracy: 0.967 - ETA: 32s - loss: 0.1386 - accuracy: 0.967 - ETA: 32s - loss: 0.1387 - accuracy: 0.967 - ETA: 32s - loss: 0.1379 - accuracy: 0.967 - ETA: 32s - loss: 0.1377 - accuracy: 0.967 - ETA: 32s - loss: 0.1372 - accuracy: 0.967 - ETA: 32s - loss: 0.1369 - accuracy: 0.967 - ETA: 32s - loss: 0.1362 - accuracy: 0.967 - ETA: 32s - loss: 0.1365 - accuracy: 0.967 - ETA: 32s - loss: 0.1359 - accuracy: 0.967 - ETA: 32s - loss: 0.1359 - accuracy: 0.967 - ETA: 32s - loss: 0.1366 - accuracy: 0.967 - ETA: 32s - loss: 0.1365 - accuracy: 0.967 - ETA: 31s - loss: 0.1358 - accuracy: 0.967 - ETA: 31s - loss: 0.1350 - accuracy: 0.967 - ETA: 31s - loss: 0.1345 - accuracy: 0.967 - ETA: 31s - loss: 0.1337 - accuracy: 0.967 - ETA: 31s - loss: 0.1334 - accuracy: 0.967 - ETA: 31s - loss: 0.1327 - accuracy: 0.968 - ETA: 31s - loss: 0.1334 - accuracy: 0.967 - ETA: 31s - loss: 0.1329 - accuracy: 0.968 - ETA: 31s - loss: 0.1325 - accuracy: 0.968 - ETA: 31s - loss: 0.1326 - accuracy: 0.968 - ETA: 31s - loss: 0.1335 - accuracy: 0.967 - ETA: 31s - loss: 0.1330 - accuracy: 0.967 - ETA: 31s - loss: 0.1324 - accuracy: 0.968 - ETA: 31s - loss: 0.1319 - accuracy: 0.968 - ETA: 31s - loss: 0.1314 - accuracy: 0.968 - ETA: 31s - loss: 0.1309 - accuracy: 0.968 - ETA: 31s - loss: 0.1307 - accuracy: 0.968 - ETA: 31s - loss: 0.1307 - accuracy: 0.968 - ETA: 31s - loss: 0.1305 - accuracy: 0.968 - ETA: 30s - loss: 0.1301 - accuracy: 0.968 - ETA: 30s - loss: 0.1303 - accuracy: 0.968 - ETA: 30s - loss: 0.1300 - accuracy: 0.968 - ETA: 30s - loss: 0.1306 - accuracy: 0.968 - ETA: 30s - loss: 0.1300 - accuracy: 0.9684 743/1500 [=============>................] - ETA: 30s - loss: 0.1300 - accuracy: 0.968 - ETA: 30s - loss: 0.1294 - accuracy: 0.968 - ETA: 30s - loss: 0.1291 - accuracy: 0.968 - ETA: 30s - loss: 0.1292 - accuracy: 0.968 - ETA: 30s - loss: 0.1287 - accuracy: 0.968 - ETA: 30s - loss: 0.1283 - accuracy: 0.968 - ETA: 30s - loss: 0.1281 - accuracy: 0.968 - ETA: 30s - loss: 0.1279 - accuracy: 0.968 - ETA: 30s - loss: 0.1278 - accuracy: 0.968 - ETA: 30s - loss: 0.1272 - accuracy: 0.968 - ETA: 30s - loss: 0.1267 - accuracy: 0.968 - ETA: 30s - loss: 0.1261 - accuracy: 0.969 - ETA: 29s - loss: 0.1259 - accuracy: 0.969 - ETA: 29s - loss: 0.1253 - accuracy: 0.969 - ETA: 29s - loss: 0.1303 - accuracy: 0.969 - ETA: 29s - loss: 0.1298 - accuracy: 0.969 - ETA: 29s - loss: 0.1294 - accuracy: 0.969 - ETA: 29s - loss: 0.1295 - accuracy: 0.969 - ETA: 29s - loss: 0.1309 - accuracy: 0.968 - ETA: 29s - loss: 0.1319 - accuracy: 0.968 - ETA: 29s - loss: 0.1320 - accuracy: 0.968 - ETA: 29s - loss: 0.1320 - accuracy: 0.968 - ETA: 29s - loss: 0.1314 - accuracy: 0.968 - ETA: 29s - loss: 0.1311 - accuracy: 0.968 - ETA: 29s - loss: 0.1315 - accuracy: 0.968 - ETA: 29s - loss: 0.1341 - accuracy: 0.968 - ETA: 29s - loss: 0.1335 - accuracy: 0.968 - ETA: 29s - loss: 0.1341 - accuracy: 0.968 - ETA: 29s - loss: 0.1353 - accuracy: 0.967 - ETA: 29s - loss: 0.1352 - accuracy: 0.967 - ETA: 28s - loss: 0.1353 - accuracy: 0.967 - ETA: 28s - loss: 0.1367 - accuracy: 0.967 - ETA: 28s - loss: 0.1383 - accuracy: 0.967 - ETA: 28s - loss: 0.1388 - accuracy: 0.966 - ETA: 28s - loss: 0.1392 - accuracy: 0.966 - ETA: 28s - loss: 0.1395 - accuracy: 0.966 - ETA: 28s - loss: 0.1404 - accuracy: 0.966 - ETA: 28s - loss: 0.1402 - accuracy: 0.966 - ETA: 28s - loss: 0.1404 - accuracy: 0.966 - ETA: 28s - loss: 0.1412 - accuracy: 0.966 - ETA: 28s - loss: 0.1411 - accuracy: 0.966 - ETA: 28s - loss: 0.1440 - accuracy: 0.965 - ETA: 28s - loss: 0.1439 - accuracy: 0.965 - ETA: 28s - loss: 0.1436 - accuracy: 0.965 - ETA: 28s - loss: 0.1435 - accuracy: 0.965 - ETA: 28s - loss: 0.1447 - accuracy: 0.965 - ETA: 28s - loss: 0.1452 - accuracy: 0.965 - ETA: 28s - loss: 0.1455 - accuracy: 0.965 - ETA: 27s - loss: 0.1477 - accuracy: 0.965 - ETA: 27s - loss: 0.1471 - accuracy: 0.965 - ETA: 27s - loss: 0.1471 - accuracy: 0.965 - ETA: 27s - loss: 0.1467 - accuracy: 0.965 - ETA: 27s - loss: 0.1468 - accuracy: 0.965 - ETA: 27s - loss: 0.1464 - accuracy: 0.965 - ETA: 27s - loss: 0.1468 - accuracy: 0.965 - ETA: 27s - loss: 0.1471 - accuracy: 0.965 - ETA: 27s - loss: 0.1480 - accuracy: 0.964 - ETA: 27s - loss: 0.1478 - accuracy: 0.964 - ETA: 27s - loss: 0.1479 - accuracy: 0.964 - ETA: 27s - loss: 0.1475 - accuracy: 0.964 - ETA: 27s - loss: 0.1480 - accuracy: 0.964 - ETA: 27s - loss: 0.1479 - accuracy: 0.964 - ETA: 27s - loss: 0.1479 - accuracy: 0.964 - ETA: 27s - loss: 0.1482 - accuracy: 0.964 - ETA: 27s - loss: 0.1481 - accuracy: 0.964 - ETA: 27s - loss: 0.1478 - accuracy: 0.964 - ETA: 26s - loss: 0.1477 - accuracy: 0.964 - ETA: 26s - loss: 0.1474 - accuracy: 0.964 - ETA: 26s - loss: 0.1470 - accuracy: 0.964 - ETA: 26s - loss: 0.1468 - accuracy: 0.964 - ETA: 26s - loss: 0.1467 - accuracy: 0.964 - ETA: 26s - loss: 0.1465 - accuracy: 0.964 - ETA: 26s - loss: 0.1462 - accuracy: 0.964 - ETA: 26s - loss: 0.1462 - accuracy: 0.964 - ETA: 26s - loss: 0.1461 - accuracy: 0.964 - ETA: 26s - loss: 0.1461 - accuracy: 0.964 - ETA: 26s - loss: 0.1457 - accuracy: 0.964 - ETA: 26s - loss: 0.1453 - accuracy: 0.965 - ETA: 26s - loss: 0.1455 - accuracy: 0.965 - ETA: 26s - loss: 0.1457 - accuracy: 0.964 - ETA: 26s - loss: 0.1456 - accuracy: 0.964 - ETA: 26s - loss: 0.1457 - accuracy: 0.964 - ETA: 26s - loss: 0.1453 - accuracy: 0.964 - ETA: 26s - loss: 0.1452 - accuracy: 0.964 - ETA: 25s - loss: 0.1450 - accuracy: 0.964 - ETA: 25s - loss: 0.1448 - accuracy: 0.964 - ETA: 25s - loss: 0.1458 - accuracy: 0.964 - ETA: 25s - loss: 0.1468 - accuracy: 0.964 - ETA: 25s - loss: 0.1469 - accuracy: 0.964 - ETA: 25s - loss: 0.1475 - accuracy: 0.964 - ETA: 25s - loss: 0.1475 - accuracy: 0.964 - ETA: 25s - loss: 0.1482 - accuracy: 0.963 - ETA: 25s - loss: 0.1487 - accuracy: 0.963 - ETA: 25s - loss: 0.1495 - accuracy: 0.963 - ETA: 25s - loss: 0.1492 - accuracy: 0.963 - ETA: 25s - loss: 0.1491 - accuracy: 0.963 - ETA: 25s - loss: 0.1486 - accuracy: 0.963 - ETA: 25s - loss: 0.1481 - accuracy: 0.964 - ETA: 25s - loss: 0.1478 - accuracy: 0.964 - ETA: 25s - loss: 0.1476 - accuracy: 0.964 - ETA: 25s - loss: 0.1471 - accuracy: 0.964 - ETA: 25s - loss: 0.1470 - accuracy: 0.964 - ETA: 24s - loss: 0.1468 - accuracy: 0.964 - ETA: 24s - loss: 0.1468 - accuracy: 0.964 - ETA: 24s - loss: 0.1464 - accuracy: 0.964 - ETA: 24s - loss: 0.1460 - accuracy: 0.964 - ETA: 24s - loss: 0.1458 - accuracy: 0.964 - ETA: 24s - loss: 0.1455 - accuracy: 0.964 - ETA: 24s - loss: 0.1458 - accuracy: 0.964 - ETA: 24s - loss: 0.1454 - accuracy: 0.964 - ETA: 24s - loss: 0.1470 - accuracy: 0.964 - ETA: 24s - loss: 0.1466 - accuracy: 0.964 - ETA: 24s - loss: 0.1467 - accuracy: 0.964 - ETA: 24s - loss: 0.1464 - accuracy: 0.964 - ETA: 24s - loss: 0.1463 - accuracy: 0.964 - ETA: 24s - loss: 0.1500 - accuracy: 0.964 - ETA: 24s - loss: 0.1500 - accuracy: 0.964 - ETA: 24s - loss: 0.1498 - accuracy: 0.964 - ETA: 24s - loss: 0.1501 - accuracy: 0.964 - ETA: 24s - loss: 0.1503 - accuracy: 0.964 - ETA: 23s - loss: 0.1510 - accuracy: 0.964 - ETA: 23s - loss: 0.1506 - accuracy: 0.964 - ETA: 23s - loss: 0.1503 - accuracy: 0.964 - ETA: 23s - loss: 0.1500 - accuracy: 0.964 - ETA: 23s - loss: 0.1502 - accuracy: 0.964 - ETA: 23s - loss: 0.1501 - accuracy: 0.964 - ETA: 23s - loss: 0.1506 - accuracy: 0.963 - ETA: 23s - loss: 0.1503 - accuracy: 0.964 - ETA: 23s - loss: 0.1501 - accuracy: 0.964 - ETA: 23s - loss: 0.1508 - accuracy: 0.963 - ETA: 23s - loss: 0.1513 - accuracy: 0.963 - ETA: 23s - loss: 0.1510 - accuracy: 0.963 - ETA: 23s - loss: 0.1511 - accuracy: 0.963 - ETA: 23s - loss: 0.1512 - accuracy: 0.963 - ETA: 23s - loss: 0.1509 - accuracy: 0.963 - ETA: 23s - loss: 0.1515 - accuracy: 0.963 - ETA: 23s - loss: 0.1514 - accuracy: 0.963 - ETA: 23s - loss: 0.1516 - accuracy: 0.963 - ETA: 22s - loss: 0.1517 - accuracy: 0.963 - ETA: 22s - loss: 0.1529 - accuracy: 0.963 - ETA: 22s - loss: 0.1525 - accuracy: 0.963 - ETA: 22s - loss: 0.1525 - accuracy: 0.963 - ETA: 22s - loss: 0.1525 - accuracy: 0.963 - ETA: 22s - loss: 0.1523 - accuracy: 0.963 - ETA: 22s - loss: 0.1522 - accuracy: 0.963 - ETA: 22s - loss: 0.1519 - accuracy: 0.963 - ETA: 22s - loss: 0.1520 - accuracy: 0.963 - ETA: 22s - loss: 0.1516 - accuracy: 0.963 - ETA: 22s - loss: 0.1521 - accuracy: 0.963 - ETA: 22s - loss: 0.1522 - accuracy: 0.963 - ETA: 22s - loss: 0.1520 - accuracy: 0.963 - ETA: 22s - loss: 0.1517 - accuracy: 0.963 - ETA: 22s - loss: 0.1515 - accuracy: 0.963 - ETA: 22s - loss: 0.1514 - accuracy: 0.963 - ETA: 22s - loss: 0.1514 - accuracy: 0.963 - ETA: 22s - loss: 0.1511 - accuracy: 0.963 - ETA: 22s - loss: 0.1510 - accuracy: 0.963 - ETA: 21s - loss: 0.1514 - accuracy: 0.963 - ETA: 21s - loss: 0.1511 - accuracy: 0.963 - ETA: 21s - loss: 0.1508 - accuracy: 0.963 - ETA: 21s - loss: 0.1507 - accuracy: 0.963 - ETA: 21s - loss: 0.1508 - accuracy: 0.963 - ETA: 21s - loss: 0.1507 - accuracy: 0.963 - ETA: 21s - loss: 0.1506 - accuracy: 0.963 - ETA: 21s - loss: 0.1503 - accuracy: 0.963 - ETA: 21s - loss: 0.1511 - accuracy: 0.963 - ETA: 21s - loss: 0.1509 - accuracy: 0.963 - ETA: 21s - loss: 0.1507 - accuracy: 0.963 - ETA: 21s - loss: 0.1505 - accuracy: 0.963 - ETA: 21s - loss: 0.1502 - accuracy: 0.963 - ETA: 21s - loss: 0.1502 - accuracy: 0.963 - ETA: 21s - loss: 0.1504 - accuracy: 0.963 - ETA: 21s - loss: 0.1501 - accuracy: 0.963 - ETA: 21s - loss: 0.1498 - accuracy: 0.963 - ETA: 21s - loss: 0.1495 - accuracy: 0.963 - ETA: 20s - loss: 0.1497 - accuracy: 0.963 - ETA: 20s - loss: 0.1494 - accuracy: 0.963 - ETA: 20s - loss: 0.1493 - accuracy: 0.963 - ETA: 20s - loss: 0.1489 - accuracy: 0.963 - ETA: 20s - loss: 0.1488 - accuracy: 0.963 - ETA: 20s - loss: 0.1485 - accuracy: 0.963 - ETA: 20s - loss: 0.1482 - accuracy: 0.963 - ETA: 20s - loss: 0.1480 - accuracy: 0.963 - ETA: 20s - loss: 0.1481 - accuracy: 0.963 - ETA: 20s - loss: 0.1480 - accuracy: 0.963 - ETA: 20s - loss: 0.1481 - accuracy: 0.9637"
     ]
    },
    {
     "name": "stdout",
     "output_type": "stream",
     "text": [
      "1115/1500 [=====================>........] - ETA: 20s - loss: 0.1482 - accuracy: 0.963 - ETA: 20s - loss: 0.1481 - accuracy: 0.963 - ETA: 20s - loss: 0.1481 - accuracy: 0.963 - ETA: 20s - loss: 0.1478 - accuracy: 0.963 - ETA: 20s - loss: 0.1479 - accuracy: 0.963 - ETA: 20s - loss: 0.1480 - accuracy: 0.963 - ETA: 20s - loss: 0.1477 - accuracy: 0.963 - ETA: 19s - loss: 0.1478 - accuracy: 0.963 - ETA: 19s - loss: 0.1475 - accuracy: 0.963 - ETA: 19s - loss: 0.1471 - accuracy: 0.964 - ETA: 19s - loss: 0.1468 - accuracy: 0.964 - ETA: 19s - loss: 0.1472 - accuracy: 0.963 - ETA: 19s - loss: 0.1470 - accuracy: 0.964 - ETA: 19s - loss: 0.1472 - accuracy: 0.964 - ETA: 19s - loss: 0.1469 - accuracy: 0.964 - ETA: 19s - loss: 0.1470 - accuracy: 0.964 - ETA: 19s - loss: 0.1468 - accuracy: 0.964 - ETA: 19s - loss: 0.1466 - accuracy: 0.964 - ETA: 19s - loss: 0.1465 - accuracy: 0.964 - ETA: 19s - loss: 0.1462 - accuracy: 0.964 - ETA: 19s - loss: 0.1461 - accuracy: 0.964 - ETA: 19s - loss: 0.1460 - accuracy: 0.964 - ETA: 19s - loss: 0.1462 - accuracy: 0.964 - ETA: 19s - loss: 0.1461 - accuracy: 0.964 - ETA: 19s - loss: 0.1457 - accuracy: 0.964 - ETA: 18s - loss: 0.1454 - accuracy: 0.964 - ETA: 18s - loss: 0.1452 - accuracy: 0.964 - ETA: 18s - loss: 0.1451 - accuracy: 0.964 - ETA: 18s - loss: 0.1448 - accuracy: 0.964 - ETA: 18s - loss: 0.1448 - accuracy: 0.964 - ETA: 18s - loss: 0.1445 - accuracy: 0.964 - ETA: 18s - loss: 0.1449 - accuracy: 0.964 - ETA: 18s - loss: 0.1448 - accuracy: 0.964 - ETA: 18s - loss: 0.1450 - accuracy: 0.964 - ETA: 18s - loss: 0.1447 - accuracy: 0.964 - ETA: 18s - loss: 0.1445 - accuracy: 0.964 - ETA: 18s - loss: 0.1443 - accuracy: 0.964 - ETA: 18s - loss: 0.1441 - accuracy: 0.964 - ETA: 18s - loss: 0.1439 - accuracy: 0.964 - ETA: 18s - loss: 0.1436 - accuracy: 0.964 - ETA: 18s - loss: 0.1437 - accuracy: 0.964 - ETA: 18s - loss: 0.1437 - accuracy: 0.964 - ETA: 18s - loss: 0.1440 - accuracy: 0.964 - ETA: 18s - loss: 0.1445 - accuracy: 0.964 - ETA: 17s - loss: 0.1447 - accuracy: 0.964 - ETA: 17s - loss: 0.1445 - accuracy: 0.964 - ETA: 17s - loss: 0.1447 - accuracy: 0.964 - ETA: 17s - loss: 0.1446 - accuracy: 0.964 - ETA: 17s - loss: 0.1444 - accuracy: 0.964 - ETA: 17s - loss: 0.1442 - accuracy: 0.964 - ETA: 17s - loss: 0.1440 - accuracy: 0.964 - ETA: 17s - loss: 0.1438 - accuracy: 0.964 - ETA: 17s - loss: 0.1437 - accuracy: 0.964 - ETA: 17s - loss: 0.1437 - accuracy: 0.964 - ETA: 17s - loss: 0.1435 - accuracy: 0.964 - ETA: 17s - loss: 0.1432 - accuracy: 0.964 - ETA: 17s - loss: 0.1429 - accuracy: 0.964 - ETA: 17s - loss: 0.1430 - accuracy: 0.964 - ETA: 17s - loss: 0.1428 - accuracy: 0.964 - ETA: 17s - loss: 0.1428 - accuracy: 0.964 - ETA: 17s - loss: 0.1425 - accuracy: 0.964 - ETA: 17s - loss: 0.1422 - accuracy: 0.964 - ETA: 16s - loss: 0.1419 - accuracy: 0.964 - ETA: 16s - loss: 0.1417 - accuracy: 0.964 - ETA: 16s - loss: 0.1416 - accuracy: 0.964 - ETA: 16s - loss: 0.1413 - accuracy: 0.965 - ETA: 16s - loss: 0.1411 - accuracy: 0.965 - ETA: 16s - loss: 0.1408 - accuracy: 0.965 - ETA: 16s - loss: 0.1408 - accuracy: 0.965 - ETA: 16s - loss: 0.1405 - accuracy: 0.965 - ETA: 16s - loss: 0.1404 - accuracy: 0.965 - ETA: 16s - loss: 0.1402 - accuracy: 0.965 - ETA: 16s - loss: 0.1404 - accuracy: 0.965 - ETA: 16s - loss: 0.1401 - accuracy: 0.965 - ETA: 16s - loss: 0.1401 - accuracy: 0.965 - ETA: 16s - loss: 0.1398 - accuracy: 0.965 - ETA: 16s - loss: 0.1399 - accuracy: 0.965 - ETA: 16s - loss: 0.1398 - accuracy: 0.965 - ETA: 16s - loss: 0.1400 - accuracy: 0.965 - ETA: 16s - loss: 0.1397 - accuracy: 0.965 - ETA: 15s - loss: 0.1396 - accuracy: 0.965 - ETA: 15s - loss: 0.1395 - accuracy: 0.965 - ETA: 15s - loss: 0.1393 - accuracy: 0.965 - ETA: 15s - loss: 0.1391 - accuracy: 0.965 - ETA: 15s - loss: 0.1391 - accuracy: 0.965 - ETA: 15s - loss: 0.1390 - accuracy: 0.965 - ETA: 15s - loss: 0.1390 - accuracy: 0.965 - ETA: 15s - loss: 0.1389 - accuracy: 0.965 - ETA: 15s - loss: 0.1387 - accuracy: 0.965 - ETA: 15s - loss: 0.1384 - accuracy: 0.965 - ETA: 15s - loss: 0.1382 - accuracy: 0.965 - ETA: 15s - loss: 0.1379 - accuracy: 0.965 - ETA: 15s - loss: 0.1377 - accuracy: 0.965 - ETA: 15s - loss: 0.1376 - accuracy: 0.965 - ETA: 15s - loss: 0.1374 - accuracy: 0.965 - ETA: 15s - loss: 0.1372 - accuracy: 0.965 - ETA: 15s - loss: 0.1377 - accuracy: 0.965 - ETA: 15s - loss: 0.1376 - accuracy: 0.965 - ETA: 15s - loss: 0.1374 - accuracy: 0.965 - ETA: 14s - loss: 0.1373 - accuracy: 0.965 - ETA: 14s - loss: 0.1373 - accuracy: 0.965 - ETA: 14s - loss: 0.1371 - accuracy: 0.965 - ETA: 14s - loss: 0.1369 - accuracy: 0.965 - ETA: 14s - loss: 0.1367 - accuracy: 0.965 - ETA: 14s - loss: 0.1364 - accuracy: 0.966 - ETA: 14s - loss: 0.1362 - accuracy: 0.966 - ETA: 14s - loss: 0.1360 - accuracy: 0.966 - ETA: 14s - loss: 0.1358 - accuracy: 0.966 - ETA: 14s - loss: 0.1356 - accuracy: 0.966 - ETA: 14s - loss: 0.1355 - accuracy: 0.966 - ETA: 14s - loss: 0.1355 - accuracy: 0.966 - ETA: 14s - loss: 0.1352 - accuracy: 0.966 - ETA: 14s - loss: 0.1353 - accuracy: 0.966 - ETA: 14s - loss: 0.1352 - accuracy: 0.966 - ETA: 14s - loss: 0.1350 - accuracy: 0.966 - ETA: 14s - loss: 0.1349 - accuracy: 0.966 - ETA: 14s - loss: 0.1346 - accuracy: 0.966 - ETA: 13s - loss: 0.1344 - accuracy: 0.966 - ETA: 13s - loss: 0.1342 - accuracy: 0.966 - ETA: 13s - loss: 0.1342 - accuracy: 0.966 - ETA: 13s - loss: 0.1340 - accuracy: 0.966 - ETA: 13s - loss: 0.1339 - accuracy: 0.966 - ETA: 13s - loss: 0.1338 - accuracy: 0.966 - ETA: 13s - loss: 0.1338 - accuracy: 0.966 - ETA: 13s - loss: 0.1336 - accuracy: 0.966 - ETA: 13s - loss: 0.1334 - accuracy: 0.966 - ETA: 13s - loss: 0.1335 - accuracy: 0.966 - ETA: 13s - loss: 0.1335 - accuracy: 0.966 - ETA: 13s - loss: 0.1334 - accuracy: 0.966 - ETA: 13s - loss: 0.1332 - accuracy: 0.966 - ETA: 13s - loss: 0.1332 - accuracy: 0.966 - ETA: 13s - loss: 0.1334 - accuracy: 0.966 - ETA: 13s - loss: 0.1332 - accuracy: 0.966 - ETA: 13s - loss: 0.1335 - accuracy: 0.966 - ETA: 13s - loss: 0.1334 - accuracy: 0.966 - ETA: 13s - loss: 0.1336 - accuracy: 0.966 - ETA: 12s - loss: 0.1334 - accuracy: 0.966 - ETA: 12s - loss: 0.1332 - accuracy: 0.966 - ETA: 12s - loss: 0.1330 - accuracy: 0.966 - ETA: 12s - loss: 0.1328 - accuracy: 0.966 - ETA: 12s - loss: 0.1327 - accuracy: 0.966 - ETA: 12s - loss: 0.1327 - accuracy: 0.966 - ETA: 12s - loss: 0.1329 - accuracy: 0.966 - ETA: 12s - loss: 0.1327 - accuracy: 0.966 - ETA: 12s - loss: 0.1325 - accuracy: 0.966 - ETA: 12s - loss: 0.1325 - accuracy: 0.966 - ETA: 12s - loss: 0.1324 - accuracy: 0.966 - ETA: 12s - loss: 0.1324 - accuracy: 0.966 - ETA: 12s - loss: 0.1322 - accuracy: 0.966 - ETA: 12s - loss: 0.1320 - accuracy: 0.966 - ETA: 12s - loss: 0.1319 - accuracy: 0.967 - ETA: 12s - loss: 0.1317 - accuracy: 0.967 - ETA: 12s - loss: 0.1318 - accuracy: 0.967 - ETA: 12s - loss: 0.1318 - accuracy: 0.967 - ETA: 11s - loss: 0.1317 - accuracy: 0.967 - ETA: 11s - loss: 0.1315 - accuracy: 0.967 - ETA: 11s - loss: 0.1317 - accuracy: 0.967 - ETA: 11s - loss: 0.1316 - accuracy: 0.967 - ETA: 11s - loss: 0.1314 - accuracy: 0.967 - ETA: 11s - loss: 0.1312 - accuracy: 0.967 - ETA: 11s - loss: 0.1312 - accuracy: 0.967 - ETA: 11s - loss: 0.1310 - accuracy: 0.967 - ETA: 11s - loss: 0.1308 - accuracy: 0.967 - ETA: 11s - loss: 0.1306 - accuracy: 0.967 - ETA: 11s - loss: 0.1305 - accuracy: 0.967 - ETA: 11s - loss: 0.1302 - accuracy: 0.967 - ETA: 11s - loss: 0.1304 - accuracy: 0.967 - ETA: 11s - loss: 0.1303 - accuracy: 0.967 - ETA: 11s - loss: 0.1301 - accuracy: 0.967 - ETA: 11s - loss: 0.1301 - accuracy: 0.967 - ETA: 11s - loss: 0.1303 - accuracy: 0.967 - ETA: 11s - loss: 0.1304 - accuracy: 0.967 - ETA: 11s - loss: 0.1303 - accuracy: 0.967 - ETA: 10s - loss: 0.1303 - accuracy: 0.967 - ETA: 10s - loss: 0.1302 - accuracy: 0.967 - ETA: 10s - loss: 0.1300 - accuracy: 0.967 - ETA: 10s - loss: 0.1301 - accuracy: 0.967 - ETA: 10s - loss: 0.1300 - accuracy: 0.967 - ETA: 10s - loss: 0.1299 - accuracy: 0.967 - ETA: 10s - loss: 0.1302 - accuracy: 0.967 - ETA: 10s - loss: 0.1301 - accuracy: 0.967 - ETA: 10s - loss: 0.1300 - accuracy: 0.967 - ETA: 10s - loss: 0.1302 - accuracy: 0.967 - ETA: 10s - loss: 0.1300 - accuracy: 0.967 - ETA: 10s - loss: 0.1298 - accuracy: 0.967 - ETA: 10s - loss: 0.1298 - accuracy: 0.9677"
     ]
    },
    {
     "name": "stdout",
     "output_type": "stream",
     "text": [
      "1500/1500 [==============================] - ETA: 10s - loss: 0.1296 - accuracy: 0.967 - ETA: 10s - loss: 0.1295 - accuracy: 0.967 - ETA: 10s - loss: 0.1294 - accuracy: 0.967 - ETA: 10s - loss: 0.1293 - accuracy: 0.967 - ETA: 10s - loss: 0.1292 - accuracy: 0.967 - ETA: 9s - loss: 0.1290 - accuracy: 0.967 - ETA: 9s - loss: 0.1289 - accuracy: 0.96 - ETA: 9s - loss: 0.1288 - accuracy: 0.96 - ETA: 9s - loss: 0.1287 - accuracy: 0.96 - ETA: 9s - loss: 0.1285 - accuracy: 0.96 - ETA: 9s - loss: 0.1283 - accuracy: 0.96 - ETA: 9s - loss: 0.1282 - accuracy: 0.96 - ETA: 9s - loss: 0.1280 - accuracy: 0.96 - ETA: 9s - loss: 0.1278 - accuracy: 0.96 - ETA: 9s - loss: 0.1276 - accuracy: 0.96 - ETA: 9s - loss: 0.1275 - accuracy: 0.96 - ETA: 9s - loss: 0.1276 - accuracy: 0.96 - ETA: 9s - loss: 0.1274 - accuracy: 0.96 - ETA: 9s - loss: 0.1273 - accuracy: 0.96 - ETA: 9s - loss: 0.1271 - accuracy: 0.96 - ETA: 9s - loss: 0.1269 - accuracy: 0.96 - ETA: 9s - loss: 0.1271 - accuracy: 0.96 - ETA: 9s - loss: 0.1269 - accuracy: 0.96 - ETA: 9s - loss: 0.1268 - accuracy: 0.96 - ETA: 8s - loss: 0.1266 - accuracy: 0.96 - ETA: 8s - loss: 0.1265 - accuracy: 0.96 - ETA: 8s - loss: 0.1263 - accuracy: 0.96 - ETA: 8s - loss: 0.1264 - accuracy: 0.96 - ETA: 8s - loss: 0.1262 - accuracy: 0.96 - ETA: 8s - loss: 0.1261 - accuracy: 0.96 - ETA: 8s - loss: 0.1259 - accuracy: 0.96 - ETA: 8s - loss: 0.1258 - accuracy: 0.96 - ETA: 8s - loss: 0.1257 - accuracy: 0.96 - ETA: 8s - loss: 0.1257 - accuracy: 0.96 - ETA: 8s - loss: 0.1255 - accuracy: 0.96 - ETA: 8s - loss: 0.1253 - accuracy: 0.96 - ETA: 8s - loss: 0.1252 - accuracy: 0.96 - ETA: 8s - loss: 0.1250 - accuracy: 0.96 - ETA: 8s - loss: 0.1248 - accuracy: 0.96 - ETA: 8s - loss: 0.1246 - accuracy: 0.96 - ETA: 8s - loss: 0.1246 - accuracy: 0.96 - ETA: 8s - loss: 0.1245 - accuracy: 0.96 - ETA: 8s - loss: 0.1244 - accuracy: 0.96 - ETA: 7s - loss: 0.1243 - accuracy: 0.96 - ETA: 7s - loss: 0.1242 - accuracy: 0.96 - ETA: 7s - loss: 0.1246 - accuracy: 0.96 - ETA: 7s - loss: 0.1244 - accuracy: 0.96 - ETA: 7s - loss: 0.1245 - accuracy: 0.96 - ETA: 7s - loss: 0.1246 - accuracy: 0.96 - ETA: 7s - loss: 0.1245 - accuracy: 0.96 - ETA: 7s - loss: 0.1243 - accuracy: 0.96 - ETA: 7s - loss: 0.1244 - accuracy: 0.96 - ETA: 7s - loss: 0.1244 - accuracy: 0.96 - ETA: 7s - loss: 0.1243 - accuracy: 0.96 - ETA: 7s - loss: 0.1242 - accuracy: 0.96 - ETA: 7s - loss: 0.1240 - accuracy: 0.96 - ETA: 7s - loss: 0.1241 - accuracy: 0.96 - ETA: 7s - loss: 0.1242 - accuracy: 0.96 - ETA: 7s - loss: 0.1242 - accuracy: 0.96 - ETA: 7s - loss: 0.1240 - accuracy: 0.96 - ETA: 7s - loss: 0.1239 - accuracy: 0.96 - ETA: 6s - loss: 0.1238 - accuracy: 0.96 - ETA: 6s - loss: 0.1238 - accuracy: 0.96 - ETA: 6s - loss: 0.1239 - accuracy: 0.96 - ETA: 6s - loss: 0.1237 - accuracy: 0.96 - ETA: 6s - loss: 0.1238 - accuracy: 0.96 - ETA: 6s - loss: 0.1237 - accuracy: 0.96 - ETA: 6s - loss: 0.1236 - accuracy: 0.96 - ETA: 6s - loss: 0.1235 - accuracy: 0.96 - ETA: 6s - loss: 0.1235 - accuracy: 0.96 - ETA: 6s - loss: 0.1233 - accuracy: 0.96 - ETA: 6s - loss: 0.1232 - accuracy: 0.96 - ETA: 6s - loss: 0.1231 - accuracy: 0.96 - ETA: 6s - loss: 0.1231 - accuracy: 0.96 - ETA: 6s - loss: 0.1230 - accuracy: 0.96 - ETA: 6s - loss: 0.1229 - accuracy: 0.96 - ETA: 6s - loss: 0.1228 - accuracy: 0.96 - ETA: 6s - loss: 0.1228 - accuracy: 0.96 - ETA: 6s - loss: 0.1227 - accuracy: 0.96 - ETA: 6s - loss: 0.1226 - accuracy: 0.96 - ETA: 5s - loss: 0.1224 - accuracy: 0.96 - ETA: 5s - loss: 0.1223 - accuracy: 0.96 - ETA: 5s - loss: 0.1223 - accuracy: 0.96 - ETA: 5s - loss: 0.1221 - accuracy: 0.96 - ETA: 5s - loss: 0.1221 - accuracy: 0.96 - ETA: 5s - loss: 0.1221 - accuracy: 0.96 - ETA: 5s - loss: 0.1221 - accuracy: 0.96 - ETA: 5s - loss: 0.1221 - accuracy: 0.96 - ETA: 5s - loss: 0.1220 - accuracy: 0.96 - ETA: 5s - loss: 0.1227 - accuracy: 0.96 - ETA: 5s - loss: 0.1226 - accuracy: 0.96 - ETA: 5s - loss: 0.1226 - accuracy: 0.96 - ETA: 5s - loss: 0.1227 - accuracy: 0.96 - ETA: 5s - loss: 0.1226 - accuracy: 0.96 - ETA: 5s - loss: 0.1226 - accuracy: 0.96 - ETA: 5s - loss: 0.1226 - accuracy: 0.96 - ETA: 5s - loss: 0.1225 - accuracy: 0.96 - ETA: 5s - loss: 0.1225 - accuracy: 0.96 - ETA: 5s - loss: 0.1224 - accuracy: 0.96 - ETA: 4s - loss: 0.1223 - accuracy: 0.96 - ETA: 4s - loss: 0.1221 - accuracy: 0.96 - ETA: 4s - loss: 0.1220 - accuracy: 0.96 - ETA: 4s - loss: 0.1218 - accuracy: 0.96 - ETA: 4s - loss: 0.1217 - accuracy: 0.96 - ETA: 4s - loss: 0.1216 - accuracy: 0.96 - ETA: 4s - loss: 0.1217 - accuracy: 0.96 - ETA: 4s - loss: 0.1217 - accuracy: 0.96 - ETA: 4s - loss: 0.1216 - accuracy: 0.96 - ETA: 4s - loss: 0.1215 - accuracy: 0.96 - ETA: 4s - loss: 0.1214 - accuracy: 0.96 - ETA: 4s - loss: 0.1212 - accuracy: 0.96 - ETA: 4s - loss: 0.1211 - accuracy: 0.96 - ETA: 4s - loss: 0.1211 - accuracy: 0.96 - ETA: 4s - loss: 0.1210 - accuracy: 0.96 - ETA: 4s - loss: 0.1212 - accuracy: 0.96 - ETA: 4s - loss: 0.1211 - accuracy: 0.96 - ETA: 4s - loss: 0.1209 - accuracy: 0.96 - ETA: 3s - loss: 0.1208 - accuracy: 0.96 - ETA: 3s - loss: 0.1206 - accuracy: 0.96 - ETA: 3s - loss: 0.1205 - accuracy: 0.96 - ETA: 3s - loss: 0.1203 - accuracy: 0.97 - ETA: 3s - loss: 0.1204 - accuracy: 0.97 - ETA: 3s - loss: 0.1203 - accuracy: 0.97 - ETA: 3s - loss: 0.1202 - accuracy: 0.97 - ETA: 3s - loss: 0.1203 - accuracy: 0.97 - ETA: 3s - loss: 0.1201 - accuracy: 0.97 - ETA: 3s - loss: 0.1200 - accuracy: 0.97 - ETA: 3s - loss: 0.1199 - accuracy: 0.97 - ETA: 3s - loss: 0.1197 - accuracy: 0.97 - ETA: 3s - loss: 0.1196 - accuracy: 0.97 - ETA: 3s - loss: 0.1195 - accuracy: 0.97 - ETA: 3s - loss: 0.1196 - accuracy: 0.97 - ETA: 3s - loss: 0.1195 - accuracy: 0.97 - ETA: 3s - loss: 0.1194 - accuracy: 0.97 - ETA: 3s - loss: 0.1192 - accuracy: 0.97 - ETA: 3s - loss: 0.1191 - accuracy: 0.97 - ETA: 2s - loss: 0.1190 - accuracy: 0.97 - ETA: 2s - loss: 0.1191 - accuracy: 0.97 - ETA: 2s - loss: 0.1190 - accuracy: 0.97 - ETA: 2s - loss: 0.1189 - accuracy: 0.97 - ETA: 2s - loss: 0.1187 - accuracy: 0.97 - ETA: 2s - loss: 0.1187 - accuracy: 0.97 - ETA: 2s - loss: 0.1186 - accuracy: 0.97 - ETA: 2s - loss: 0.1184 - accuracy: 0.97 - ETA: 2s - loss: 0.1183 - accuracy: 0.97 - ETA: 2s - loss: 0.1181 - accuracy: 0.97 - ETA: 2s - loss: 0.1180 - accuracy: 0.97 - ETA: 2s - loss: 0.1180 - accuracy: 0.97 - ETA: 2s - loss: 0.1179 - accuracy: 0.97 - ETA: 2s - loss: 0.1177 - accuracy: 0.97 - ETA: 2s - loss: 0.1176 - accuracy: 0.97 - ETA: 2s - loss: 0.1178 - accuracy: 0.97 - ETA: 2s - loss: 0.1177 - accuracy: 0.97 - ETA: 2s - loss: 0.1177 - accuracy: 0.97 - ETA: 2s - loss: 0.1177 - accuracy: 0.97 - ETA: 1s - loss: 0.1176 - accuracy: 0.97 - ETA: 1s - loss: 0.1176 - accuracy: 0.97 - ETA: 1s - loss: 0.1176 - accuracy: 0.97 - ETA: 1s - loss: 0.1174 - accuracy: 0.97 - ETA: 1s - loss: 0.1173 - accuracy: 0.97 - ETA: 1s - loss: 0.1173 - accuracy: 0.97 - ETA: 1s - loss: 0.1171 - accuracy: 0.97 - ETA: 1s - loss: 0.1171 - accuracy: 0.97 - ETA: 1s - loss: 0.1170 - accuracy: 0.97 - ETA: 1s - loss: 0.1169 - accuracy: 0.97 - ETA: 1s - loss: 0.1168 - accuracy: 0.97 - ETA: 1s - loss: 0.1168 - accuracy: 0.97 - ETA: 1s - loss: 0.1167 - accuracy: 0.97 - ETA: 1s - loss: 0.1166 - accuracy: 0.97 - ETA: 1s - loss: 0.1165 - accuracy: 0.97 - ETA: 1s - loss: 0.1163 - accuracy: 0.97 - ETA: 1s - loss: 0.1162 - accuracy: 0.97 - ETA: 1s - loss: 0.1161 - accuracy: 0.97 - ETA: 0s - loss: 0.1161 - accuracy: 0.97 - ETA: 0s - loss: 0.1160 - accuracy: 0.97 - ETA: 0s - loss: 0.1159 - accuracy: 0.97 - ETA: 0s - loss: 0.1157 - accuracy: 0.97 - ETA: 0s - loss: 0.1157 - accuracy: 0.97 - ETA: 0s - loss: 0.1156 - accuracy: 0.97 - ETA: 0s - loss: 0.1156 - accuracy: 0.97 - ETA: 0s - loss: 0.1158 - accuracy: 0.97 - ETA: 0s - loss: 0.1159 - accuracy: 0.97 - ETA: 0s - loss: 0.1159 - accuracy: 0.97 - ETA: 0s - loss: 0.1158 - accuracy: 0.97 - ETA: 0s - loss: 0.1158 - accuracy: 0.97 - ETA: 0s - loss: 0.1157 - accuracy: 0.97 - ETA: 0s - loss: 0.1160 - accuracy: 0.97 - ETA: 0s - loss: 0.1159 - accuracy: 0.97 - ETA: 0s - loss: 0.1159 - accuracy: 0.97 - ETA: 0s - loss: 0.1158 - accuracy: 0.97 - ETA: 0s - loss: 0.1157 - accuracy: 0.97 - ETA: 0s - loss: 0.1156 - accuracy: 0.97 - 44s 29ms/step - loss: 0.1156 - accuracy: 0.9710 - val_loss: 0.1150 - val_accuracy: 0.9672\n"
     ]
    },
    {
     "name": "stdout",
     "output_type": "stream",
     "text": [
      "Epoch 3/3\n"
     ]
    },
    {
     "name": "stdout",
     "output_type": "stream",
     "text": [
      " 369/1500 [======>.......................] - ETA: 3:14 - loss: 0.0233 - accuracy: 1.00 - ETA: 1:31 - loss: 0.0926 - accuracy: 0.97 - ETA: 1:10 - loss: 0.0929 - accuracy: 0.97 - ETA: 1:01 - loss: 0.0969 - accuracy: 0.96 - ETA: 56s - loss: 0.0840 - accuracy: 0.9722 - ETA: 53s - loss: 0.0724 - accuracy: 0.974 - ETA: 51s - loss: 0.1010 - accuracy: 0.968 - ETA: 49s - loss: 0.0901 - accuracy: 0.972 - ETA: 48s - loss: 0.1393 - accuracy: 0.970 - ETA: 47s - loss: 0.1277 - accuracy: 0.972 - ETA: 46s - loss: 0.1354 - accuracy: 0.973 - ETA: 45s - loss: 0.1277 - accuracy: 0.974 - ETA: 45s - loss: 0.1198 - accuracy: 0.976 - ETA: 44s - loss: 0.1236 - accuracy: 0.975 - ETA: 44s - loss: 0.1364 - accuracy: 0.974 - ETA: 43s - loss: 0.1281 - accuracy: 0.975 - ETA: 43s - loss: 0.1284 - accuracy: 0.974 - ETA: 43s - loss: 0.1251 - accuracy: 0.975 - ETA: 42s - loss: 0.1225 - accuracy: 0.975 - ETA: 42s - loss: 0.1224 - accuracy: 0.974 - ETA: 42s - loss: 0.1185 - accuracy: 0.974 - ETA: 42s - loss: 0.1168 - accuracy: 0.974 - ETA: 42s - loss: 0.1152 - accuracy: 0.975 - ETA: 41s - loss: 0.1108 - accuracy: 0.976 - ETA: 41s - loss: 0.1075 - accuracy: 0.977 - ETA: 41s - loss: 0.1073 - accuracy: 0.977 - ETA: 41s - loss: 0.1044 - accuracy: 0.977 - ETA: 41s - loss: 0.1040 - accuracy: 0.977 - ETA: 41s - loss: 0.1056 - accuracy: 0.978 - ETA: 40s - loss: 0.1025 - accuracy: 0.978 - ETA: 40s - loss: 0.1026 - accuracy: 0.978 - ETA: 40s - loss: 0.1008 - accuracy: 0.978 - ETA: 40s - loss: 0.0987 - accuracy: 0.978 - ETA: 40s - loss: 0.0958 - accuracy: 0.979 - ETA: 40s - loss: 0.0954 - accuracy: 0.979 - ETA: 40s - loss: 0.0976 - accuracy: 0.978 - ETA: 40s - loss: 0.0952 - accuracy: 0.978 - ETA: 39s - loss: 0.0931 - accuracy: 0.979 - ETA: 39s - loss: 0.0928 - accuracy: 0.978 - ETA: 39s - loss: 0.0911 - accuracy: 0.979 - ETA: 39s - loss: 0.0912 - accuracy: 0.979 - ETA: 39s - loss: 0.0899 - accuracy: 0.979 - ETA: 39s - loss: 0.0921 - accuracy: 0.979 - ETA: 39s - loss: 0.0933 - accuracy: 0.979 - ETA: 39s - loss: 0.0928 - accuracy: 0.979 - ETA: 39s - loss: 0.0909 - accuracy: 0.979 - ETA: 39s - loss: 0.0892 - accuracy: 0.980 - ETA: 39s - loss: 0.0891 - accuracy: 0.979 - ETA: 38s - loss: 0.0875 - accuracy: 0.980 - ETA: 38s - loss: 0.0861 - accuracy: 0.980 - ETA: 38s - loss: 0.0869 - accuracy: 0.980 - ETA: 38s - loss: 0.0855 - accuracy: 0.981 - ETA: 38s - loss: 0.0841 - accuracy: 0.981 - ETA: 38s - loss: 0.0829 - accuracy: 0.981 - ETA: 38s - loss: 0.0827 - accuracy: 0.981 - ETA: 38s - loss: 0.0834 - accuracy: 0.980 - ETA: 38s - loss: 0.0821 - accuracy: 0.980 - ETA: 38s - loss: 0.0834 - accuracy: 0.981 - ETA: 38s - loss: 0.0854 - accuracy: 0.980 - ETA: 38s - loss: 0.0844 - accuracy: 0.980 - ETA: 38s - loss: 0.0834 - accuracy: 0.981 - ETA: 37s - loss: 0.0823 - accuracy: 0.981 - ETA: 37s - loss: 0.0817 - accuracy: 0.981 - ETA: 37s - loss: 0.0821 - accuracy: 0.981 - ETA: 37s - loss: 0.0815 - accuracy: 0.981 - ETA: 37s - loss: 0.0808 - accuracy: 0.981 - ETA: 37s - loss: 0.0797 - accuracy: 0.981 - ETA: 37s - loss: 0.0788 - accuracy: 0.981 - ETA: 37s - loss: 0.0787 - accuracy: 0.981 - ETA: 37s - loss: 0.0785 - accuracy: 0.981 - ETA: 37s - loss: 0.0799 - accuracy: 0.981 - ETA: 37s - loss: 0.0788 - accuracy: 0.981 - ETA: 37s - loss: 0.0783 - accuracy: 0.981 - ETA: 37s - loss: 0.0780 - accuracy: 0.981 - ETA: 37s - loss: 0.0776 - accuracy: 0.981 - ETA: 37s - loss: 0.0768 - accuracy: 0.981 - ETA: 36s - loss: 0.0759 - accuracy: 0.981 - ETA: 36s - loss: 0.0752 - accuracy: 0.982 - ETA: 36s - loss: 0.0747 - accuracy: 0.982 - ETA: 36s - loss: 0.0741 - accuracy: 0.982 - ETA: 36s - loss: 0.0739 - accuracy: 0.982 - ETA: 36s - loss: 0.0744 - accuracy: 0.981 - ETA: 36s - loss: 0.0740 - accuracy: 0.981 - ETA: 36s - loss: 0.0744 - accuracy: 0.981 - ETA: 36s - loss: 0.0735 - accuracy: 0.982 - ETA: 36s - loss: 0.0730 - accuracy: 0.982 - ETA: 36s - loss: 0.0723 - accuracy: 0.982 - ETA: 36s - loss: 0.0723 - accuracy: 0.982 - ETA: 36s - loss: 0.0717 - accuracy: 0.982 - ETA: 36s - loss: 0.0713 - accuracy: 0.982 - ETA: 35s - loss: 0.0711 - accuracy: 0.982 - ETA: 35s - loss: 0.0707 - accuracy: 0.982 - ETA: 35s - loss: 0.0713 - accuracy: 0.982 - ETA: 35s - loss: 0.0712 - accuracy: 0.982 - ETA: 35s - loss: 0.0707 - accuracy: 0.982 - ETA: 35s - loss: 0.0705 - accuracy: 0.982 - ETA: 35s - loss: 0.0704 - accuracy: 0.982 - ETA: 35s - loss: 0.0700 - accuracy: 0.982 - ETA: 35s - loss: 0.0699 - accuracy: 0.982 - ETA: 35s - loss: 0.0701 - accuracy: 0.982 - ETA: 35s - loss: 0.0703 - accuracy: 0.982 - ETA: 35s - loss: 0.0701 - accuracy: 0.981 - ETA: 35s - loss: 0.0699 - accuracy: 0.981 - ETA: 35s - loss: 0.0694 - accuracy: 0.982 - ETA: 35s - loss: 0.0688 - accuracy: 0.982 - ETA: 35s - loss: 0.0688 - accuracy: 0.982 - ETA: 34s - loss: 0.0692 - accuracy: 0.982 - ETA: 34s - loss: 0.0687 - accuracy: 0.982 - ETA: 34s - loss: 0.0683 - accuracy: 0.982 - ETA: 34s - loss: 0.0695 - accuracy: 0.981 - ETA: 34s - loss: 0.0692 - accuracy: 0.981 - ETA: 34s - loss: 0.0705 - accuracy: 0.981 - ETA: 34s - loss: 0.0703 - accuracy: 0.981 - ETA: 34s - loss: 0.0743 - accuracy: 0.981 - ETA: 34s - loss: 0.0748 - accuracy: 0.980 - ETA: 34s - loss: 0.0745 - accuracy: 0.980 - ETA: 34s - loss: 0.0739 - accuracy: 0.981 - ETA: 34s - loss: 0.0742 - accuracy: 0.981 - ETA: 34s - loss: 0.0740 - accuracy: 0.981 - ETA: 34s - loss: 0.0750 - accuracy: 0.980 - ETA: 34s - loss: 0.0745 - accuracy: 0.980 - ETA: 34s - loss: 0.0756 - accuracy: 0.980 - ETA: 33s - loss: 0.0756 - accuracy: 0.980 - ETA: 33s - loss: 0.0767 - accuracy: 0.980 - ETA: 33s - loss: 0.0768 - accuracy: 0.980 - ETA: 33s - loss: 0.0779 - accuracy: 0.979 - ETA: 33s - loss: 0.0775 - accuracy: 0.979 - ETA: 33s - loss: 0.0771 - accuracy: 0.980 - ETA: 33s - loss: 0.0776 - accuracy: 0.979 - ETA: 33s - loss: 0.0772 - accuracy: 0.979 - ETA: 33s - loss: 0.0771 - accuracy: 0.979 - ETA: 33s - loss: 0.0771 - accuracy: 0.979 - ETA: 33s - loss: 0.0777 - accuracy: 0.979 - ETA: 33s - loss: 0.0776 - accuracy: 0.979 - ETA: 33s - loss: 0.0775 - accuracy: 0.979 - ETA: 33s - loss: 0.0771 - accuracy: 0.979 - ETA: 33s - loss: 0.0774 - accuracy: 0.979 - ETA: 33s - loss: 0.0770 - accuracy: 0.979 - ETA: 33s - loss: 0.0781 - accuracy: 0.978 - ETA: 33s - loss: 0.0778 - accuracy: 0.979 - ETA: 32s - loss: 0.0777 - accuracy: 0.979 - ETA: 32s - loss: 0.0777 - accuracy: 0.979 - ETA: 32s - loss: 0.0775 - accuracy: 0.979 - ETA: 32s - loss: 0.0771 - accuracy: 0.979 - ETA: 32s - loss: 0.0767 - accuracy: 0.979 - ETA: 32s - loss: 0.0771 - accuracy: 0.979 - ETA: 32s - loss: 0.0781 - accuracy: 0.979 - ETA: 32s - loss: 0.0797 - accuracy: 0.979 - ETA: 32s - loss: 0.0800 - accuracy: 0.978 - ETA: 32s - loss: 0.0808 - accuracy: 0.978 - ETA: 32s - loss: 0.0805 - accuracy: 0.978 - ETA: 32s - loss: 0.0809 - accuracy: 0.978 - ETA: 32s - loss: 0.0805 - accuracy: 0.978 - ETA: 32s - loss: 0.0805 - accuracy: 0.978 - ETA: 32s - loss: 0.0802 - accuracy: 0.978 - ETA: 32s - loss: 0.0801 - accuracy: 0.978 - ETA: 32s - loss: 0.0798 - accuracy: 0.978 - ETA: 31s - loss: 0.0803 - accuracy: 0.978 - ETA: 31s - loss: 0.0802 - accuracy: 0.978 - ETA: 31s - loss: 0.0798 - accuracy: 0.978 - ETA: 31s - loss: 0.0813 - accuracy: 0.977 - ETA: 31s - loss: 0.0814 - accuracy: 0.977 - ETA: 31s - loss: 0.0809 - accuracy: 0.977 - ETA: 31s - loss: 0.0805 - accuracy: 0.978 - ETA: 31s - loss: 0.0808 - accuracy: 0.978 - ETA: 31s - loss: 0.0805 - accuracy: 0.978 - ETA: 31s - loss: 0.0809 - accuracy: 0.978 - ETA: 31s - loss: 0.0807 - accuracy: 0.978 - ETA: 31s - loss: 0.0818 - accuracy: 0.977 - ETA: 31s - loss: 0.0818 - accuracy: 0.977 - ETA: 31s - loss: 0.0816 - accuracy: 0.977 - ETA: 31s - loss: 0.0814 - accuracy: 0.977 - ETA: 31s - loss: 0.0819 - accuracy: 0.977 - ETA: 31s - loss: 0.0819 - accuracy: 0.977 - ETA: 31s - loss: 0.0818 - accuracy: 0.977 - ETA: 30s - loss: 0.0818 - accuracy: 0.977 - ETA: 30s - loss: 0.0818 - accuracy: 0.977 - ETA: 30s - loss: 0.0818 - accuracy: 0.977 - ETA: 30s - loss: 0.0817 - accuracy: 0.977 - ETA: 30s - loss: 0.0815 - accuracy: 0.977 - ETA: 30s - loss: 0.0813 - accuracy: 0.977 - ETA: 30s - loss: 0.0811 - accuracy: 0.977 - ETA: 30s - loss: 0.0808 - accuracy: 0.977 - ETA: 30s - loss: 0.0806 - accuracy: 0.977 - ETA: 30s - loss: 0.0809 - accuracy: 0.977 741/1500 [=============>................] - ETA: 30s - loss: 0.0806 - accuracy: 0.977 - ETA: 30s - loss: 0.0804 - accuracy: 0.977 - ETA: 30s - loss: 0.0801 - accuracy: 0.977 - ETA: 30s - loss: 0.0799 - accuracy: 0.977 - ETA: 30s - loss: 0.0797 - accuracy: 0.977 - ETA: 30s - loss: 0.0793 - accuracy: 0.977 - ETA: 30s - loss: 0.0790 - accuracy: 0.977 - ETA: 30s - loss: 0.0789 - accuracy: 0.977 - ETA: 30s - loss: 0.0788 - accuracy: 0.977 - ETA: 29s - loss: 0.0787 - accuracy: 0.977 - ETA: 29s - loss: 0.0784 - accuracy: 0.977 - ETA: 29s - loss: 0.0780 - accuracy: 0.977 - ETA: 29s - loss: 0.0777 - accuracy: 0.978 - ETA: 29s - loss: 0.0778 - accuracy: 0.978 - ETA: 29s - loss: 0.0775 - accuracy: 0.978 - ETA: 29s - loss: 0.0778 - accuracy: 0.978 - ETA: 29s - loss: 0.0774 - accuracy: 0.978 - ETA: 29s - loss: 0.0772 - accuracy: 0.978 - ETA: 29s - loss: 0.0768 - accuracy: 0.978 - ETA: 29s - loss: 0.0767 - accuracy: 0.978 - ETA: 29s - loss: 0.0766 - accuracy: 0.978 - ETA: 29s - loss: 0.0762 - accuracy: 0.978 - ETA: 29s - loss: 0.0761 - accuracy: 0.978 - ETA: 29s - loss: 0.0757 - accuracy: 0.978 - ETA: 29s - loss: 0.0754 - accuracy: 0.978 - ETA: 29s - loss: 0.0752 - accuracy: 0.978 - ETA: 29s - loss: 0.0754 - accuracy: 0.978 - ETA: 29s - loss: 0.0750 - accuracy: 0.978 - ETA: 28s - loss: 0.0748 - accuracy: 0.978 - ETA: 28s - loss: 0.0746 - accuracy: 0.978 - ETA: 28s - loss: 0.0744 - accuracy: 0.978 - ETA: 28s - loss: 0.0742 - accuracy: 0.978 - ETA: 28s - loss: 0.0759 - accuracy: 0.978 - ETA: 28s - loss: 0.0757 - accuracy: 0.978 - ETA: 28s - loss: 0.0757 - accuracy: 0.978 - ETA: 28s - loss: 0.0758 - accuracy: 0.978 - ETA: 28s - loss: 0.0756 - accuracy: 0.978 - ETA: 28s - loss: 0.0760 - accuracy: 0.978 - ETA: 28s - loss: 0.0757 - accuracy: 0.978 - ETA: 28s - loss: 0.0756 - accuracy: 0.978 - ETA: 28s - loss: 0.0754 - accuracy: 0.978 - ETA: 28s - loss: 0.0753 - accuracy: 0.978 - ETA: 28s - loss: 0.0753 - accuracy: 0.978 - ETA: 28s - loss: 0.0754 - accuracy: 0.978 - ETA: 28s - loss: 0.0751 - accuracy: 0.979 - ETA: 28s - loss: 0.0753 - accuracy: 0.979 - ETA: 28s - loss: 0.0751 - accuracy: 0.979 - ETA: 27s - loss: 0.0748 - accuracy: 0.979 - ETA: 27s - loss: 0.0745 - accuracy: 0.979 - ETA: 27s - loss: 0.0743 - accuracy: 0.979 - ETA: 27s - loss: 0.0746 - accuracy: 0.979 - ETA: 27s - loss: 0.0748 - accuracy: 0.979 - ETA: 27s - loss: 0.0745 - accuracy: 0.979 - ETA: 27s - loss: 0.0744 - accuracy: 0.979 - ETA: 27s - loss: 0.0741 - accuracy: 0.979 - ETA: 27s - loss: 0.0740 - accuracy: 0.979 - ETA: 27s - loss: 0.0744 - accuracy: 0.979 - ETA: 27s - loss: 0.0742 - accuracy: 0.979 - ETA: 27s - loss: 0.0740 - accuracy: 0.979 - ETA: 27s - loss: 0.0743 - accuracy: 0.979 - ETA: 27s - loss: 0.0741 - accuracy: 0.979 - ETA: 27s - loss: 0.0741 - accuracy: 0.979 - ETA: 27s - loss: 0.0738 - accuracy: 0.979 - ETA: 27s - loss: 0.0737 - accuracy: 0.979 - ETA: 27s - loss: 0.0735 - accuracy: 0.979 - ETA: 27s - loss: 0.0733 - accuracy: 0.979 - ETA: 26s - loss: 0.0730 - accuracy: 0.979 - ETA: 26s - loss: 0.0729 - accuracy: 0.979 - ETA: 26s - loss: 0.0732 - accuracy: 0.979 - ETA: 26s - loss: 0.0729 - accuracy: 0.979 - ETA: 26s - loss: 0.0729 - accuracy: 0.979 - ETA: 26s - loss: 0.0729 - accuracy: 0.979 - ETA: 26s - loss: 0.0727 - accuracy: 0.979 - ETA: 26s - loss: 0.0726 - accuracy: 0.979 - ETA: 26s - loss: 0.0726 - accuracy: 0.979 - ETA: 26s - loss: 0.0727 - accuracy: 0.979 - ETA: 26s - loss: 0.0726 - accuracy: 0.979 - ETA: 26s - loss: 0.0726 - accuracy: 0.979 - ETA: 26s - loss: 0.0725 - accuracy: 0.979 - ETA: 26s - loss: 0.0724 - accuracy: 0.979 - ETA: 26s - loss: 0.0723 - accuracy: 0.979 - ETA: 26s - loss: 0.0725 - accuracy: 0.979 - ETA: 26s - loss: 0.0726 - accuracy: 0.979 - ETA: 26s - loss: 0.0725 - accuracy: 0.979 - ETA: 25s - loss: 0.0723 - accuracy: 0.979 - ETA: 25s - loss: 0.0721 - accuracy: 0.979 - ETA: 25s - loss: 0.0719 - accuracy: 0.979 - ETA: 25s - loss: 0.0718 - accuracy: 0.979 - ETA: 25s - loss: 0.0721 - accuracy: 0.979 - ETA: 25s - loss: 0.0725 - accuracy: 0.979 - ETA: 25s - loss: 0.0724 - accuracy: 0.979 - ETA: 25s - loss: 0.0722 - accuracy: 0.979 - ETA: 25s - loss: 0.0727 - accuracy: 0.979 - ETA: 25s - loss: 0.0736 - accuracy: 0.979 - ETA: 25s - loss: 0.0733 - accuracy: 0.979 - ETA: 25s - loss: 0.0733 - accuracy: 0.979 - ETA: 25s - loss: 0.0734 - accuracy: 0.979 - ETA: 25s - loss: 0.0732 - accuracy: 0.979 - ETA: 25s - loss: 0.0731 - accuracy: 0.979 - ETA: 25s - loss: 0.0730 - accuracy: 0.979 - ETA: 25s - loss: 0.0732 - accuracy: 0.979 - ETA: 25s - loss: 0.0730 - accuracy: 0.979 - ETA: 25s - loss: 0.0734 - accuracy: 0.979 - ETA: 24s - loss: 0.0733 - accuracy: 0.979 - ETA: 24s - loss: 0.0732 - accuracy: 0.979 - ETA: 24s - loss: 0.0730 - accuracy: 0.979 - ETA: 24s - loss: 0.0728 - accuracy: 0.979 - ETA: 24s - loss: 0.0726 - accuracy: 0.979 - ETA: 24s - loss: 0.0726 - accuracy: 0.979 - ETA: 24s - loss: 0.0726 - accuracy: 0.979 - ETA: 24s - loss: 0.0724 - accuracy: 0.979 - ETA: 24s - loss: 0.0722 - accuracy: 0.979 - ETA: 24s - loss: 0.0721 - accuracy: 0.979 - ETA: 24s - loss: 0.0724 - accuracy: 0.979 - ETA: 24s - loss: 0.0723 - accuracy: 0.979 - ETA: 24s - loss: 0.0722 - accuracy: 0.979 - ETA: 24s - loss: 0.0719 - accuracy: 0.979 - ETA: 24s - loss: 0.0724 - accuracy: 0.979 - ETA: 24s - loss: 0.0725 - accuracy: 0.979 - ETA: 24s - loss: 0.0723 - accuracy: 0.979 - ETA: 24s - loss: 0.0724 - accuracy: 0.979 - ETA: 24s - loss: 0.0722 - accuracy: 0.979 - ETA: 23s - loss: 0.0720 - accuracy: 0.979 - ETA: 23s - loss: 0.0718 - accuracy: 0.979 - ETA: 23s - loss: 0.0718 - accuracy: 0.979 - ETA: 23s - loss: 0.0717 - accuracy: 0.979 - ETA: 23s - loss: 0.0715 - accuracy: 0.979 - ETA: 23s - loss: 0.0714 - accuracy: 0.979 - ETA: 23s - loss: 0.0719 - accuracy: 0.979 - ETA: 23s - loss: 0.0717 - accuracy: 0.979 - ETA: 23s - loss: 0.0719 - accuracy: 0.979 - ETA: 23s - loss: 0.0719 - accuracy: 0.979 - ETA: 23s - loss: 0.0717 - accuracy: 0.979 - ETA: 23s - loss: 0.0717 - accuracy: 0.979 - ETA: 23s - loss: 0.0715 - accuracy: 0.979 - ETA: 23s - loss: 0.0713 - accuracy: 0.979 - ETA: 23s - loss: 0.0714 - accuracy: 0.979 - ETA: 23s - loss: 0.0712 - accuracy: 0.979 - ETA: 23s - loss: 0.0714 - accuracy: 0.979 - ETA: 23s - loss: 0.0715 - accuracy: 0.979 - ETA: 23s - loss: 0.0716 - accuracy: 0.979 - ETA: 22s - loss: 0.0714 - accuracy: 0.979 - ETA: 22s - loss: 0.0714 - accuracy: 0.979 - ETA: 22s - loss: 0.0713 - accuracy: 0.979 - ETA: 22s - loss: 0.0712 - accuracy: 0.979 - ETA: 22s - loss: 0.0713 - accuracy: 0.979 - ETA: 22s - loss: 0.0712 - accuracy: 0.979 - ETA: 22s - loss: 0.0710 - accuracy: 0.979 - ETA: 22s - loss: 0.0709 - accuracy: 0.979 - ETA: 22s - loss: 0.0707 - accuracy: 0.979 - ETA: 22s - loss: 0.0706 - accuracy: 0.979 - ETA: 22s - loss: 0.0705 - accuracy: 0.979 - ETA: 22s - loss: 0.0704 - accuracy: 0.979 - ETA: 22s - loss: 0.0703 - accuracy: 0.979 - ETA: 22s - loss: 0.0703 - accuracy: 0.979 - ETA: 22s - loss: 0.0703 - accuracy: 0.979 - ETA: 22s - loss: 0.0702 - accuracy: 0.979 - ETA: 22s - loss: 0.0701 - accuracy: 0.979 - ETA: 22s - loss: 0.0708 - accuracy: 0.979 - ETA: 22s - loss: 0.0706 - accuracy: 0.979 - ETA: 21s - loss: 0.0704 - accuracy: 0.980 - ETA: 21s - loss: 0.0702 - accuracy: 0.980 - ETA: 21s - loss: 0.0706 - accuracy: 0.979 - ETA: 21s - loss: 0.0705 - accuracy: 0.980 - ETA: 21s - loss: 0.0704 - accuracy: 0.980 - ETA: 21s - loss: 0.0702 - accuracy: 0.980 - ETA: 21s - loss: 0.0701 - accuracy: 0.980 - ETA: 21s - loss: 0.0700 - accuracy: 0.980 - ETA: 21s - loss: 0.0699 - accuracy: 0.980 - ETA: 21s - loss: 0.0699 - accuracy: 0.980 - ETA: 21s - loss: 0.0697 - accuracy: 0.980 - ETA: 21s - loss: 0.0698 - accuracy: 0.980 - ETA: 21s - loss: 0.0698 - accuracy: 0.980 - ETA: 21s - loss: 0.0696 - accuracy: 0.980 - ETA: 21s - loss: 0.0694 - accuracy: 0.980 - ETA: 21s - loss: 0.0693 - accuracy: 0.980 - ETA: 21s - loss: 0.0694 - accuracy: 0.980 - ETA: 21s - loss: 0.0692 - accuracy: 0.980 - ETA: 20s - loss: 0.0691 - accuracy: 0.980 - ETA: 20s - loss: 0.0689 - accuracy: 0.980 - ETA: 20s - loss: 0.0688 - accuracy: 0.980 - ETA: 20s - loss: 0.0689 - accuracy: 0.980 - ETA: 20s - loss: 0.0687 - accuracy: 0.980 - ETA: 20s - loss: 0.0686 - accuracy: 0.980 - ETA: 20s - loss: 0.0686 - accuracy: 0.980 - ETA: 20s - loss: 0.0685 - accuracy: 0.9805"
     ]
    },
    {
     "name": "stdout",
     "output_type": "stream",
     "text": [
      "1113/1500 [=====================>........] - ETA: 20s - loss: 0.0683 - accuracy: 0.980 - ETA: 20s - loss: 0.0684 - accuracy: 0.980 - ETA: 20s - loss: 0.0683 - accuracy: 0.980 - ETA: 20s - loss: 0.0687 - accuracy: 0.980 - ETA: 20s - loss: 0.0685 - accuracy: 0.980 - ETA: 20s - loss: 0.0685 - accuracy: 0.980 - ETA: 20s - loss: 0.0685 - accuracy: 0.980 - ETA: 20s - loss: 0.0685 - accuracy: 0.980 - ETA: 20s - loss: 0.0684 - accuracy: 0.980 - ETA: 20s - loss: 0.0683 - accuracy: 0.980 - ETA: 20s - loss: 0.0682 - accuracy: 0.980 - ETA: 19s - loss: 0.0683 - accuracy: 0.980 - ETA: 19s - loss: 0.0683 - accuracy: 0.980 - ETA: 19s - loss: 0.0682 - accuracy: 0.980 - ETA: 19s - loss: 0.0683 - accuracy: 0.980 - ETA: 19s - loss: 0.0681 - accuracy: 0.980 - ETA: 19s - loss: 0.0682 - accuracy: 0.980 - ETA: 19s - loss: 0.0681 - accuracy: 0.980 - ETA: 19s - loss: 0.0680 - accuracy: 0.980 - ETA: 19s - loss: 0.0679 - accuracy: 0.980 - ETA: 19s - loss: 0.0679 - accuracy: 0.980 - ETA: 19s - loss: 0.0678 - accuracy: 0.980 - ETA: 19s - loss: 0.0679 - accuracy: 0.980 - ETA: 19s - loss: 0.0680 - accuracy: 0.980 - ETA: 19s - loss: 0.0679 - accuracy: 0.980 - ETA: 19s - loss: 0.0677 - accuracy: 0.980 - ETA: 19s - loss: 0.0676 - accuracy: 0.980 - ETA: 19s - loss: 0.0674 - accuracy: 0.980 - ETA: 19s - loss: 0.0675 - accuracy: 0.980 - ETA: 18s - loss: 0.0674 - accuracy: 0.980 - ETA: 18s - loss: 0.0674 - accuracy: 0.980 - ETA: 18s - loss: 0.0673 - accuracy: 0.980 - ETA: 18s - loss: 0.0676 - accuracy: 0.980 - ETA: 18s - loss: 0.0675 - accuracy: 0.980 - ETA: 18s - loss: 0.0675 - accuracy: 0.980 - ETA: 18s - loss: 0.0674 - accuracy: 0.980 - ETA: 18s - loss: 0.0675 - accuracy: 0.980 - ETA: 18s - loss: 0.0674 - accuracy: 0.980 - ETA: 18s - loss: 0.0674 - accuracy: 0.980 - ETA: 18s - loss: 0.0673 - accuracy: 0.980 - ETA: 18s - loss: 0.0671 - accuracy: 0.980 - ETA: 18s - loss: 0.0671 - accuracy: 0.980 - ETA: 18s - loss: 0.0674 - accuracy: 0.980 - ETA: 18s - loss: 0.0675 - accuracy: 0.980 - ETA: 18s - loss: 0.0676 - accuracy: 0.980 - ETA: 18s - loss: 0.0682 - accuracy: 0.980 - ETA: 18s - loss: 0.0682 - accuracy: 0.980 - ETA: 18s - loss: 0.0685 - accuracy: 0.980 - ETA: 17s - loss: 0.0685 - accuracy: 0.980 - ETA: 17s - loss: 0.0686 - accuracy: 0.980 - ETA: 17s - loss: 0.0685 - accuracy: 0.980 - ETA: 17s - loss: 0.0686 - accuracy: 0.980 - ETA: 17s - loss: 0.0686 - accuracy: 0.980 - ETA: 17s - loss: 0.0686 - accuracy: 0.980 - ETA: 17s - loss: 0.0686 - accuracy: 0.980 - ETA: 17s - loss: 0.0687 - accuracy: 0.980 - ETA: 17s - loss: 0.0686 - accuracy: 0.980 - ETA: 17s - loss: 0.0685 - accuracy: 0.980 - ETA: 17s - loss: 0.0685 - accuracy: 0.980 - ETA: 17s - loss: 0.0684 - accuracy: 0.980 - ETA: 17s - loss: 0.0686 - accuracy: 0.980 - ETA: 17s - loss: 0.0685 - accuracy: 0.980 - ETA: 17s - loss: 0.0685 - accuracy: 0.980 - ETA: 17s - loss: 0.0683 - accuracy: 0.980 - ETA: 17s - loss: 0.0684 - accuracy: 0.980 - ETA: 17s - loss: 0.0683 - accuracy: 0.980 - ETA: 16s - loss: 0.0681 - accuracy: 0.980 - ETA: 16s - loss: 0.0682 - accuracy: 0.980 - ETA: 16s - loss: 0.0681 - accuracy: 0.980 - ETA: 16s - loss: 0.0683 - accuracy: 0.980 - ETA: 16s - loss: 0.0681 - accuracy: 0.980 - ETA: 16s - loss: 0.0681 - accuracy: 0.980 - ETA: 16s - loss: 0.0681 - accuracy: 0.980 - ETA: 16s - loss: 0.0682 - accuracy: 0.980 - ETA: 16s - loss: 0.0681 - accuracy: 0.980 - ETA: 16s - loss: 0.0681 - accuracy: 0.980 - ETA: 16s - loss: 0.0680 - accuracy: 0.980 - ETA: 16s - loss: 0.0681 - accuracy: 0.980 - ETA: 16s - loss: 0.0681 - accuracy: 0.980 - ETA: 16s - loss: 0.0683 - accuracy: 0.980 - ETA: 16s - loss: 0.0682 - accuracy: 0.980 - ETA: 16s - loss: 0.0684 - accuracy: 0.980 - ETA: 16s - loss: 0.0684 - accuracy: 0.980 - ETA: 16s - loss: 0.0685 - accuracy: 0.980 - ETA: 15s - loss: 0.0685 - accuracy: 0.980 - ETA: 15s - loss: 0.0688 - accuracy: 0.980 - ETA: 15s - loss: 0.0688 - accuracy: 0.980 - ETA: 15s - loss: 0.0688 - accuracy: 0.980 - ETA: 15s - loss: 0.0687 - accuracy: 0.980 - ETA: 15s - loss: 0.0686 - accuracy: 0.980 - ETA: 15s - loss: 0.0685 - accuracy: 0.980 - ETA: 15s - loss: 0.0687 - accuracy: 0.980 - ETA: 15s - loss: 0.0685 - accuracy: 0.980 - ETA: 15s - loss: 0.0685 - accuracy: 0.980 - ETA: 15s - loss: 0.0684 - accuracy: 0.980 - ETA: 15s - loss: 0.0683 - accuracy: 0.980 - ETA: 15s - loss: 0.0682 - accuracy: 0.980 - ETA: 15s - loss: 0.0682 - accuracy: 0.980 - ETA: 15s - loss: 0.0683 - accuracy: 0.980 - ETA: 15s - loss: 0.0683 - accuracy: 0.980 - ETA: 15s - loss: 0.0684 - accuracy: 0.980 - ETA: 15s - loss: 0.0682 - accuracy: 0.980 - ETA: 15s - loss: 0.0681 - accuracy: 0.980 - ETA: 14s - loss: 0.0680 - accuracy: 0.980 - ETA: 14s - loss: 0.0679 - accuracy: 0.980 - ETA: 14s - loss: 0.0679 - accuracy: 0.980 - ETA: 14s - loss: 0.0679 - accuracy: 0.980 - ETA: 14s - loss: 0.0680 - accuracy: 0.980 - ETA: 14s - loss: 0.0679 - accuracy: 0.980 - ETA: 14s - loss: 0.0678 - accuracy: 0.980 - ETA: 14s - loss: 0.0678 - accuracy: 0.980 - ETA: 14s - loss: 0.0678 - accuracy: 0.980 - ETA: 14s - loss: 0.0677 - accuracy: 0.980 - ETA: 14s - loss: 0.0679 - accuracy: 0.980 - ETA: 14s - loss: 0.0679 - accuracy: 0.980 - ETA: 14s - loss: 0.0678 - accuracy: 0.980 - ETA: 14s - loss: 0.0679 - accuracy: 0.980 - ETA: 14s - loss: 0.0677 - accuracy: 0.980 - ETA: 14s - loss: 0.0676 - accuracy: 0.980 - ETA: 14s - loss: 0.0678 - accuracy: 0.980 - ETA: 14s - loss: 0.0679 - accuracy: 0.980 - ETA: 14s - loss: 0.0678 - accuracy: 0.980 - ETA: 13s - loss: 0.0677 - accuracy: 0.980 - ETA: 13s - loss: 0.0677 - accuracy: 0.980 - ETA: 13s - loss: 0.0680 - accuracy: 0.980 - ETA: 13s - loss: 0.0679 - accuracy: 0.980 - ETA: 13s - loss: 0.0679 - accuracy: 0.980 - ETA: 13s - loss: 0.0680 - accuracy: 0.980 - ETA: 13s - loss: 0.0679 - accuracy: 0.980 - ETA: 13s - loss: 0.0678 - accuracy: 0.980 - ETA: 13s - loss: 0.0677 - accuracy: 0.980 - ETA: 13s - loss: 0.0678 - accuracy: 0.980 - ETA: 13s - loss: 0.0678 - accuracy: 0.980 - ETA: 13s - loss: 0.0678 - accuracy: 0.980 - ETA: 13s - loss: 0.0678 - accuracy: 0.980 - ETA: 13s - loss: 0.0680 - accuracy: 0.980 - ETA: 13s - loss: 0.0682 - accuracy: 0.980 - ETA: 13s - loss: 0.0681 - accuracy: 0.980 - ETA: 13s - loss: 0.0683 - accuracy: 0.980 - ETA: 13s - loss: 0.0682 - accuracy: 0.980 - ETA: 12s - loss: 0.0681 - accuracy: 0.980 - ETA: 12s - loss: 0.0680 - accuracy: 0.980 - ETA: 12s - loss: 0.0684 - accuracy: 0.980 - ETA: 12s - loss: 0.0685 - accuracy: 0.980 - ETA: 12s - loss: 0.0684 - accuracy: 0.980 - ETA: 12s - loss: 0.0683 - accuracy: 0.980 - ETA: 12s - loss: 0.0683 - accuracy: 0.980 - ETA: 12s - loss: 0.0684 - accuracy: 0.980 - ETA: 12s - loss: 0.0683 - accuracy: 0.980 - ETA: 12s - loss: 0.0682 - accuracy: 0.980 - ETA: 12s - loss: 0.0681 - accuracy: 0.980 - ETA: 12s - loss: 0.0682 - accuracy: 0.980 - ETA: 12s - loss: 0.0681 - accuracy: 0.980 - ETA: 12s - loss: 0.0684 - accuracy: 0.980 - ETA: 12s - loss: 0.0684 - accuracy: 0.980 - ETA: 12s - loss: 0.0683 - accuracy: 0.980 - ETA: 12s - loss: 0.0682 - accuracy: 0.980 - ETA: 12s - loss: 0.0683 - accuracy: 0.980 - ETA: 11s - loss: 0.0682 - accuracy: 0.980 - ETA: 11s - loss: 0.0682 - accuracy: 0.980 - ETA: 11s - loss: 0.0681 - accuracy: 0.980 - ETA: 11s - loss: 0.0680 - accuracy: 0.980 - ETA: 11s - loss: 0.0679 - accuracy: 0.980 - ETA: 11s - loss: 0.0678 - accuracy: 0.980 - ETA: 11s - loss: 0.0677 - accuracy: 0.980 - ETA: 11s - loss: 0.0676 - accuracy: 0.980 - ETA: 11s - loss: 0.0675 - accuracy: 0.980 - ETA: 11s - loss: 0.0677 - accuracy: 0.980 - ETA: 11s - loss: 0.0677 - accuracy: 0.980 - ETA: 11s - loss: 0.0676 - accuracy: 0.980 - ETA: 11s - loss: 0.0678 - accuracy: 0.980 - ETA: 11s - loss: 0.0680 - accuracy: 0.980 - ETA: 11s - loss: 0.0683 - accuracy: 0.980 - ETA: 11s - loss: 0.0682 - accuracy: 0.980 - ETA: 11s - loss: 0.0682 - accuracy: 0.980 - ETA: 11s - loss: 0.0682 - accuracy: 0.980 - ETA: 11s - loss: 0.0681 - accuracy: 0.980 - ETA: 10s - loss: 0.0681 - accuracy: 0.980 - ETA: 10s - loss: 0.0682 - accuracy: 0.980 - ETA: 10s - loss: 0.0682 - accuracy: 0.980 - ETA: 10s - loss: 0.0684 - accuracy: 0.980 - ETA: 10s - loss: 0.0685 - accuracy: 0.980 - ETA: 10s - loss: 0.0685 - accuracy: 0.980 - ETA: 10s - loss: 0.0687 - accuracy: 0.980 - ETA: 10s - loss: 0.0687 - accuracy: 0.980 - ETA: 10s - loss: 0.0686 - accuracy: 0.9805"
     ]
    },
    {
     "name": "stdout",
     "output_type": "stream",
     "text": [
      "1500/1500 [==============================] - ETA: 10s - loss: 0.0688 - accuracy: 0.980 - ETA: 10s - loss: 0.0688 - accuracy: 0.980 - ETA: 10s - loss: 0.0687 - accuracy: 0.980 - ETA: 10s - loss: 0.0686 - accuracy: 0.980 - ETA: 10s - loss: 0.0686 - accuracy: 0.980 - ETA: 10s - loss: 0.0687 - accuracy: 0.980 - ETA: 10s - loss: 0.0687 - accuracy: 0.980 - ETA: 10s - loss: 0.0686 - accuracy: 0.980 - ETA: 10s - loss: 0.0686 - accuracy: 0.980 - ETA: 9s - loss: 0.0685 - accuracy: 0.980 - ETA: 9s - loss: 0.0684 - accuracy: 0.98 - ETA: 9s - loss: 0.0684 - accuracy: 0.98 - ETA: 9s - loss: 0.0685 - accuracy: 0.98 - ETA: 9s - loss: 0.0685 - accuracy: 0.98 - ETA: 9s - loss: 0.0683 - accuracy: 0.98 - ETA: 9s - loss: 0.0682 - accuracy: 0.98 - ETA: 9s - loss: 0.0682 - accuracy: 0.98 - ETA: 9s - loss: 0.0684 - accuracy: 0.98 - ETA: 9s - loss: 0.0683 - accuracy: 0.98 - ETA: 9s - loss: 0.0683 - accuracy: 0.98 - ETA: 9s - loss: 0.0683 - accuracy: 0.98 - ETA: 9s - loss: 0.0682 - accuracy: 0.98 - ETA: 9s - loss: 0.0684 - accuracy: 0.98 - ETA: 9s - loss: 0.0684 - accuracy: 0.98 - ETA: 9s - loss: 0.0684 - accuracy: 0.98 - ETA: 9s - loss: 0.0683 - accuracy: 0.98 - ETA: 9s - loss: 0.0682 - accuracy: 0.98 - ETA: 8s - loss: 0.0682 - accuracy: 0.98 - ETA: 8s - loss: 0.0684 - accuracy: 0.98 - ETA: 8s - loss: 0.0684 - accuracy: 0.98 - ETA: 8s - loss: 0.0683 - accuracy: 0.98 - ETA: 8s - loss: 0.0683 - accuracy: 0.98 - ETA: 8s - loss: 0.0685 - accuracy: 0.98 - ETA: 8s - loss: 0.0684 - accuracy: 0.98 - ETA: 8s - loss: 0.0684 - accuracy: 0.98 - ETA: 8s - loss: 0.0683 - accuracy: 0.98 - ETA: 8s - loss: 0.0683 - accuracy: 0.98 - ETA: 8s - loss: 0.0682 - accuracy: 0.98 - ETA: 8s - loss: 0.0682 - accuracy: 0.98 - ETA: 8s - loss: 0.0681 - accuracy: 0.98 - ETA: 8s - loss: 0.0680 - accuracy: 0.98 - ETA: 8s - loss: 0.0679 - accuracy: 0.98 - ETA: 8s - loss: 0.0678 - accuracy: 0.98 - ETA: 8s - loss: 0.0678 - accuracy: 0.98 - ETA: 8s - loss: 0.0677 - accuracy: 0.98 - ETA: 8s - loss: 0.0677 - accuracy: 0.98 - ETA: 7s - loss: 0.0677 - accuracy: 0.98 - ETA: 7s - loss: 0.0677 - accuracy: 0.98 - ETA: 7s - loss: 0.0678 - accuracy: 0.98 - ETA: 7s - loss: 0.0678 - accuracy: 0.98 - ETA: 7s - loss: 0.0677 - accuracy: 0.98 - ETA: 7s - loss: 0.0676 - accuracy: 0.98 - ETA: 7s - loss: 0.0676 - accuracy: 0.98 - ETA: 7s - loss: 0.0676 - accuracy: 0.98 - ETA: 7s - loss: 0.0675 - accuracy: 0.98 - ETA: 7s - loss: 0.0677 - accuracy: 0.98 - ETA: 7s - loss: 0.0676 - accuracy: 0.98 - ETA: 7s - loss: 0.0677 - accuracy: 0.98 - ETA: 7s - loss: 0.0678 - accuracy: 0.98 - ETA: 7s - loss: 0.0679 - accuracy: 0.98 - ETA: 7s - loss: 0.0679 - accuracy: 0.98 - ETA: 7s - loss: 0.0678 - accuracy: 0.98 - ETA: 7s - loss: 0.0678 - accuracy: 0.98 - ETA: 7s - loss: 0.0679 - accuracy: 0.98 - ETA: 6s - loss: 0.0678 - accuracy: 0.98 - ETA: 6s - loss: 0.0677 - accuracy: 0.98 - ETA: 6s - loss: 0.0677 - accuracy: 0.98 - ETA: 6s - loss: 0.0678 - accuracy: 0.98 - ETA: 6s - loss: 0.0678 - accuracy: 0.98 - ETA: 6s - loss: 0.0679 - accuracy: 0.98 - ETA: 6s - loss: 0.0679 - accuracy: 0.98 - ETA: 6s - loss: 0.0678 - accuracy: 0.98 - ETA: 6s - loss: 0.0678 - accuracy: 0.98 - ETA: 6s - loss: 0.0678 - accuracy: 0.98 - ETA: 6s - loss: 0.0680 - accuracy: 0.98 - ETA: 6s - loss: 0.0679 - accuracy: 0.98 - ETA: 6s - loss: 0.0679 - accuracy: 0.98 - ETA: 6s - loss: 0.0678 - accuracy: 0.98 - ETA: 6s - loss: 0.0678 - accuracy: 0.98 - ETA: 6s - loss: 0.0678 - accuracy: 0.98 - ETA: 6s - loss: 0.0677 - accuracy: 0.98 - ETA: 6s - loss: 0.0676 - accuracy: 0.98 - ETA: 5s - loss: 0.0677 - accuracy: 0.98 - ETA: 5s - loss: 0.0680 - accuracy: 0.98 - ETA: 5s - loss: 0.0679 - accuracy: 0.98 - ETA: 5s - loss: 0.0678 - accuracy: 0.98 - ETA: 5s - loss: 0.0678 - accuracy: 0.98 - ETA: 5s - loss: 0.0678 - accuracy: 0.98 - ETA: 5s - loss: 0.0680 - accuracy: 0.98 - ETA: 5s - loss: 0.0681 - accuracy: 0.98 - ETA: 5s - loss: 0.0681 - accuracy: 0.98 - ETA: 5s - loss: 0.0681 - accuracy: 0.98 - ETA: 5s - loss: 0.0681 - accuracy: 0.98 - ETA: 5s - loss: 0.0683 - accuracy: 0.98 - ETA: 5s - loss: 0.0682 - accuracy: 0.98 - ETA: 5s - loss: 0.0681 - accuracy: 0.98 - ETA: 5s - loss: 0.0683 - accuracy: 0.98 - ETA: 5s - loss: 0.0683 - accuracy: 0.98 - ETA: 5s - loss: 0.0684 - accuracy: 0.98 - ETA: 5s - loss: 0.0683 - accuracy: 0.98 - ETA: 5s - loss: 0.0682 - accuracy: 0.98 - ETA: 4s - loss: 0.0682 - accuracy: 0.98 - ETA: 4s - loss: 0.0681 - accuracy: 0.98 - ETA: 4s - loss: 0.0680 - accuracy: 0.98 - ETA: 4s - loss: 0.0680 - accuracy: 0.98 - ETA: 4s - loss: 0.0680 - accuracy: 0.98 - ETA: 4s - loss: 0.0681 - accuracy: 0.98 - ETA: 4s - loss: 0.0681 - accuracy: 0.98 - ETA: 4s - loss: 0.0680 - accuracy: 0.98 - ETA: 4s - loss: 0.0681 - accuracy: 0.98 - ETA: 4s - loss: 0.0680 - accuracy: 0.98 - ETA: 4s - loss: 0.0680 - accuracy: 0.98 - ETA: 4s - loss: 0.0680 - accuracy: 0.98 - ETA: 4s - loss: 0.0679 - accuracy: 0.98 - ETA: 4s - loss: 0.0682 - accuracy: 0.98 - ETA: 4s - loss: 0.0681 - accuracy: 0.98 - ETA: 4s - loss: 0.0681 - accuracy: 0.98 - ETA: 4s - loss: 0.0680 - accuracy: 0.98 - ETA: 4s - loss: 0.0681 - accuracy: 0.98 - ETA: 3s - loss: 0.0680 - accuracy: 0.98 - ETA: 3s - loss: 0.0679 - accuracy: 0.98 - ETA: 3s - loss: 0.0679 - accuracy: 0.98 - ETA: 3s - loss: 0.0680 - accuracy: 0.98 - ETA: 3s - loss: 0.0680 - accuracy: 0.98 - ETA: 3s - loss: 0.0679 - accuracy: 0.98 - ETA: 3s - loss: 0.0681 - accuracy: 0.98 - ETA: 3s - loss: 0.0680 - accuracy: 0.98 - ETA: 3s - loss: 0.0679 - accuracy: 0.98 - ETA: 3s - loss: 0.0679 - accuracy: 0.98 - ETA: 3s - loss: 0.0678 - accuracy: 0.98 - ETA: 3s - loss: 0.0678 - accuracy: 0.98 - ETA: 3s - loss: 0.0677 - accuracy: 0.98 - ETA: 3s - loss: 0.0678 - accuracy: 0.98 - ETA: 3s - loss: 0.0677 - accuracy: 0.98 - ETA: 3s - loss: 0.0676 - accuracy: 0.98 - ETA: 3s - loss: 0.0676 - accuracy: 0.98 - ETA: 3s - loss: 0.0676 - accuracy: 0.98 - ETA: 3s - loss: 0.0675 - accuracy: 0.98 - ETA: 2s - loss: 0.0675 - accuracy: 0.98 - ETA: 2s - loss: 0.0675 - accuracy: 0.98 - ETA: 2s - loss: 0.0674 - accuracy: 0.98 - ETA: 2s - loss: 0.0674 - accuracy: 0.98 - ETA: 2s - loss: 0.0673 - accuracy: 0.98 - ETA: 2s - loss: 0.0672 - accuracy: 0.98 - ETA: 2s - loss: 0.0672 - accuracy: 0.98 - ETA: 2s - loss: 0.0671 - accuracy: 0.98 - ETA: 2s - loss: 0.0671 - accuracy: 0.98 - ETA: 2s - loss: 0.0670 - accuracy: 0.98 - ETA: 2s - loss: 0.0672 - accuracy: 0.98 - ETA: 2s - loss: 0.0671 - accuracy: 0.98 - ETA: 2s - loss: 0.0670 - accuracy: 0.98 - ETA: 2s - loss: 0.0669 - accuracy: 0.98 - ETA: 2s - loss: 0.0671 - accuracy: 0.98 - ETA: 2s - loss: 0.0670 - accuracy: 0.98 - ETA: 2s - loss: 0.0670 - accuracy: 0.98 - ETA: 2s - loss: 0.0670 - accuracy: 0.98 - ETA: 1s - loss: 0.0670 - accuracy: 0.98 - ETA: 1s - loss: 0.0670 - accuracy: 0.98 - ETA: 1s - loss: 0.0669 - accuracy: 0.98 - ETA: 1s - loss: 0.0668 - accuracy: 0.98 - ETA: 1s - loss: 0.0668 - accuracy: 0.98 - ETA: 1s - loss: 0.0669 - accuracy: 0.98 - ETA: 1s - loss: 0.0668 - accuracy: 0.98 - ETA: 1s - loss: 0.0669 - accuracy: 0.98 - ETA: 1s - loss: 0.0668 - accuracy: 0.98 - ETA: 1s - loss: 0.0667 - accuracy: 0.98 - ETA: 1s - loss: 0.0669 - accuracy: 0.98 - ETA: 1s - loss: 0.0670 - accuracy: 0.98 - ETA: 1s - loss: 0.0671 - accuracy: 0.98 - ETA: 1s - loss: 0.0670 - accuracy: 0.98 - ETA: 1s - loss: 0.0670 - accuracy: 0.98 - ETA: 1s - loss: 0.0670 - accuracy: 0.98 - ETA: 1s - loss: 0.0669 - accuracy: 0.98 - ETA: 1s - loss: 0.0670 - accuracy: 0.98 - ETA: 1s - loss: 0.0669 - accuracy: 0.98 - ETA: 0s - loss: 0.0669 - accuracy: 0.98 - ETA: 0s - loss: 0.0668 - accuracy: 0.98 - ETA: 0s - loss: 0.0668 - accuracy: 0.98 - ETA: 0s - loss: 0.0668 - accuracy: 0.98 - ETA: 0s - loss: 0.0668 - accuracy: 0.98 - ETA: 0s - loss: 0.0667 - accuracy: 0.98 - ETA: 0s - loss: 0.0672 - accuracy: 0.98 - ETA: 0s - loss: 0.0672 - accuracy: 0.98 - ETA: 0s - loss: 0.0672 - accuracy: 0.98 - ETA: 0s - loss: 0.0672 - accuracy: 0.98 - ETA: 0s - loss: 0.0672 - accuracy: 0.98 - ETA: 0s - loss: 0.0671 - accuracy: 0.98 - ETA: 0s - loss: 0.0676 - accuracy: 0.98 - ETA: 0s - loss: 0.0677 - accuracy: 0.98 - ETA: 0s - loss: 0.0677 - accuracy: 0.98 - ETA: 0s - loss: 0.0676 - accuracy: 0.98 - ETA: 0s - loss: 0.0676 - accuracy: 0.98 - ETA: 0s - loss: 0.0676 - accuracy: 0.98 - 44s 29ms/step - loss: 0.0676 - accuracy: 0.9807 - val_loss: 0.1275 - val_accuracy: 0.9697\n"
     ]
    },
    {
     "data": {
      "text/html": [
       "<span style=\"color:#4527A0\"><h1 style=\"font-size:18px\">Trial complete</h1></span>"
      ],
      "text/plain": [
       "<IPython.core.display.HTML object>"
      ]
     },
     "metadata": {},
     "output_type": "display_data"
    },
    {
     "data": {
      "text/html": [
       "<span style=\"color:#4527A0\"><h1 style=\"font-size:18px\">Trial summary</h1></span>"
      ],
      "text/plain": [
       "<IPython.core.display.HTML object>"
      ]
     },
     "metadata": {},
     "output_type": "display_data"
    },
    {
     "data": {
      "text/html": [
       "<span style=\"color:cyan\"> |-Trial ID: ab8d596255c2ec8140c1a3560ccb0e6e</span>"
      ],
      "text/plain": [
       "<IPython.core.display.HTML object>"
      ]
     },
     "metadata": {},
     "output_type": "display_data"
    },
    {
     "data": {
      "text/html": [
       "<span style=\"color:cyan\"> |-Score: 0.11500081843696534</span>"
      ],
      "text/plain": [
       "<IPython.core.display.HTML object>"
      ]
     },
     "metadata": {},
     "output_type": "display_data"
    },
    {
     "data": {
      "text/html": [
       "<span style=\"color:cyan\"> |-Best step: 0</span>"
      ],
      "text/plain": [
       "<IPython.core.display.HTML object>"
      ]
     },
     "metadata": {},
     "output_type": "display_data"
    },
    {
     "data": {
      "text/html": [
       "<span style=\"color:#7E57C2\"><h2 style=\"font-size:16px\">Hyperparameters:</h2></span>"
      ],
      "text/plain": [
       "<IPython.core.display.HTML object>"
      ]
     },
     "metadata": {},
     "output_type": "display_data"
    },
    {
     "data": {
      "text/html": [
       "<span style=\"color:cyan\"> |-classification_head_1/dropout_rate: 0</span>"
      ],
      "text/plain": [
       "<IPython.core.display.HTML object>"
      ]
     },
     "metadata": {},
     "output_type": "display_data"
    },
    {
     "data": {
      "text/html": [
       "<span style=\"color:blue\"> |-dense_block_1/dropout_rate: 0</span>"
      ],
      "text/plain": [
       "<IPython.core.display.HTML object>"
      ]
     },
     "metadata": {},
     "output_type": "display_data"
    },
    {
     "data": {
      "text/html": [
       "<span style=\"color:cyan\"> |-dense_block_1/num_layers: 2</span>"
      ],
      "text/plain": [
       "<IPython.core.display.HTML object>"
      ]
     },
     "metadata": {},
     "output_type": "display_data"
    },
    {
     "data": {
      "text/html": [
       "<span style=\"color:blue\"> |-dense_block_1/units_0: 32</span>"
      ],
      "text/plain": [
       "<IPython.core.display.HTML object>"
      ]
     },
     "metadata": {},
     "output_type": "display_data"
    },
    {
     "data": {
      "text/html": [
       "<span style=\"color:cyan\"> |-dense_block_1/units_1: 32</span>"
      ],
      "text/plain": [
       "<IPython.core.display.HTML object>"
      ]
     },
     "metadata": {},
     "output_type": "display_data"
    },
    {
     "data": {
      "text/html": [
       "<span style=\"color:blue\"> |-dense_block_1/use_batchnorm: False</span>"
      ],
      "text/plain": [
       "<IPython.core.display.HTML object>"
      ]
     },
     "metadata": {},
     "output_type": "display_data"
    },
    {
     "data": {
      "text/html": [
       "<span style=\"color:cyan\"> |-image_block_1/augment: True</span>"
      ],
      "text/plain": [
       "<IPython.core.display.HTML object>"
      ]
     },
     "metadata": {},
     "output_type": "display_data"
    },
    {
     "data": {
      "text/html": [
       "<span style=\"color:blue\"> |-image_block_1/block_type: resnet</span>"
      ],
      "text/plain": [
       "<IPython.core.display.HTML object>"
      ]
     },
     "metadata": {},
     "output_type": "display_data"
    },
    {
     "data": {
      "text/html": [
       "<span style=\"color:cyan\"> |-image_block_1/normalize: True</span>"
      ],
      "text/plain": [
       "<IPython.core.display.HTML object>"
      ]
     },
     "metadata": {},
     "output_type": "display_data"
    },
    {
     "data": {
      "text/html": [
       "<span style=\"color:blue\"> |-image_block_1/res_net_block_1/conv3_depth: 4</span>"
      ],
      "text/plain": [
       "<IPython.core.display.HTML object>"
      ]
     },
     "metadata": {},
     "output_type": "display_data"
    },
    {
     "data": {
      "text/html": [
       "<span style=\"color:cyan\"> |-image_block_1/res_net_block_1/conv4_depth: 6</span>"
      ],
      "text/plain": [
       "<IPython.core.display.HTML object>"
      ]
     },
     "metadata": {},
     "output_type": "display_data"
    },
    {
     "data": {
      "text/html": [
       "<span style=\"color:blue\"> |-image_block_1/res_net_block_1/pooling: avg</span>"
      ],
      "text/plain": [
       "<IPython.core.display.HTML object>"
      ]
     },
     "metadata": {},
     "output_type": "display_data"
    },
    {
     "data": {
      "text/html": [
       "<span style=\"color:cyan\"> |-image_block_1/res_net_block_1/version: v2</span>"
      ],
      "text/plain": [
       "<IPython.core.display.HTML object>"
      ]
     },
     "metadata": {},
     "output_type": "display_data"
    },
    {
     "data": {
      "text/html": [
       "<span style=\"color:blue\"> |-optimizer: adam</span>"
      ],
      "text/plain": [
       "<IPython.core.display.HTML object>"
      ]
     },
     "metadata": {},
     "output_type": "display_data"
    },
    {
     "name": "stdout",
     "output_type": "stream",
     "text": [
      "Train for 1500 steps, validate for 375 steps\n",
      "Epoch 1/3\n",
      "1500/1500 [==============================] - ETA: 7:58 - loss: 2.3218 - accuracy: 0.12 - ETA: 26s - loss: 1.4377 - accuracy: 0.5670 - ETA: 14s - loss: 1.1030 - accuracy: 0.662 - ETA: 10s - loss: 0.8780 - accuracy: 0.727 - ETA: 8s - loss: 0.7440 - accuracy: 0.768 - ETA: 7s - loss: 0.6589 - accuracy: 0.79 - ETA: 6s - loss: 0.5985 - accuracy: 0.81 - ETA: 5s - loss: 0.5508 - accuracy: 0.82 - ETA: 5s - loss: 0.5154 - accuracy: 0.84 - ETA: 5s - loss: 0.4781 - accuracy: 0.85 - ETA: 4s - loss: 0.4537 - accuracy: 0.85 - ETA: 4s - loss: 0.4314 - accuracy: 0.86 - ETA: 4s - loss: 0.4145 - accuracy: 0.87 - ETA: 4s - loss: 0.4030 - accuracy: 0.87 - ETA: 3s - loss: 0.3859 - accuracy: 0.88 - ETA: 3s - loss: 0.3717 - accuracy: 0.88 - ETA: 3s - loss: 0.3596 - accuracy: 0.88 - ETA: 3s - loss: 0.3497 - accuracy: 0.89 - ETA: 3s - loss: 0.3404 - accuracy: 0.89 - ETA: 3s - loss: 0.3297 - accuracy: 0.89 - ETA: 3s - loss: 0.3218 - accuracy: 0.90 - ETA: 2s - loss: 0.3133 - accuracy: 0.90 - ETA: 2s - loss: 0.3078 - accuracy: 0.90 - ETA: 2s - loss: 0.3003 - accuracy: 0.90 - ETA: 2s - loss: 0.2932 - accuracy: 0.90 - ETA: 2s - loss: 0.2867 - accuracy: 0.91 - ETA: 2s - loss: 0.2790 - accuracy: 0.91 - ETA: 2s - loss: 0.2728 - accuracy: 0.91 - ETA: 2s - loss: 0.2671 - accuracy: 0.91 - ETA: 2s - loss: 0.2625 - accuracy: 0.91 - ETA: 2s - loss: 0.2564 - accuracy: 0.92 - ETA: 2s - loss: 0.2530 - accuracy: 0.92 - ETA: 2s - loss: 0.2481 - accuracy: 0.92 - ETA: 1s - loss: 0.2438 - accuracy: 0.92 - ETA: 1s - loss: 0.2397 - accuracy: 0.92 - ETA: 1s - loss: 0.2359 - accuracy: 0.92 - ETA: 1s - loss: 0.2328 - accuracy: 0.92 - ETA: 1s - loss: 0.2309 - accuracy: 0.92 - ETA: 1s - loss: 0.2268 - accuracy: 0.93 - ETA: 1s - loss: 0.2241 - accuracy: 0.93 - ETA: 1s - loss: 0.2205 - accuracy: 0.93 - ETA: 1s - loss: 0.2179 - accuracy: 0.93 - ETA: 1s - loss: 0.2150 - accuracy: 0.93 - ETA: 1s - loss: 0.2135 - accuracy: 0.93 - ETA: 1s - loss: 0.2119 - accuracy: 0.93 - ETA: 1s - loss: 0.2094 - accuracy: 0.93 - ETA: 1s - loss: 0.2068 - accuracy: 0.93 - ETA: 1s - loss: 0.2044 - accuracy: 0.93 - ETA: 0s - loss: 0.2022 - accuracy: 0.93 - ETA: 0s - loss: 0.2001 - accuracy: 0.93 - ETA: 0s - loss: 0.1988 - accuracy: 0.93 - ETA: 0s - loss: 0.1973 - accuracy: 0.93 - ETA: 0s - loss: 0.1951 - accuracy: 0.93 - ETA: 0s - loss: 0.1935 - accuracy: 0.94 - ETA: 0s - loss: 0.1915 - accuracy: 0.94 - ETA: 0s - loss: 0.1896 - accuracy: 0.94 - ETA: 0s - loss: 0.1885 - accuracy: 0.94 - ETA: 0s - loss: 0.1870 - accuracy: 0.94 - ETA: 0s - loss: 0.1859 - accuracy: 0.94 - ETA: 0s - loss: 0.1841 - accuracy: 0.94 - ETA: 0s - loss: 0.1828 - accuracy: 0.94 - ETA: 0s - loss: 0.1816 - accuracy: 0.94 - ETA: 0s - loss: 0.1808 - accuracy: 0.94 - ETA: 0s - loss: 0.1796 - accuracy: 0.94 - ETA: 0s - loss: 0.1786 - accuracy: 0.94 - 4s 3ms/step - loss: 0.1784 - accuracy: 0.9447 - val_loss: 0.0641 - val_accuracy: 0.9818\n",
      "Epoch 2/3\n",
      "1500/1500 [==============================] - ETA: 2:38 - loss: 0.0445 - accuracy: 1.00 - ETA: 10s - loss: 0.0908 - accuracy: 0.9716 - ETA: 7s - loss: 0.1138 - accuracy: 0.963 - ETA: 5s - loss: 0.0976 - accuracy: 0.96 - ETA: 5s - loss: 0.0884 - accuracy: 0.97 - ETA: 4s - loss: 0.0816 - accuracy: 0.97 - ETA: 4s - loss: 0.0824 - accuracy: 0.97 - ETA: 4s - loss: 0.0816 - accuracy: 0.97 - ETA: 4s - loss: 0.0859 - accuracy: 0.97 - ETA: 3s - loss: 0.0882 - accuracy: 0.97 - ETA: 3s - loss: 0.0858 - accuracy: 0.97 - ETA: 3s - loss: 0.0864 - accuracy: 0.97 - ETA: 3s - loss: 0.0854 - accuracy: 0.97 - ETA: 3s - loss: 0.0892 - accuracy: 0.97 - ETA: 3s - loss: 0.0916 - accuracy: 0.97 - ETA: 3s - loss: 0.0897 - accuracy: 0.97 - ETA: 3s - loss: 0.0879 - accuracy: 0.97 - ETA: 3s - loss: 0.0871 - accuracy: 0.97 - ETA: 2s - loss: 0.0868 - accuracy: 0.97 - ETA: 2s - loss: 0.0858 - accuracy: 0.97 - ETA: 2s - loss: 0.0847 - accuracy: 0.97 - ETA: 2s - loss: 0.0847 - accuracy: 0.97 - ETA: 2s - loss: 0.0849 - accuracy: 0.97 - ETA: 2s - loss: 0.0846 - accuracy: 0.97 - ETA: 2s - loss: 0.0849 - accuracy: 0.97 - ETA: 2s - loss: 0.0845 - accuracy: 0.97 - ETA: 2s - loss: 0.0846 - accuracy: 0.97 - ETA: 2s - loss: 0.0837 - accuracy: 0.97 - ETA: 2s - loss: 0.0826 - accuracy: 0.97 - ETA: 2s - loss: 0.0819 - accuracy: 0.97 - ETA: 2s - loss: 0.0811 - accuracy: 0.97 - ETA: 2s - loss: 0.0814 - accuracy: 0.97 - ETA: 2s - loss: 0.0811 - accuracy: 0.97 - ETA: 2s - loss: 0.0814 - accuracy: 0.97 - ETA: 1s - loss: 0.0803 - accuracy: 0.97 - ETA: 1s - loss: 0.0802 - accuracy: 0.97 - ETA: 1s - loss: 0.0797 - accuracy: 0.97 - ETA: 1s - loss: 0.0790 - accuracy: 0.97 - ETA: 1s - loss: 0.0785 - accuracy: 0.97 - ETA: 1s - loss: 0.0796 - accuracy: 0.97 - ETA: 1s - loss: 0.0801 - accuracy: 0.97 - ETA: 1s - loss: 0.0799 - accuracy: 0.97 - ETA: 1s - loss: 0.0797 - accuracy: 0.97 - ETA: 1s - loss: 0.0793 - accuracy: 0.97 - ETA: 1s - loss: 0.0787 - accuracy: 0.97 - ETA: 1s - loss: 0.0785 - accuracy: 0.97 - ETA: 1s - loss: 0.0785 - accuracy: 0.97 - ETA: 1s - loss: 0.0789 - accuracy: 0.97 - ETA: 1s - loss: 0.0784 - accuracy: 0.97 - ETA: 1s - loss: 0.0781 - accuracy: 0.97 - ETA: 1s - loss: 0.0782 - accuracy: 0.97 - ETA: 0s - loss: 0.0775 - accuracy: 0.97 - ETA: 0s - loss: 0.0777 - accuracy: 0.97 - ETA: 0s - loss: 0.0777 - accuracy: 0.97 - ETA: 0s - loss: 0.0780 - accuracy: 0.97 - ETA: 0s - loss: 0.0778 - accuracy: 0.97 - ETA: 0s - loss: 0.0778 - accuracy: 0.97 - ETA: 0s - loss: 0.0782 - accuracy: 0.97 - ETA: 0s - loss: 0.0779 - accuracy: 0.97 - ETA: 0s - loss: 0.0776 - accuracy: 0.97 - ETA: 0s - loss: 0.0780 - accuracy: 0.97 - ETA: 0s - loss: 0.0779 - accuracy: 0.97 - ETA: 0s - loss: 0.0779 - accuracy: 0.97 - ETA: 0s - loss: 0.0778 - accuracy: 0.97 - ETA: 0s - loss: 0.0775 - accuracy: 0.97 - ETA: 0s - loss: 0.0771 - accuracy: 0.97 - ETA: 0s - loss: 0.0772 - accuracy: 0.97 - ETA: 0s - loss: 0.0772 - accuracy: 0.97 - ETA: 0s - loss: 0.0776 - accuracy: 0.97 - 4s 3ms/step - loss: 0.0777 - accuracy: 0.9754 - val_loss: 0.0578 - val_accuracy: 0.9840\n",
      "Epoch 3/3\n",
      "1500/1500 [==============================] - ETA: 2:39 - loss: 0.0210 - accuracy: 1.00 - ETA: 9s - loss: 0.0804 - accuracy: 0.9766 - ETA: 6s - loss: 0.0905 - accuracy: 0.97 - ETA: 5s - loss: 0.0769 - accuracy: 0.97 - ETA: 4s - loss: 0.0797 - accuracy: 0.97 - ETA: 4s - loss: 0.0759 - accuracy: 0.97 - ETA: 4s - loss: 0.0764 - accuracy: 0.97 - ETA: 4s - loss: 0.0751 - accuracy: 0.97 - ETA: 3s - loss: 0.0751 - accuracy: 0.97 - ETA: 3s - loss: 0.0744 - accuracy: 0.97 - ETA: 3s - loss: 0.0747 - accuracy: 0.97 - ETA: 3s - loss: 0.0742 - accuracy: 0.97 - ETA: 3s - loss: 0.0746 - accuracy: 0.97 - ETA: 3s - loss: 0.0770 - accuracy: 0.97 - ETA: 3s - loss: 0.0771 - accuracy: 0.97 - ETA: 3s - loss: 0.0744 - accuracy: 0.97 - ETA: 3s - loss: 0.0730 - accuracy: 0.97 - ETA: 2s - loss: 0.0721 - accuracy: 0.97 - ETA: 2s - loss: 0.0708 - accuracy: 0.97 - ETA: 2s - loss: 0.0697 - accuracy: 0.97 - ETA: 2s - loss: 0.0691 - accuracy: 0.97 - ETA: 2s - loss: 0.0685 - accuracy: 0.97 - ETA: 2s - loss: 0.0688 - accuracy: 0.97 - ETA: 2s - loss: 0.0699 - accuracy: 0.97 - ETA: 2s - loss: 0.0696 - accuracy: 0.97 - ETA: 2s - loss: 0.0691 - accuracy: 0.97 - ETA: 2s - loss: 0.0696 - accuracy: 0.97 - ETA: 2s - loss: 0.0681 - accuracy: 0.97 - ETA: 2s - loss: 0.0679 - accuracy: 0.97 - ETA: 2s - loss: 0.0676 - accuracy: 0.97 - ETA: 2s - loss: 0.0678 - accuracy: 0.97 - ETA: 1s - loss: 0.0669 - accuracy: 0.97 - ETA: 1s - loss: 0.0664 - accuracy: 0.97 - ETA: 1s - loss: 0.0654 - accuracy: 0.97 - ETA: 1s - loss: 0.0651 - accuracy: 0.97 - ETA: 1s - loss: 0.0647 - accuracy: 0.97 - ETA: 1s - loss: 0.0644 - accuracy: 0.97 - ETA: 1s - loss: 0.0640 - accuracy: 0.98 - ETA: 1s - loss: 0.0649 - accuracy: 0.97 - ETA: 1s - loss: 0.0647 - accuracy: 0.98 - ETA: 1s - loss: 0.0649 - accuracy: 0.98 - ETA: 1s - loss: 0.0647 - accuracy: 0.98 - ETA: 1s - loss: 0.0645 - accuracy: 0.98 - ETA: 1s - loss: 0.0642 - accuracy: 0.98 - ETA: 1s - loss: 0.0642 - accuracy: 0.98 - ETA: 1s - loss: 0.0641 - accuracy: 0.98 - ETA: 1s - loss: 0.0640 - accuracy: 0.98 - ETA: 1s - loss: 0.0638 - accuracy: 0.98 - ETA: 1s - loss: 0.0632 - accuracy: 0.98 - ETA: 0s - loss: 0.0638 - accuracy: 0.98 - ETA: 0s - loss: 0.0640 - accuracy: 0.98 - ETA: 0s - loss: 0.0640 - accuracy: 0.98 - ETA: 0s - loss: 0.0644 - accuracy: 0.98 - ETA: 0s - loss: 0.0646 - accuracy: 0.98 - ETA: 0s - loss: 0.0642 - accuracy: 0.98 - ETA: 0s - loss: 0.0639 - accuracy: 0.98 - ETA: 0s - loss: 0.0645 - accuracy: 0.98 - ETA: 0s - loss: 0.0642 - accuracy: 0.98 - ETA: 0s - loss: 0.0644 - accuracy: 0.98 - ETA: 0s - loss: 0.0642 - accuracy: 0.98 - ETA: 0s - loss: 0.0642 - accuracy: 0.98 - ETA: 0s - loss: 0.0645 - accuracy: 0.98 - ETA: 0s - loss: 0.0643 - accuracy: 0.98 - ETA: 0s - loss: 0.0640 - accuracy: 0.98 - ETA: 0s - loss: 0.0638 - accuracy: 0.98 - ETA: 0s - loss: 0.0641 - accuracy: 0.98 - ETA: 0s - loss: 0.0639 - accuracy: 0.98 - ETA: 0s - loss: 0.0641 - accuracy: 0.98 - 4s 3ms/step - loss: 0.0641 - accuracy: 0.9803 - val_loss: 0.0466 - val_accuracy: 0.9862\n"
     ]
    },
    {
     "data": {
      "text/html": [
       "<span style=\"color:#4527A0\"><h1 style=\"font-size:18px\">Trial complete</h1></span>"
      ],
      "text/plain": [
       "<IPython.core.display.HTML object>"
      ]
     },
     "metadata": {},
     "output_type": "display_data"
    },
    {
     "data": {
      "text/html": [
       "<span style=\"color:#4527A0\"><h1 style=\"font-size:18px\">Trial summary</h1></span>"
      ],
      "text/plain": [
       "<IPython.core.display.HTML object>"
      ]
     },
     "metadata": {},
     "output_type": "display_data"
    },
    {
     "data": {
      "text/html": [
       "<span style=\"color:cyan\"> |-Trial ID: 1ee2105317951f141a1e280b2daf32ad</span>"
      ],
      "text/plain": [
       "<IPython.core.display.HTML object>"
      ]
     },
     "metadata": {},
     "output_type": "display_data"
    },
    {
     "data": {
      "text/html": [
       "<span style=\"color:cyan\"> |-Score: 0.046583891000171816</span>"
      ],
      "text/plain": [
       "<IPython.core.display.HTML object>"
      ]
     },
     "metadata": {},
     "output_type": "display_data"
    },
    {
     "data": {
      "text/html": [
       "<span style=\"color:cyan\"> |-Best step: 0</span>"
      ],
      "text/plain": [
       "<IPython.core.display.HTML object>"
      ]
     },
     "metadata": {},
     "output_type": "display_data"
    },
    {
     "data": {
      "text/html": [
       "<span style=\"color:#7E57C2\"><h2 style=\"font-size:16px\">Hyperparameters:</h2></span>"
      ],
      "text/plain": [
       "<IPython.core.display.HTML object>"
      ]
     },
     "metadata": {},
     "output_type": "display_data"
    },
    {
     "data": {
      "text/html": [
       "<span style=\"color:cyan\"> |-classification_head_1/dropout_rate: 0.5</span>"
      ],
      "text/plain": [
       "<IPython.core.display.HTML object>"
      ]
     },
     "metadata": {},
     "output_type": "display_data"
    },
    {
     "data": {
      "text/html": [
       "<span style=\"color:blue\"> |-classification_head_1/spatial_reduction_1/reduction_type: flatten</span>"
      ],
      "text/plain": [
       "<IPython.core.display.HTML object>"
      ]
     },
     "metadata": {},
     "output_type": "display_data"
    },
    {
     "data": {
      "text/html": [
       "<span style=\"color:cyan\"> |-dense_block_1/dropout_rate: 0</span>"
      ],
      "text/plain": [
       "<IPython.core.display.HTML object>"
      ]
     },
     "metadata": {},
     "output_type": "display_data"
    },
    {
     "data": {
      "text/html": [
       "<span style=\"color:blue\"> |-dense_block_1/num_layers: 1</span>"
      ],
      "text/plain": [
       "<IPython.core.display.HTML object>"
      ]
     },
     "metadata": {},
     "output_type": "display_data"
    },
    {
     "data": {
      "text/html": [
       "<span style=\"color:cyan\"> |-dense_block_1/units_0: 128</span>"
      ],
      "text/plain": [
       "<IPython.core.display.HTML object>"
      ]
     },
     "metadata": {},
     "output_type": "display_data"
    },
    {
     "data": {
      "text/html": [
       "<span style=\"color:blue\"> |-dense_block_1/use_batchnorm: False</span>"
      ],
      "text/plain": [
       "<IPython.core.display.HTML object>"
      ]
     },
     "metadata": {},
     "output_type": "display_data"
    },
    {
     "data": {
      "text/html": [
       "<span style=\"color:cyan\"> |-image_block_1/augment: False</span>"
      ],
      "text/plain": [
       "<IPython.core.display.HTML object>"
      ]
     },
     "metadata": {},
     "output_type": "display_data"
    },
    {
     "data": {
      "text/html": [
       "<span style=\"color:blue\"> |-image_block_1/block_type: vanilla</span>"
      ],
      "text/plain": [
       "<IPython.core.display.HTML object>"
      ]
     },
     "metadata": {},
     "output_type": "display_data"
    },
    {
     "data": {
      "text/html": [
       "<span style=\"color:cyan\"> |-image_block_1/conv_block_1/dropout_rate: 0.25</span>"
      ],
      "text/plain": [
       "<IPython.core.display.HTML object>"
      ]
     },
     "metadata": {},
     "output_type": "display_data"
    },
    {
     "data": {
      "text/html": [
       "<span style=\"color:blue\"> |-image_block_1/conv_block_1/filters_0_0: 32</span>"
      ],
      "text/plain": [
       "<IPython.core.display.HTML object>"
      ]
     },
     "metadata": {},
     "output_type": "display_data"
    },
    {
     "data": {
      "text/html": [
       "<span style=\"color:cyan\"> |-image_block_1/conv_block_1/filters_0_1: 64</span>"
      ],
      "text/plain": [
       "<IPython.core.display.HTML object>"
      ]
     },
     "metadata": {},
     "output_type": "display_data"
    },
    {
     "data": {
      "text/html": [
       "<span style=\"color:blue\"> |-image_block_1/conv_block_1/kernel_size: 3</span>"
      ],
      "text/plain": [
       "<IPython.core.display.HTML object>"
      ]
     },
     "metadata": {},
     "output_type": "display_data"
    },
    {
     "data": {
      "text/html": [
       "<span style=\"color:cyan\"> |-image_block_1/conv_block_1/max_pooling: True</span>"
      ],
      "text/plain": [
       "<IPython.core.display.HTML object>"
      ]
     },
     "metadata": {},
     "output_type": "display_data"
    },
    {
     "data": {
      "text/html": [
       "<span style=\"color:blue\"> |-image_block_1/conv_block_1/num_blocks: 1</span>"
      ],
      "text/plain": [
       "<IPython.core.display.HTML object>"
      ]
     },
     "metadata": {},
     "output_type": "display_data"
    },
    {
     "data": {
      "text/html": [
       "<span style=\"color:cyan\"> |-image_block_1/conv_block_1/num_layers: 2</span>"
      ],
      "text/plain": [
       "<IPython.core.display.HTML object>"
      ]
     },
     "metadata": {},
     "output_type": "display_data"
    },
    {
     "data": {
      "text/html": [
       "<span style=\"color:blue\"> |-image_block_1/conv_block_1/separable: False</span>"
      ],
      "text/plain": [
       "<IPython.core.display.HTML object>"
      ]
     },
     "metadata": {},
     "output_type": "display_data"
    },
    {
     "data": {
      "text/html": [
       "<span style=\"color:cyan\"> |-image_block_1/normalize: True</span>"
      ],
      "text/plain": [
       "<IPython.core.display.HTML object>"
      ]
     },
     "metadata": {},
     "output_type": "display_data"
    },
    {
     "data": {
      "text/html": [
       "<span style=\"color:blue\"> |-optimizer: adam</span>"
      ],
      "text/plain": [
       "<IPython.core.display.HTML object>"
      ]
     },
     "metadata": {},
     "output_type": "display_data"
    },
    {
     "name": "stdout",
     "output_type": "stream",
     "text": [
      "INFO:tensorflow:Oracle triggered exit\n",
      "Train for 1875 steps, validate for 375 steps\n",
      "Epoch 1/3\n",
      "1875/1875 [==============================] - ETA: 13:04 - loss: 2.3489 - accuracy: 0.125 - ETA: 45s - loss: 1.5762 - accuracy: 0.5411  - ETA: 23s - loss: 1.1696 - accuracy: 0.646 - ETA: 16s - loss: 0.9180 - accuracy: 0.721 - ETA: 13s - loss: 0.7759 - accuracy: 0.763 - ETA: 11s - loss: 0.6848 - accuracy: 0.793 - ETA: 9s - loss: 0.6189 - accuracy: 0.813 - ETA: 8s - loss: 0.5668 - accuracy: 0.82 - ETA: 8s - loss: 0.5239 - accuracy: 0.84 - ETA: 7s - loss: 0.4872 - accuracy: 0.85 - ETA: 7s - loss: 0.4598 - accuracy: 0.85 - ETA: 6s - loss: 0.4375 - accuracy: 0.86 - ETA: 6s - loss: 0.4185 - accuracy: 0.87 - ETA: 5s - loss: 0.4054 - accuracy: 0.87 - ETA: 5s - loss: 0.3889 - accuracy: 0.88 - ETA: 5s - loss: 0.3743 - accuracy: 0.88 - ETA: 5s - loss: 0.3604 - accuracy: 0.89 - ETA: 5s - loss: 0.3498 - accuracy: 0.89 - ETA: 4s - loss: 0.3407 - accuracy: 0.89 - ETA: 4s - loss: 0.3317 - accuracy: 0.89 - ETA: 4s - loss: 0.3243 - accuracy: 0.90 - ETA: 4s - loss: 0.3158 - accuracy: 0.90 - ETA: 4s - loss: 0.3081 - accuracy: 0.90 - ETA: 4s - loss: 0.3002 - accuracy: 0.90 - ETA: 4s - loss: 0.2926 - accuracy: 0.91 - ETA: 3s - loss: 0.2878 - accuracy: 0.91 - ETA: 3s - loss: 0.2806 - accuracy: 0.91 - ETA: 3s - loss: 0.2744 - accuracy: 0.91 - ETA: 3s - loss: 0.2683 - accuracy: 0.91 - ETA: 3s - loss: 0.2634 - accuracy: 0.92 - ETA: 3s - loss: 0.2566 - accuracy: 0.92 - ETA: 3s - loss: 0.2524 - accuracy: 0.92 - ETA: 3s - loss: 0.2464 - accuracy: 0.92 - ETA: 3s - loss: 0.2424 - accuracy: 0.92 - ETA: 3s - loss: 0.2381 - accuracy: 0.92 - ETA: 2s - loss: 0.2339 - accuracy: 0.92 - ETA: 2s - loss: 0.2307 - accuracy: 0.93 - ETA: 2s - loss: 0.2283 - accuracy: 0.93 - ETA: 2s - loss: 0.2252 - accuracy: 0.93 - ETA: 2s - loss: 0.2217 - accuracy: 0.93 - ETA: 2s - loss: 0.2183 - accuracy: 0.93 - ETA: 2s - loss: 0.2156 - accuracy: 0.93 - ETA: 2s - loss: 0.2127 - accuracy: 0.93 - ETA: 2s - loss: 0.2108 - accuracy: 0.93 - ETA: 2s - loss: 0.2095 - accuracy: 0.93 - ETA: 2s - loss: 0.2064 - accuracy: 0.93 - ETA: 2s - loss: 0.2033 - accuracy: 0.93 - ETA: 2s - loss: 0.2007 - accuracy: 0.93 - ETA: 2s - loss: 0.1987 - accuracy: 0.94 - ETA: 1s - loss: 0.1965 - accuracy: 0.94 - ETA: 1s - loss: 0.1942 - accuracy: 0.94 - ETA: 1s - loss: 0.1932 - accuracy: 0.94 - ETA: 1s - loss: 0.1914 - accuracy: 0.94 - ETA: 1s - loss: 0.1891 - accuracy: 0.94 - ETA: 1s - loss: 0.1878 - accuracy: 0.94 - ETA: 1s - loss: 0.1856 - accuracy: 0.94 - ETA: 1s - loss: 0.1843 - accuracy: 0.94 - ETA: 1s - loss: 0.1823 - accuracy: 0.94 - ETA: 1s - loss: 0.1811 - accuracy: 0.94 - ETA: 1s - loss: 0.1794 - accuracy: 0.94 - ETA: 1s - loss: 0.1783 - accuracy: 0.94 - ETA: 1s - loss: 0.1763 - accuracy: 0.94 - ETA: 1s - loss: 0.1752 - accuracy: 0.94 - ETA: 1s - loss: 0.1742 - accuracy: 0.94 - ETA: 0s - loss: 0.1730 - accuracy: 0.94 - ETA: 0s - loss: 0.1724 - accuracy: 0.94 - ETA: 0s - loss: 0.1708 - accuracy: 0.94 - ETA: 0s - loss: 0.1699 - accuracy: 0.94 - ETA: 0s - loss: 0.1693 - accuracy: 0.94 - ETA: 0s - loss: 0.1687 - accuracy: 0.94 - ETA: 0s - loss: 0.1677 - accuracy: 0.94 - ETA: 0s - loss: 0.1668 - accuracy: 0.94 - ETA: 0s - loss: 0.1662 - accuracy: 0.94 - ETA: 0s - loss: 0.1653 - accuracy: 0.94 - ETA: 0s - loss: 0.1639 - accuracy: 0.95 - ETA: 0s - loss: 0.1628 - accuracy: 0.95 - ETA: 0s - loss: 0.1614 - accuracy: 0.95 - ETA: 0s - loss: 0.1607 - accuracy: 0.95 - ETA: 0s - loss: 0.1595 - accuracy: 0.95 - ETA: 0s - loss: 0.1585 - accuracy: 0.95 - ETA: 0s - loss: 0.1568 - accuracy: 0.95 - ETA: 0s - loss: 0.1558 - accuracy: 0.95 - 5s 3ms/step - loss: 0.1556 - accuracy: 0.9528 - val_loss: 0.0470 - val_accuracy: 0.9848\n",
      "Epoch 2/3\n",
      "1875/1875 [==============================] - ETA: 6:23 - loss: 0.0254 - accuracy: 1.00 - ETA: 22s - loss: 0.0964 - accuracy: 0.9777 - ETA: 14s - loss: 0.0942 - accuracy: 0.973 - ETA: 10s - loss: 0.0945 - accuracy: 0.973 - ETA: 9s - loss: 0.0857 - accuracy: 0.974 - ETA: 8s - loss: 0.0847 - accuracy: 0.97 - ETA: 7s - loss: 0.0798 - accuracy: 0.97 - ETA: 6s - loss: 0.0786 - accuracy: 0.97 - ETA: 6s - loss: 0.0788 - accuracy: 0.97 - ETA: 6s - loss: 0.0820 - accuracy: 0.97 - ETA: 5s - loss: 0.0820 - accuracy: 0.97 - ETA: 5s - loss: 0.0841 - accuracy: 0.97 - ETA: 5s - loss: 0.0817 - accuracy: 0.97 - ETA: 5s - loss: 0.0836 - accuracy: 0.97 - ETA: 4s - loss: 0.0845 - accuracy: 0.97 - ETA: 4s - loss: 0.0825 - accuracy: 0.97 - ETA: 4s - loss: 0.0812 - accuracy: 0.97 - ETA: 4s - loss: 0.0809 - accuracy: 0.97 - ETA: 4s - loss: 0.0799 - accuracy: 0.97 - ETA: 4s - loss: 0.0796 - accuracy: 0.97 - ETA: 4s - loss: 0.0790 - accuracy: 0.97 - ETA: 4s - loss: 0.0785 - accuracy: 0.97 - ETA: 3s - loss: 0.0781 - accuracy: 0.97 - ETA: 3s - loss: 0.0782 - accuracy: 0.97 - ETA: 3s - loss: 0.0787 - accuracy: 0.97 - ETA: 3s - loss: 0.0780 - accuracy: 0.97 - ETA: 3s - loss: 0.0782 - accuracy: 0.97 - ETA: 3s - loss: 0.0778 - accuracy: 0.97 - ETA: 3s - loss: 0.0775 - accuracy: 0.97 - ETA: 3s - loss: 0.0764 - accuracy: 0.97 - ETA: 3s - loss: 0.0760 - accuracy: 0.97 - ETA: 3s - loss: 0.0765 - accuracy: 0.97 - ETA: 3s - loss: 0.0759 - accuracy: 0.97 - ETA: 3s - loss: 0.0753 - accuracy: 0.97 - ETA: 3s - loss: 0.0742 - accuracy: 0.97 - ETA: 2s - loss: 0.0735 - accuracy: 0.97 - ETA: 2s - loss: 0.0735 - accuracy: 0.97 - ETA: 2s - loss: 0.0735 - accuracy: 0.97 - ETA: 2s - loss: 0.0736 - accuracy: 0.97 - ETA: 2s - loss: 0.0751 - accuracy: 0.97 - ETA: 2s - loss: 0.0748 - accuracy: 0.97 - ETA: 2s - loss: 0.0745 - accuracy: 0.97 - ETA: 2s - loss: 0.0742 - accuracy: 0.97 - ETA: 2s - loss: 0.0738 - accuracy: 0.97 - ETA: 2s - loss: 0.0735 - accuracy: 0.97 - ETA: 2s - loss: 0.0738 - accuracy: 0.97 - ETA: 2s - loss: 0.0740 - accuracy: 0.97 - ETA: 2s - loss: 0.0741 - accuracy: 0.97 - ETA: 2s - loss: 0.0740 - accuracy: 0.97 - ETA: 2s - loss: 0.0734 - accuracy: 0.97 - ETA: 1s - loss: 0.0738 - accuracy: 0.97 - ETA: 1s - loss: 0.0740 - accuracy: 0.97 - ETA: 1s - loss: 0.0737 - accuracy: 0.97 - ETA: 1s - loss: 0.0739 - accuracy: 0.97 - ETA: 1s - loss: 0.0740 - accuracy: 0.97 - ETA: 1s - loss: 0.0736 - accuracy: 0.97 - ETA: 1s - loss: 0.0731 - accuracy: 0.97 - ETA: 1s - loss: 0.0734 - accuracy: 0.97 - ETA: 1s - loss: 0.0730 - accuracy: 0.97 - ETA: 1s - loss: 0.0736 - accuracy: 0.97 - ETA: 1s - loss: 0.0734 - accuracy: 0.97 - ETA: 1s - loss: 0.0735 - accuracy: 0.97 - ETA: 1s - loss: 0.0735 - accuracy: 0.97 - ETA: 1s - loss: 0.0733 - accuracy: 0.97 - ETA: 1s - loss: 0.0732 - accuracy: 0.97 - ETA: 1s - loss: 0.0734 - accuracy: 0.97 - ETA: 1s - loss: 0.0738 - accuracy: 0.97 - ETA: 0s - loss: 0.0736 - accuracy: 0.97 - ETA: 0s - loss: 0.0737 - accuracy: 0.97 - ETA: 0s - loss: 0.0732 - accuracy: 0.97 - ETA: 0s - loss: 0.0737 - accuracy: 0.97 - ETA: 0s - loss: 0.0740 - accuracy: 0.97 - ETA: 0s - loss: 0.0741 - accuracy: 0.97 - ETA: 0s - loss: 0.0740 - accuracy: 0.97 - ETA: 0s - loss: 0.0740 - accuracy: 0.97 - ETA: 0s - loss: 0.0739 - accuracy: 0.97 - ETA: 0s - loss: 0.0740 - accuracy: 0.97 - ETA: 0s - loss: 0.0736 - accuracy: 0.97 - ETA: 0s - loss: 0.0734 - accuracy: 0.97 - ETA: 0s - loss: 0.0732 - accuracy: 0.97 - ETA: 0s - loss: 0.0733 - accuracy: 0.97 - ETA: 0s - loss: 0.0728 - accuracy: 0.97 - ETA: 0s - loss: 0.0726 - accuracy: 0.97 - ETA: 0s - loss: 0.0720 - accuracy: 0.97 - ETA: 0s - loss: 0.0719 - accuracy: 0.97 - 5s 3ms/step - loss: 0.0721 - accuracy: 0.9783 - val_loss: 0.0287 - val_accuracy: 0.9912\n",
      "Epoch 3/3\n",
      "1875/1875 [==============================] - ETA: 6:25 - loss: 0.0230 - accuracy: 1.00 - ETA: 23s - loss: 0.0817 - accuracy: 0.9734 - ETA: 14s - loss: 0.0850 - accuracy: 0.970 - ETA: 11s - loss: 0.0749 - accuracy: 0.973 - ETA: 9s - loss: 0.0671 - accuracy: 0.976 - ETA: 8s - loss: 0.0660 - accuracy: 0.97 - ETA: 7s - loss: 0.0647 - accuracy: 0.97 - ETA: 6s - loss: 0.0649 - accuracy: 0.97 - ETA: 6s - loss: 0.0666 - accuracy: 0.97 - ETA: 6s - loss: 0.0683 - accuracy: 0.97 - ETA: 5s - loss: 0.0676 - accuracy: 0.97 - ETA: 5s - loss: 0.0668 - accuracy: 0.97 - ETA: 5s - loss: 0.0657 - accuracy: 0.97 - ETA: 5s - loss: 0.0654 - accuracy: 0.97 - ETA: 4s - loss: 0.0674 - accuracy: 0.97 - ETA: 4s - loss: 0.0666 - accuracy: 0.97 - ETA: 4s - loss: 0.0657 - accuracy: 0.97 - ETA: 4s - loss: 0.0651 - accuracy: 0.97 - ETA: 4s - loss: 0.0645 - accuracy: 0.97 - ETA: 4s - loss: 0.0629 - accuracy: 0.98 - ETA: 4s - loss: 0.0620 - accuracy: 0.98 - ETA: 4s - loss: 0.0613 - accuracy: 0.98 - ETA: 4s - loss: 0.0610 - accuracy: 0.98 - ETA: 3s - loss: 0.0606 - accuracy: 0.98 - ETA: 3s - loss: 0.0609 - accuracy: 0.98 - ETA: 3s - loss: 0.0606 - accuracy: 0.98 - ETA: 3s - loss: 0.0611 - accuracy: 0.98 - ETA: 3s - loss: 0.0612 - accuracy: 0.98 - ETA: 3s - loss: 0.0602 - accuracy: 0.98 - ETA: 3s - loss: 0.0598 - accuracy: 0.98 - ETA: 3s - loss: 0.0597 - accuracy: 0.98 - ETA: 3s - loss: 0.0603 - accuracy: 0.98 - ETA: 3s - loss: 0.0599 - accuracy: 0.98 - ETA: 3s - loss: 0.0596 - accuracy: 0.98 - ETA: 3s - loss: 0.0588 - accuracy: 0.98 - ETA: 2s - loss: 0.0591 - accuracy: 0.98 - ETA: 2s - loss: 0.0588 - accuracy: 0.98 - ETA: 2s - loss: 0.0580 - accuracy: 0.98 - ETA: 2s - loss: 0.0581 - accuracy: 0.98 - ETA: 2s - loss: 0.0589 - accuracy: 0.98 - ETA: 2s - loss: 0.0590 - accuracy: 0.98 - ETA: 2s - loss: 0.0588 - accuracy: 0.98 - ETA: 2s - loss: 0.0590 - accuracy: 0.98 - ETA: 2s - loss: 0.0584 - accuracy: 0.98 - ETA: 2s - loss: 0.0582 - accuracy: 0.98 - ETA: 2s - loss: 0.0580 - accuracy: 0.98 - ETA: 2s - loss: 0.0582 - accuracy: 0.98 - ETA: 2s - loss: 0.0592 - accuracy: 0.98 - ETA: 2s - loss: 0.0594 - accuracy: 0.98 - ETA: 2s - loss: 0.0595 - accuracy: 0.98 - ETA: 2s - loss: 0.0593 - accuracy: 0.98 - ETA: 1s - loss: 0.0596 - accuracy: 0.98 - ETA: 1s - loss: 0.0598 - accuracy: 0.98 - ETA: 1s - loss: 0.0594 - accuracy: 0.98 - ETA: 1s - loss: 0.0598 - accuracy: 0.98 - ETA: 1s - loss: 0.0596 - accuracy: 0.98 - ETA: 1s - loss: 0.0596 - accuracy: 0.98 - ETA: 1s - loss: 0.0598 - accuracy: 0.98 - ETA: 1s - loss: 0.0598 - accuracy: 0.98 - ETA: 1s - loss: 0.0597 - accuracy: 0.98 - ETA: 1s - loss: 0.0602 - accuracy: 0.98 - ETA: 1s - loss: 0.0600 - accuracy: 0.98 - ETA: 1s - loss: 0.0603 - accuracy: 0.98 - ETA: 1s - loss: 0.0602 - accuracy: 0.98 - ETA: 1s - loss: 0.0599 - accuracy: 0.98 - ETA: 1s - loss: 0.0595 - accuracy: 0.98 - ETA: 1s - loss: 0.0594 - accuracy: 0.98 - ETA: 1s - loss: 0.0595 - accuracy: 0.98 - ETA: 0s - loss: 0.0596 - accuracy: 0.98 - ETA: 0s - loss: 0.0598 - accuracy: 0.98 - ETA: 0s - loss: 0.0598 - accuracy: 0.98 - ETA: 0s - loss: 0.0596 - accuracy: 0.98 - ETA: 0s - loss: 0.0596 - accuracy: 0.98 - ETA: 0s - loss: 0.0597 - accuracy: 0.98 - ETA: 0s - loss: 0.0601 - accuracy: 0.98 - ETA: 0s - loss: 0.0600 - accuracy: 0.98 - ETA: 0s - loss: 0.0600 - accuracy: 0.98 - ETA: 0s - loss: 0.0598 - accuracy: 0.98 - ETA: 0s - loss: 0.0596 - accuracy: 0.98 - ETA: 0s - loss: 0.0594 - accuracy: 0.98 - ETA: 0s - loss: 0.0593 - accuracy: 0.98 - ETA: 0s - loss: 0.0591 - accuracy: 0.98 - ETA: 0s - loss: 0.0591 - accuracy: 0.98 - ETA: 0s - loss: 0.0588 - accuracy: 0.98 - ETA: 0s - loss: 0.0587 - accuracy: 0.98 - ETA: 0s - loss: 0.0582 - accuracy: 0.98 - ETA: 0s - loss: 0.0577 - accuracy: 0.98 - 5s 3ms/step - loss: 0.0579 - accuracy: 0.9815 - val_loss: 0.0214 - val_accuracy: 0.9933\n"
     ]
    }
   ],
   "source": [
    "import autokeras as ak\n",
    "\n",
    "# Initialize the image classifier.\n",
    "clf = ak.ImageClassifier(max_trials=10) # It tries 10 different models.\n",
    "# Feed the image classifier with training data.\n",
    "clf.fit(x_train, y_train,epochs=3)"
   ]
  },
  {
   "cell_type": "code",
   "execution_count": 3,
   "metadata": {},
   "outputs": [
    {
     "name": "stdout",
     "output_type": "stream",
     "text": [
      "[[7]\n",
      " [2]\n",
      " [1]\n",
      " ...\n",
      " [4]\n",
      " [5]\n",
      " [6]]\n"
     ]
    }
   ],
   "source": [
    "# Predict with the best model.\n",
    "predicted_y = clf.predict(x_test)\n",
    "print(predicted_y)"
   ]
  },
  {
   "cell_type": "code",
   "execution_count": 4,
   "metadata": {},
   "outputs": [
    {
     "name": "stdout",
     "output_type": "stream",
     "text": [
      "WARNING:tensorflow:Unresolved object in checkpoint: (root).optimizer.iter\n",
      "WARNING:tensorflow:Unresolved object in checkpoint: (root).optimizer.beta_1\n",
      "WARNING:tensorflow:Unresolved object in checkpoint: (root).optimizer.beta_2\n",
      "WARNING:tensorflow:Unresolved object in checkpoint: (root).optimizer.decay\n",
      "WARNING:tensorflow:Unresolved object in checkpoint: (root).optimizer.learning_rate\n",
      "WARNING:tensorflow:A checkpoint was restored (e.g. tf.train.Checkpoint.restore or tf.keras.Model.load_weights) but not all checkpointed values were used. See above for specific issues. Use expect_partial() on the load status object, e.g. tf.train.Checkpoint.restore(...).expect_partial(), to silence these warnings, or use assert_consumed() to make the check explicit. See https://www.tensorflow.org/guide/checkpoint#loading_mechanics for details.\n",
      "WARNING:tensorflow:Unresolved object in checkpoint: (root).optimizer.iter\n",
      "WARNING:tensorflow:Unresolved object in checkpoint: (root).optimizer.beta_1\n",
      "WARNING:tensorflow:Unresolved object in checkpoint: (root).optimizer.beta_2\n",
      "WARNING:tensorflow:Unresolved object in checkpoint: (root).optimizer.decay\n",
      "WARNING:tensorflow:Unresolved object in checkpoint: (root).optimizer.learning_rate\n",
      "WARNING:tensorflow:A checkpoint was restored (e.g. tf.train.Checkpoint.restore or tf.keras.Model.load_weights) but not all checkpointed values were used. See above for specific issues. Use expect_partial() on the load status object, e.g. tf.train.Checkpoint.restore(...).expect_partial(), to silence these warnings, or use assert_consumed() to make the check explicit. See https://www.tensorflow.org/guide/checkpoint#loading_mechanics for details.\n",
      "313/313 [==============================] - ETA: 18s - loss: 0.0526 - accuracy: 0.968 - ETA: 0s - loss: 0.0538 - accuracy: 0.980 - ETA: 0s - loss: 0.0721 - accuracy: 0.97 - ETA: 0s - loss: 0.0692 - accuracy: 0.97 - ETA: 0s - loss: 0.0676 - accuracy: 0.97 - ETA: 0s - loss: 0.0578 - accuracy: 0.97 - ETA: 0s - loss: 0.0513 - accuracy: 0.98 - ETA: 0s - loss: 0.0460 - accuracy: 0.98 - ETA: 0s - loss: 0.0419 - accuracy: 0.98 - 0s 2ms/step - loss: 0.0441 - accuracy: 0.9844\n",
      "[0.044098330833557686, 0.9844]\n"
     ]
    }
   ],
   "source": [
    "# Evaluate the best model with testing data.\n",
    "print(clf.evaluate(x_test, y_test))"
   ]
  },
  {
   "cell_type": "code",
   "execution_count": null,
   "metadata": {},
   "outputs": [],
   "source": []
  }
 ],
 "metadata": {
  "kernelspec": {
   "display_name": "Python 3",
   "language": "python",
   "name": "python3"
  },
  "language_info": {
   "codemirror_mode": {
    "name": "ipython",
    "version": 3
   },
   "file_extension": ".py",
   "mimetype": "text/x-python",
   "name": "python",
   "nbconvert_exporter": "python",
   "pygments_lexer": "ipython3",
   "version": "3.7.6"
  }
 },
 "nbformat": 4,
 "nbformat_minor": 4
}
