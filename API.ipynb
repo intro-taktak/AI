{
 "cells": [
  {
   "cell_type": "code",
   "execution_count": 110,
   "metadata": {},
   "outputs": [
    {
     "name": "stdout",
     "output_type": "stream",
     "text": [
      "The tensorboard extension is already loaded. To reload it, use:\n",
      "  %reload_ext tensorboard\n"
     ]
    }
   ],
   "source": [
    "import tensorflow as tf\n",
    "%load_ext tensorboard\n",
    "\n",
    "from tensorflow import keras\n",
    "from tensorflow.keras.models import load_model\n",
    "\n",
    "import os\n",
    "import numpy as np\n",
    "\n",
    "import tensorflow as tf\n",
    "import matplotlib.pyplot as plt\n",
    "\n",
    "model = keras.models.load_model('models/20200603-171111-model.h5')"
   ]
  },
  {
   "cell_type": "code",
   "execution_count": 111,
   "metadata": {
    "scrolled": true
   },
   "outputs": [
    {
     "name": "stdout",
     "output_type": "stream",
     "text": [
      "Model: \"model\"\n",
      "__________________________________________________________________________________________________\n",
      "Layer (type)                    Output Shape         Param #     Connected to                     \n",
      "==================================================================================================\n",
      "input_1 (InputLayer)            [(None, 225, 225, 3) 0                                            \n",
      "__________________________________________________________________________________________________\n",
      "sequential (Sequential)         (None, 225, 225, 3)  0           input_1[0][0]                    \n",
      "__________________________________________________________________________________________________\n",
      "rescaling (Rescaling)           (None, 225, 225, 3)  0           sequential[0][0]                 \n",
      "__________________________________________________________________________________________________\n",
      "conv2d (Conv2D)                 (None, 113, 113, 32) 896         rescaling[0][0]                  \n",
      "__________________________________________________________________________________________________\n",
      "batch_normalization (BatchNorma (None, 113, 113, 32) 128         conv2d[0][0]                     \n",
      "__________________________________________________________________________________________________\n",
      "activation (Activation)         (None, 113, 113, 32) 0           batch_normalization[0][0]        \n",
      "__________________________________________________________________________________________________\n",
      "conv2d_1 (Conv2D)               (None, 113, 113, 64) 18496       activation[0][0]                 \n",
      "__________________________________________________________________________________________________\n",
      "batch_normalization_1 (BatchNor (None, 113, 113, 64) 256         conv2d_1[0][0]                   \n",
      "__________________________________________________________________________________________________\n",
      "activation_1 (Activation)       (None, 113, 113, 64) 0           batch_normalization_1[0][0]      \n",
      "__________________________________________________________________________________________________\n",
      "activation_2 (Activation)       (None, 113, 113, 64) 0           activation_1[0][0]               \n",
      "__________________________________________________________________________________________________\n",
      "separable_conv2d (SeparableConv (None, 113, 113, 128 8896        activation_2[0][0]               \n",
      "__________________________________________________________________________________________________\n",
      "batch_normalization_2 (BatchNor (None, 113, 113, 128 512         separable_conv2d[0][0]           \n",
      "__________________________________________________________________________________________________\n",
      "activation_3 (Activation)       (None, 113, 113, 128 0           batch_normalization_2[0][0]      \n",
      "__________________________________________________________________________________________________\n",
      "separable_conv2d_1 (SeparableCo (None, 113, 113, 128 17664       activation_3[0][0]               \n",
      "__________________________________________________________________________________________________\n",
      "batch_normalization_3 (BatchNor (None, 113, 113, 128 512         separable_conv2d_1[0][0]         \n",
      "__________________________________________________________________________________________________\n",
      "max_pooling2d (MaxPooling2D)    (None, 57, 57, 128)  0           batch_normalization_3[0][0]      \n",
      "__________________________________________________________________________________________________\n",
      "conv2d_2 (Conv2D)               (None, 57, 57, 128)  8320        activation_1[0][0]               \n",
      "__________________________________________________________________________________________________\n",
      "add (Add)                       (None, 57, 57, 128)  0           max_pooling2d[0][0]              \n",
      "                                                                 conv2d_2[0][0]                   \n",
      "__________________________________________________________________________________________________\n",
      "activation_4 (Activation)       (None, 57, 57, 128)  0           add[0][0]                        \n",
      "__________________________________________________________________________________________________\n",
      "separable_conv2d_2 (SeparableCo (None, 57, 57, 256)  34176       activation_4[0][0]               \n",
      "__________________________________________________________________________________________________\n",
      "batch_normalization_4 (BatchNor (None, 57, 57, 256)  1024        separable_conv2d_2[0][0]         \n",
      "__________________________________________________________________________________________________\n",
      "activation_5 (Activation)       (None, 57, 57, 256)  0           batch_normalization_4[0][0]      \n",
      "__________________________________________________________________________________________________\n",
      "separable_conv2d_3 (SeparableCo (None, 57, 57, 256)  68096       activation_5[0][0]               \n",
      "__________________________________________________________________________________________________\n",
      "batch_normalization_5 (BatchNor (None, 57, 57, 256)  1024        separable_conv2d_3[0][0]         \n",
      "__________________________________________________________________________________________________\n",
      "max_pooling2d_1 (MaxPooling2D)  (None, 29, 29, 256)  0           batch_normalization_5[0][0]      \n",
      "__________________________________________________________________________________________________\n",
      "conv2d_3 (Conv2D)               (None, 29, 29, 256)  33024       add[0][0]                        \n",
      "__________________________________________________________________________________________________\n",
      "add_1 (Add)                     (None, 29, 29, 256)  0           max_pooling2d_1[0][0]            \n",
      "                                                                 conv2d_3[0][0]                   \n",
      "__________________________________________________________________________________________________\n",
      "activation_6 (Activation)       (None, 29, 29, 256)  0           add_1[0][0]                      \n",
      "__________________________________________________________________________________________________\n",
      "separable_conv2d_4 (SeparableCo (None, 29, 29, 512)  133888      activation_6[0][0]               \n",
      "__________________________________________________________________________________________________\n",
      "batch_normalization_6 (BatchNor (None, 29, 29, 512)  2048        separable_conv2d_4[0][0]         \n",
      "__________________________________________________________________________________________________\n",
      "activation_7 (Activation)       (None, 29, 29, 512)  0           batch_normalization_6[0][0]      \n",
      "__________________________________________________________________________________________________\n",
      "separable_conv2d_5 (SeparableCo (None, 29, 29, 512)  267264      activation_7[0][0]               \n",
      "__________________________________________________________________________________________________\n",
      "batch_normalization_7 (BatchNor (None, 29, 29, 512)  2048        separable_conv2d_5[0][0]         \n",
      "__________________________________________________________________________________________________\n",
      "max_pooling2d_2 (MaxPooling2D)  (None, 15, 15, 512)  0           batch_normalization_7[0][0]      \n",
      "__________________________________________________________________________________________________\n",
      "conv2d_4 (Conv2D)               (None, 15, 15, 512)  131584      add_1[0][0]                      \n",
      "__________________________________________________________________________________________________\n",
      "add_2 (Add)                     (None, 15, 15, 512)  0           max_pooling2d_2[0][0]            \n",
      "                                                                 conv2d_4[0][0]                   \n",
      "__________________________________________________________________________________________________\n",
      "activation_8 (Activation)       (None, 15, 15, 512)  0           add_2[0][0]                      \n",
      "__________________________________________________________________________________________________\n",
      "separable_conv2d_6 (SeparableCo (None, 15, 15, 728)  378072      activation_8[0][0]               \n",
      "__________________________________________________________________________________________________\n",
      "batch_normalization_8 (BatchNor (None, 15, 15, 728)  2912        separable_conv2d_6[0][0]         \n",
      "__________________________________________________________________________________________________\n",
      "activation_9 (Activation)       (None, 15, 15, 728)  0           batch_normalization_8[0][0]      \n",
      "__________________________________________________________________________________________________\n",
      "separable_conv2d_7 (SeparableCo (None, 15, 15, 728)  537264      activation_9[0][0]               \n",
      "__________________________________________________________________________________________________\n",
      "batch_normalization_9 (BatchNor (None, 15, 15, 728)  2912        separable_conv2d_7[0][0]         \n",
      "__________________________________________________________________________________________________\n",
      "max_pooling2d_3 (MaxPooling2D)  (None, 8, 8, 728)    0           batch_normalization_9[0][0]      \n",
      "__________________________________________________________________________________________________\n",
      "conv2d_5 (Conv2D)               (None, 8, 8, 728)    373464      add_2[0][0]                      \n",
      "__________________________________________________________________________________________________\n",
      "add_3 (Add)                     (None, 8, 8, 728)    0           max_pooling2d_3[0][0]            \n",
      "                                                                 conv2d_5[0][0]                   \n",
      "__________________________________________________________________________________________________\n",
      "separable_conv2d_8 (SeparableCo (None, 8, 8, 1024)   753048      add_3[0][0]                      \n",
      "__________________________________________________________________________________________________\n",
      "batch_normalization_10 (BatchNo (None, 8, 8, 1024)   4096        separable_conv2d_8[0][0]         \n",
      "__________________________________________________________________________________________________\n",
      "activation_10 (Activation)      (None, 8, 8, 1024)   0           batch_normalization_10[0][0]     \n",
      "__________________________________________________________________________________________________\n",
      "separable_conv2d_9 (SeparableCo (None, 8, 8, 2048)   2108416     activation_10[0][0]              \n",
      "__________________________________________________________________________________________________\n",
      "batch_normalization_11 (BatchNo (None, 8, 8, 2048)   8192        separable_conv2d_9[0][0]         \n",
      "__________________________________________________________________________________________________\n",
      "activation_11 (Activation)      (None, 8, 8, 2048)   0           batch_normalization_11[0][0]     \n",
      "__________________________________________________________________________________________________\n",
      "global_average_pooling2d (Globa (None, 2048)         0           activation_11[0][0]              \n",
      "__________________________________________________________________________________________________\n",
      "dropout (Dropout)               (None, 2048)         0           global_average_pooling2d[0][0]   \n",
      "__________________________________________________________________________________________________\n",
      "dense (Dense)                   (None, 6)            12294       dropout[0][0]                    \n",
      "==================================================================================================\n",
      "Total params: 4,910,526\n",
      "Trainable params: 4,897,694\n",
      "Non-trainable params: 12,832\n",
      "__________________________________________________________________________________________________\n"
     ]
    }
   ],
   "source": [
    "model.summary()"
   ]
  },
  {
   "cell_type": "code",
   "execution_count": 112,
   "metadata": {
    "scrolled": true
   },
   "outputs": [
    {
     "data": {
      "text/plain": [
       "Reusing TensorBoard on port 6006 (pid 22972), started 7 days, 2:57:07 ago. (Use '!kill 22972' to kill it.)"
      ]
     },
     "metadata": {},
     "output_type": "display_data"
    },
    {
     "data": {
      "text/html": [
       "\n",
       "      <iframe id=\"tensorboard-frame-bfd471a248f03cc3\" width=\"100%\" height=\"800\" frameborder=\"0\">\n",
       "      </iframe>\n",
       "      <script>\n",
       "        (function() {\n",
       "          const frame = document.getElementById(\"tensorboard-frame-bfd471a248f03cc3\");\n",
       "          const url = new URL(\"/\", window.location);\n",
       "          url.port = 6006;\n",
       "          frame.src = url;\n",
       "        })();\n",
       "      </script>\n",
       "  "
      ],
      "text/plain": [
       "<IPython.core.display.HTML object>"
      ]
     },
     "metadata": {},
     "output_type": "display_data"
    }
   ],
   "source": [
    "%tensorboard --logdir logs/fit"
   ]
  },
  {
   "cell_type": "code",
   "execution_count": 113,
   "metadata": {},
   "outputs": [],
   "source": [
    "p_list = { 0:\"dress\", 1:\"outer\", 2:\"pants\", 3:\"skirt\", 4:\"suit\", 5:\"top\"}\n",
    "\n",
    "image_size = (225, 225)"
   ]
  },
  {
   "cell_type": "code",
   "execution_count": 1,
   "metadata": {
    "scrolled": true
   },
   "outputs": [
    {
     "name": "stdout",
     "output_type": "stream",
     "text": [
      " * Serving Flask app \"__main__\" (lazy loading)\n",
      " * Environment: production\n",
      "   WARNING: This is a development server. Do not use it in a production deployment.\n",
      "   Use a production WSGI server instead.\n",
      " * Debug mode: off\n"
     ]
    },
    {
     "name": "stderr",
     "output_type": "stream",
     "text": [
      " * Running on http://0.0.0.0:80/ (Press CTRL+C to quit)\n",
      "121.140.112.233 - - [05/Jun/2020 10:23:08] \"\u001b[37mGET / HTTP/1.1\u001b[0m\" 200 -\n",
      "121.140.112.233 - - [05/Jun/2020 10:23:08] \"\u001b[36mGET /static/css/style.css HTTP/1.1\u001b[0m\" 304 -\n",
      "121.140.112.233 - - [05/Jun/2020 10:23:08] \"\u001b[36mGET /static/js/script.js HTTP/1.1\u001b[0m\" 304 -\n",
      "121.140.112.233 - - [05/Jun/2020 10:23:08] \"\u001b[36mGET /static/img/fashion.jpg HTTP/1.1\u001b[0m\" 304 -\n",
      "121.140.112.233 - - [05/Jun/2020 10:23:08] \"\u001b[36mGET /static/img/1__Nb5AADlqVQJDa0YyNFKGA.jpeg HTTP/1.1\u001b[0m\" 304 -\n",
      "121.140.112.233 - - [05/Jun/2020 10:23:09] \"\u001b[33mGET /favicon.ico HTTP/1.1\u001b[0m\" 404 -\n",
      "121.140.112.233 - - [05/Jun/2020 10:34:46] \"\u001b[37mGET / HTTP/1.1\u001b[0m\" 200 -\n",
      "121.140.112.233 - - [05/Jun/2020 10:34:47] \"\u001b[37mGET /cnn HTTP/1.1\u001b[0m\" 200 -\n",
      "121.140.112.233 - - [05/Jun/2020 10:34:47] \"\u001b[37mGET /cnn HTTP/1.1\u001b[0m\" 200 -\n",
      "202.162.195.206 - - [05/Jun/2020 10:36:13] \"\u001b[37mGET / HTTP/1.1\u001b[0m\" 200 -\n",
      "121.140.112.233 - - [05/Jun/2020 10:44:29] \"\u001b[37mGET /cnn HTTP/1.1\u001b[0m\" 200 -\n",
      "59.126.88.53 - - [05/Jun/2020 10:58:03] \"\u001b[37mGET / HTTP/1.1\u001b[0m\" 200 -\n",
      "123.110.211.118 - - [05/Jun/2020 11:01:34] \"\u001b[37mGET / HTTP/1.1\u001b[0m\" 200 -\n",
      "74.125.212.62 - - [05/Jun/2020 11:09:19] \"\u001b[37mGET / HTTP/1.1\u001b[0m\" 200 -\n",
      "138.197.216.120 - - [05/Jun/2020 11:16:04] \"\u001b[37mGET / HTTP/1.0\u001b[0m\" 200 -\n",
      "121.140.112.233 - - [05/Jun/2020 11:23:50] \"\u001b[37mGET /cnn HTTP/1.1\u001b[0m\" 200 -\n",
      "66.240.205.34 - - [05/Jun/2020 11:34:58] code 400, message Bad request version (\"x64|'|'|No|'|'|0.7d|'|'|..|'|'|AA==|'|'|112.inf|'|'|SGFjS2VkDQoxOTIuMTY4LjkyLjIyMjo1NTUyDQpEZXNrdG9wDQpjbGllbnRhLmV4ZQ0KRmFsc2UNCkZhbHNlDQpUcnVlDQpGYWxzZQ==12.act|'|'|AA==\")\n",
      "66.240.205.34 - - [05/Jun/2020 11:34:58] \"\u001b[35m\u001b[1m145.ll|'|'|SGFjS2VkX0Q0OTkwNjI3|'|'|WIN-JNAPIER0859|'|'|JNapier|'|'|19-02-01|'|'||'|'|Win 7 Professional SP1 x64|'|'|No|'|'|0.7d|'|'|..|'|'|AA==|'|'|112.inf|'|'|SGFjS2VkDQoxOTIuMTY4LjkyLjIyMjo1NTUyDQpEZXNrdG9wDQpjbGllbnRhLmV4ZQ0KRmFsc2UNCkZhbHNlDQpUcnVlDQpGYWxzZQ==12.act|'|'|AA==\u001b[0m\" HTTPStatus.BAD_REQUEST -\n",
      "74.125.212.37 - - [05/Jun/2020 11:39:28] \"\u001b[37mGET / HTTP/1.1\u001b[0m\" 200 -\n",
      "195.54.160.135 - - [05/Jun/2020 11:54:31] \"\u001b[33mGET /solr/admin/info/system?wt=json HTTP/1.1\u001b[0m\" 404 -\n",
      "195.54.160.135 - - [05/Jun/2020 11:55:36] \"\u001b[37mGET /?a=fetch&content=<php>die(@md5(HelloThinkCMF))</php> HTTP/1.1\u001b[0m\" 200 -\n",
      "195.54.160.135 - - [05/Jun/2020 11:55:45] \"\u001b[37mGET /?XDEBUG_SESSION_START=phpstorm HTTP/1.1\u001b[0m\" 200 -\n",
      "195.54.160.135 - - [05/Jun/2020 11:58:10] \"\u001b[33mGET /index.php?s=/Index/\\think\\app/invokefunction&function=call_user_func_array&vars[0]=md5&vars[1][]=HelloThinkPHP HTTP/1.1\u001b[0m\" 404 -\n",
      "192.141.197.148 - - [05/Jun/2020 12:16:35] \"\u001b[37mGET / HTTP/1.1\u001b[0m\" 200 -\n",
      "114.33.142.172 - - [05/Jun/2020 12:25:21] \"\u001b[37mGET / HTTP/1.1\u001b[0m\" 200 -\n",
      "195.54.160.135 - - [05/Jun/2020 12:26:39] \"\u001b[33mPOST /api/jsonws/invoke HTTP/1.1\u001b[0m\" 404 -\n",
      "220.134.231.233 - - [05/Jun/2020 12:49:22] \"\u001b[37mGET / HTTP/1.1\u001b[0m\" 200 -\n",
      "162.243.144.207 - - [05/Jun/2020 13:02:12] \"\u001b[33mGET /hudson HTTP/1.1\u001b[0m\" 404 -\n",
      "129.158.122.65 - - [05/Jun/2020 13:34:09] \"\u001b[33mGET /TP/public/index.php HTTP/1.1\u001b[0m\" 404 -\n",
      "129.158.122.65 - - [05/Jun/2020 13:34:10] \"\u001b[33mGET /TP/index.php HTTP/1.1\u001b[0m\" 404 -\n",
      "129.158.122.65 - - [05/Jun/2020 13:34:12] \"\u001b[33mGET /thinkphp/html/public/index.php HTTP/1.1\u001b[0m\" 404 -\n",
      "129.158.122.65 - - [05/Jun/2020 13:34:12] \"\u001b[33mGET /html/public/index.php HTTP/1.1\u001b[0m\" 404 -\n",
      "129.158.122.65 - - [05/Jun/2020 13:34:13] \"\u001b[33mGET /public/index.php HTTP/1.1\u001b[0m\" 404 -\n",
      "129.158.122.65 - - [05/Jun/2020 13:34:13] \"\u001b[33mGET /TP/html/public/index.php HTTP/1.1\u001b[0m\" 404 -\n",
      "129.158.122.65 - - [05/Jun/2020 13:34:14] \"\u001b[33mGET /elrekt.php HTTP/1.1\u001b[0m\" 404 -\n",
      "129.158.122.65 - - [05/Jun/2020 13:34:14] \"\u001b[33mGET /index.php HTTP/1.1\u001b[0m\" 404 -\n",
      "129.158.122.65 - - [05/Jun/2020 13:34:15] \"\u001b[37mGET / HTTP/1.1\u001b[0m\" 200 -\n",
      "121.140.112.216 - - [05/Jun/2020 13:37:11] \"\u001b[37mGET /files/Hyperparameter2.docx HTTP/1.1\u001b[0m\" 200 -\n",
      "121.140.112.216 - - [05/Jun/2020 13:37:54] \"\u001b[37mPOST /uploader HTTP/1.1\u001b[0m\" 200 -\n",
      "121.140.112.216 - - [05/Jun/2020 13:37:54] \"\u001b[33mGET /favicon.ico HTTP/1.1\u001b[0m\" 404 -\n"
     ]
    },
    {
     "name": "stdout",
     "output_type": "stream",
     "text": [
      "sad.PNG\n"
     ]
    },
    {
     "name": "stderr",
     "output_type": "stream",
     "text": [
      "195.54.160.135 - - [05/Jun/2020 13:38:01] \"\u001b[33mGET /vendor/phpunit/phpunit/src/Util/PHP/eval-stdin.php HTTP/1.1\u001b[0m\" 404 -\n",
      "121.140.112.216 - - [05/Jun/2020 13:38:08] \"\u001b[37mGET /cnn HTTP/1.1\u001b[0m\" 200 -\n",
      "121.140.112.216 - - [05/Jun/2020 13:38:08] \"\u001b[37mGET /static/css/animalface.css HTTP/1.1\u001b[0m\" 200 -\n",
      "121.140.112.216 - - [05/Jun/2020 13:38:08] \"\u001b[37mGET /static/img/pre.PNG HTTP/1.1\u001b[0m\" 200 -\n",
      "121.140.112.216 - - [05/Jun/2020 13:38:08] \"\u001b[37mGET /static/img/icon.PNG HTTP/1.1\u001b[0m\" 200 -\n",
      "121.140.112.216 - - [05/Jun/2020 13:38:08] \"\u001b[37mGET /static/img/tensorflow.png HTTP/1.1\u001b[0m\" 200 -\n",
      "121.140.112.216 - - [05/Jun/2020 13:38:08] \"\u001b[37mGET /static/img/keras.png HTTP/1.1\u001b[0m\" 200 -\n",
      "121.140.112.216 - - [05/Jun/2020 13:38:08] \"\u001b[37mGET /cnn HTTP/1.1\u001b[0m\" 200 -\n",
      "121.140.112.216 - - [05/Jun/2020 13:38:12] \"\u001b[37mPOST /uploader HTTP/1.1\u001b[0m\" 200 -\n"
     ]
    },
    {
     "name": "stdout",
     "output_type": "stream",
     "text": [
      "sad.PNG\n"
     ]
    },
    {
     "name": "stderr",
     "output_type": "stream",
     "text": [
      "121.140.112.216 - - [05/Jun/2020 13:38:36] \"\u001b[37mGET / HTTP/1.1\u001b[0m\" 200 -\n",
      "121.140.112.216 - - [05/Jun/2020 13:38:36] \"\u001b[37mGET /static/css/style.css HTTP/1.1\u001b[0m\" 200 -\n",
      "121.140.112.216 - - [05/Jun/2020 13:38:36] \"\u001b[37mGET /static/js/script.js HTTP/1.1\u001b[0m\" 200 -\n",
      "121.140.112.216 - - [05/Jun/2020 13:38:36] \"\u001b[37mGET /static/img/fashion.jpg HTTP/1.1\u001b[0m\" 200 -\n",
      "121.140.112.216 - - [05/Jun/2020 13:38:36] \"\u001b[37mGET /static/img/1__Nb5AADlqVQJDa0YyNFKGA.jpeg HTTP/1.1\u001b[0m\" 200 -\n",
      "121.140.112.216 - - [05/Jun/2020 13:38:37] \"\u001b[37mGET /cnn HTTP/1.1\u001b[0m\" 200 -\n",
      "121.140.112.216 - - [05/Jun/2020 13:38:37] \"\u001b[37mGET /cnn HTTP/1.1\u001b[0m\" 200 -\n",
      "121.140.112.216 - - [05/Jun/2020 13:38:40] \"\u001b[37mPOST /uploader HTTP/1.1\u001b[0m\" 200 -\n"
     ]
    },
    {
     "name": "stdout",
     "output_type": "stream",
     "text": [
      "sad.PNG\n"
     ]
    },
    {
     "name": "stderr",
     "output_type": "stream",
     "text": [
      "121.140.112.216 - - [05/Jun/2020 13:39:26] \"\u001b[37mGET /cnn HTTP/1.1\u001b[0m\" 200 -\n",
      "121.140.112.216 - - [05/Jun/2020 13:39:26] \"\u001b[37mGET /cnn HTTP/1.1\u001b[0m\" 200 -\n",
      "121.140.112.216 - - [05/Jun/2020 13:39:29] \"\u001b[37mPOST /uploader HTTP/1.1\u001b[0m\" 200 -\n"
     ]
    },
    {
     "name": "stdout",
     "output_type": "stream",
     "text": [
      "sad.PNG\n"
     ]
    },
    {
     "name": "stderr",
     "output_type": "stream",
     "text": [
      "121.140.112.216 - - [05/Jun/2020 13:41:02] \"\u001b[37mPOST /uploader HTTP/1.1\u001b[0m\" 200 -\n"
     ]
    },
    {
     "name": "stdout",
     "output_type": "stream",
     "text": [
      "sad.PNG\n"
     ]
    },
    {
     "name": "stderr",
     "output_type": "stream",
     "text": [
      "121.140.112.216 - - [05/Jun/2020 13:41:03] \"\u001b[37mGET /cnn HTTP/1.1\u001b[0m\" 200 -\n",
      "121.140.112.216 - - [05/Jun/2020 13:41:03] \"\u001b[37mGET /cnn HTTP/1.1\u001b[0m\" 200 -\n",
      "121.140.112.216 - - [05/Jun/2020 13:41:10] \"\u001b[37mPOST /uploader HTTP/1.1\u001b[0m\" 200 -\n"
     ]
    },
    {
     "name": "stdout",
     "output_type": "stream",
     "text": [
      "sad.PNG\n"
     ]
    },
    {
     "name": "stderr",
     "output_type": "stream",
     "text": [
      "121.140.112.216 - - [05/Jun/2020 13:41:11] \"\u001b[37mGET /cnn HTTP/1.1\u001b[0m\" 200 -\n",
      "121.140.112.216 - - [05/Jun/2020 13:41:11] \"\u001b[37mGET /cnn HTTP/1.1\u001b[0m\" 200 -\n",
      "193.118.53.202 - - [05/Jun/2020 13:42:05] \"\u001b[37mGET / HTTP/1.1\u001b[0m\" 200 -\n",
      "121.140.112.216 - - [05/Jun/2020 13:44:37] \"\u001b[37mGET /cnn HTTP/1.1\u001b[0m\" 200 -\n",
      "121.140.112.216 - - [05/Jun/2020 13:44:37] \"\u001b[37mGET /cnn HTTP/1.1\u001b[0m\" 200 -\n",
      "121.140.112.216 - - [05/Jun/2020 13:45:05] \"\u001b[37mGET /files/project.docx HTTP/1.1\u001b[0m\" 200 -\n",
      "195.54.160.135 - - [05/Jun/2020 13:50:27] \"\u001b[33mPOST /vendor/phpunit/phpunit/src/Util/PHP/eval-stdin.php HTTP/1.1\u001b[0m\" 404 -\n",
      "114.35.152.249 - - [05/Jun/2020 14:04:49] \"\u001b[37mGET / HTTP/1.1\u001b[0m\" 200 -\n",
      "121.140.112.246 - - [05/Jun/2020 14:30:45] \"\u001b[37mGET / HTTP/1.1\u001b[0m\" 200 -\n",
      "121.140.112.246 - - [05/Jun/2020 14:30:45] \"\u001b[37mGET /static/css/style.css HTTP/1.1\u001b[0m\" 200 -\n",
      "121.140.112.246 - - [05/Jun/2020 14:30:45] \"\u001b[37mGET /static/js/script.js HTTP/1.1\u001b[0m\" 200 -\n",
      "121.140.112.246 - - [05/Jun/2020 14:30:45] \"\u001b[37mGET /static/img/fashion.jpg HTTP/1.1\u001b[0m\" 200 -\n",
      "121.140.112.246 - - [05/Jun/2020 14:30:45] \"\u001b[37mGET /static/img/1__Nb5AADlqVQJDa0YyNFKGA.jpeg HTTP/1.1\u001b[0m\" 200 -\n",
      "42.112.210.196 - - [05/Jun/2020 14:34:08] \"\u001b[37mGET / HTTP/1.1\u001b[0m\" 200 -\n",
      "121.140.112.233 - - [05/Jun/2020 14:43:30] \"\u001b[37mGET / HTTP/1.1\u001b[0m\" 200 -\n",
      "80.182.160.195 - - [05/Jun/2020 14:52:13] \"\u001b[37mGET / HTTP/1.1\u001b[0m\" 200 -\n",
      "74.125.212.34 - - [05/Jun/2020 15:14:53] \"\u001b[33mGET /favicon.ico HTTP/1.1\u001b[0m\" 404 -\n",
      "128.14.209.234 - - [05/Jun/2020 15:43:40] \"\u001b[37mGET / HTTP/1.1\u001b[0m\" 200 -\n",
      "121.140.112.233 - - [05/Jun/2020 15:51:24] \"\u001b[37mGET / HTTP/1.1\u001b[0m\" 200 -\n"
     ]
    }
   ],
   "source": [
    "from flask import Flask, render_template, request, redirect, url_for, send_from_directory\n",
    "from werkzeug.utils import secure_filename\n",
    "\n",
    "app = Flask(__name__)\n",
    "\n",
    "@app.route('/')\n",
    "def index():\n",
    "    return render_template('index.html')\n",
    "\n",
    "@app.route('/cnn')\n",
    "def cnn():\n",
    "    return render_template('cnn.html')\n",
    "\n",
    "@app.route('/nlp')\n",
    "def nlp():\n",
    "    return render_template('nlp.html')\n",
    "\n",
    "@app.route('/files/<path:filename>', methods = ['GET', 'POST'])\n",
    "def download_file(filename):\n",
    "    return send_from_directory(\"files\",filename, as_attachment=True)\n",
    "\n",
    "@app.route('/uploader', methods = ['GET', 'POST'])\n",
    "def upload_file():\n",
    "    if request.method == 'POST':\n",
    "        try:\n",
    "            f = request.files['file']\n",
    "\n",
    "            print(f.filename)\n",
    "\n",
    "            f.save(f'user/{secure_filename(f.filename)}')\n",
    "\n",
    "            img = keras.preprocessing.image.load_img(\n",
    "                \"user/\" + f.filename, target_size=image_size\n",
    "            )\n",
    "            img_array = keras.preprocessing.image.img_to_array(img)\n",
    "            img_array = tf.expand_dims(img_array, 0)\n",
    "\n",
    "            predictions = model.predict(img_array)\n",
    "            result = np.argmax(predictions[0])\n",
    "\n",
    "            plt.figure(figsize=(6,3))\n",
    "            plt.subplot(1, 2, 1)\n",
    "            plt.imshow(img, cmap=plt.cm.binary)\n",
    "            plt.xlabel(str(p_list[result]) + '  ' + str(round((np.max(predictions) * 100), 2)))\n",
    "            plt.savefig('static/img/fig/' + f.filename, dpi=800)\n",
    "            preitem = ''\n",
    "            for i in range(np.shape(predictions)[1]):\n",
    "                preitem = str(preitem) + str(p_list[i]) + ' -> ' +str(round(predictions[0][i] * 100, 2)) + ' <br> '\n",
    "\n",
    "            print(preitem)\n",
    "            return '<img src=''static/img/fig/' + f.filename+''' width=\"800\">''<p> \n",
    "            '''+ '<strong>'+preitem+'</strong>'+'<a href=\"http://121.140.112.233/cnn\"><p>돌아가기</a>''' \n",
    "        except:\n",
    "            return '오류가 발생하였습니다.<p>첨부파일명에 한글이 포함되어있거나 이미지 파일이 아닙니다.<p><a href=\"http://121.140.112.233/cnn\"><p>돌아가기</a>'\n",
    "\t\t\n",
    "if __name__ == '__main__':\n",
    "    app.run(host='0.0.0.0', port=80)"
   ]
  },
  {
   "cell_type": "code",
   "execution_count": null,
   "metadata": {},
   "outputs": [],
   "source": []
  }
 ],
 "metadata": {
  "kernelspec": {
   "display_name": "Python 3",
   "language": "python",
   "name": "python3"
  },
  "language_info": {
   "codemirror_mode": {
    "name": "ipython",
    "version": 3
   },
   "file_extension": ".py",
   "mimetype": "text/x-python",
   "name": "python",
   "nbconvert_exporter": "python",
   "pygments_lexer": "ipython3",
   "version": "3.7.6"
  }
 },
 "nbformat": 4,
 "nbformat_minor": 4
}
