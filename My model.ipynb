{
 "cells": [
  {
   "cell_type": "code",
   "execution_count": 33,
   "metadata": {
    "scrolled": true
   },
   "outputs": [
    {
     "name": "stdout",
     "output_type": "stream",
     "text": [
      "The tensorboard extension is already loaded. To reload it, use:\n",
      "  %reload_ext tensorboard\n"
     ]
    }
   ],
   "source": [
    "# Load the TensorBoard notebook extension\n",
    "%load_ext tensorboard"
   ]
  },
  {
   "cell_type": "code",
   "execution_count": 34,
   "metadata": {},
   "outputs": [],
   "source": [
    "import tensorflow as tf\n",
    "\n",
    "from tensorflow import keras\n",
    "from tensorflow.keras import layers\n",
    "from tensorflow.keras.models import load_model\n",
    "\n",
    "import os\n",
    "import numpy as np\n",
    "\n",
    "import tensorflow as tf\n",
    "import datetime"
   ]
  },
  {
   "cell_type": "markdown",
   "metadata": {},
   "source": [
    "Clear any logs from previous runs\n",
    "!rm -rf ./logs/"
   ]
  },
  {
   "cell_type": "code",
   "execution_count": 35,
   "metadata": {},
   "outputs": [
    {
     "name": "stdout",
     "output_type": "stream",
     "text": [
      "Deleted 6 images\n"
     ]
    }
   ],
   "source": [
    "#Filter out corrupted images\n",
    "num_skipped = 0\n",
    "for folder_name in (\"dress\", \"outer\", \"pants\", \"skirt\", \"suit\", \"top\"):\n",
    "    folder_path = os.path.join(\"dataset\", folder_name)\n",
    "    for fname in os.listdir(folder_path):\n",
    "        fpath = os.path.join(folder_path, fname)\n",
    "        fobj = open(fpath, \"rb\")\n",
    "        if tf.compat.as_bytes(\"JFIF\") not in fobj.peek(10):\n",
    "            num_skipped += 1\n",
    "            # Delete corrupted image\n",
    "            os.system(\"rm \" + fpath)\n",
    "print(\"Deleted %d images\" % num_skipped)"
   ]
  },
  {
   "cell_type": "code",
   "execution_count": 36,
   "metadata": {},
   "outputs": [
    {
     "name": "stdout",
     "output_type": "stream",
     "text": [
      "Found 22105 files belonging to 6 classes.\n",
      "Using 17684 files for training.\n",
      "Found 22105 files belonging to 6 classes.\n",
      "Using 4421 files for validation.\n"
     ]
    }
   ],
   "source": [
    "#Generate a Dataset\n",
    "image_size = (225, 225)\n",
    "batch_size = 16\n",
    "\n",
    "train_ds = tf.keras.preprocessing.image_dataset_from_directory(\n",
    "    \"dataset\",\n",
    "    validation_split=0.2,\n",
    "    subset=\"training\",\n",
    "    seed=1337,\n",
    "    image_size=image_size,\n",
    "    batch_size=batch_size,\n",
    ")\n",
    "val_ds = tf.keras.preprocessing.image_dataset_from_directory(\n",
    "    \"dataset\",\n",
    "    validation_split=0.2,\n",
    "    subset=\"validation\",\n",
    "    seed=1337,\n",
    "    image_size=image_size,\n",
    "    batch_size=batch_size,\n",
    ")"
   ]
  },
  {
   "cell_type": "code",
   "execution_count": 37,
   "metadata": {},
   "outputs": [],
   "source": [
    "model = keras.Sequential()\n",
    "\n",
    "#model.add(layers.experimental.preprocessing.Rescaling(1.0 / 255))\n",
    "\n",
    "model.add(layers.Conv2D(32, kernel_size=(3, 3), activation='relu', input_shape=(225, 225, 3), padding='same' ))\n",
    "model.add(layers.BatchNormalization())\n",
    "model.add(layers.MaxPooling2D(pool_size=(3, 3)))\n",
    "\n",
    "model.add(layers.Conv2D(64, kernel_size=(3, 3), activation='relu', padding='same' ))\n",
    "model.add(layers.BatchNormalization())\n",
    "model.add(layers.MaxPooling2D(pool_size=(3, 3)))\n",
    "\n",
    "for size in [128, 256, 512, 728]:\n",
    "    model.add(layers.Activation(\"relu\"))\n",
    "    model.add(layers.Conv2D(size, 3, padding=\"same\"))#\n",
    "    model.add(layers.BatchNormalization())\n",
    "    \n",
    "    model.add(layers.Activation(\"relu\"))\n",
    "    model.add(layers.Conv2D(size, 3, padding=\"same\"))#\n",
    "    model.add(layers.BatchNormalization())\n",
    "    \n",
    "    model.add(layers.MaxPooling2D(3, strides=2, padding=\"same\"))\n",
    "\n",
    "model.add(layers.Conv2D(1024, 3, padding=\"same\"))#\n",
    "model.add(layers.BatchNormalization())\n",
    "model.add(layers.Activation(\"relu\"))\n",
    "\n",
    "model.add(layers.GlobalAveragePooling2D())\n",
    "\n",
    "#model.add(layers.Flatten())\n",
    "#model.add(layers.Dense(256, activation='relu'))\n",
    "\n",
    "model.add(layers.Dropout(0.5))\n",
    "model.add(layers.Dense(6, activation='softmax'))"
   ]
  },
  {
   "cell_type": "code",
   "execution_count": 38,
   "metadata": {
    "scrolled": true
   },
   "outputs": [
    {
     "name": "stdout",
     "output_type": "stream",
     "text": [
      "Model: \"sequential_3\"\n",
      "_________________________________________________________________\n",
      "Layer (type)                 Output Shape              Param #   \n",
      "=================================================================\n",
      "conv2d_24 (Conv2D)           (None, 225, 225, 32)      896       \n",
      "_________________________________________________________________\n",
      "batch_normalization_33 (Batc (None, 225, 225, 32)      128       \n",
      "_________________________________________________________________\n",
      "max_pooling2d_18 (MaxPooling (None, 75, 75, 32)        0         \n",
      "_________________________________________________________________\n",
      "conv2d_25 (Conv2D)           (None, 75, 75, 64)        18496     \n",
      "_________________________________________________________________\n",
      "batch_normalization_34 (Batc (None, 75, 75, 64)        256       \n",
      "_________________________________________________________________\n",
      "max_pooling2d_19 (MaxPooling (None, 25, 25, 64)        0         \n",
      "_________________________________________________________________\n",
      "activation_27 (Activation)   (None, 25, 25, 64)        0         \n",
      "_________________________________________________________________\n",
      "conv2d_26 (Conv2D)           (None, 25, 25, 128)       73856     \n",
      "_________________________________________________________________\n",
      "batch_normalization_35 (Batc (None, 25, 25, 128)       512       \n",
      "_________________________________________________________________\n",
      "activation_28 (Activation)   (None, 25, 25, 128)       0         \n",
      "_________________________________________________________________\n",
      "conv2d_27 (Conv2D)           (None, 25, 25, 128)       147584    \n",
      "_________________________________________________________________\n",
      "batch_normalization_36 (Batc (None, 25, 25, 128)       512       \n",
      "_________________________________________________________________\n",
      "max_pooling2d_20 (MaxPooling (None, 13, 13, 128)       0         \n",
      "_________________________________________________________________\n",
      "activation_29 (Activation)   (None, 13, 13, 128)       0         \n",
      "_________________________________________________________________\n",
      "conv2d_28 (Conv2D)           (None, 13, 13, 256)       295168    \n",
      "_________________________________________________________________\n",
      "batch_normalization_37 (Batc (None, 13, 13, 256)       1024      \n",
      "_________________________________________________________________\n",
      "activation_30 (Activation)   (None, 13, 13, 256)       0         \n",
      "_________________________________________________________________\n",
      "conv2d_29 (Conv2D)           (None, 13, 13, 256)       590080    \n",
      "_________________________________________________________________\n",
      "batch_normalization_38 (Batc (None, 13, 13, 256)       1024      \n",
      "_________________________________________________________________\n",
      "max_pooling2d_21 (MaxPooling (None, 7, 7, 256)         0         \n",
      "_________________________________________________________________\n",
      "activation_31 (Activation)   (None, 7, 7, 256)         0         \n",
      "_________________________________________________________________\n",
      "conv2d_30 (Conv2D)           (None, 7, 7, 512)         1180160   \n",
      "_________________________________________________________________\n",
      "batch_normalization_39 (Batc (None, 7, 7, 512)         2048      \n",
      "_________________________________________________________________\n",
      "activation_32 (Activation)   (None, 7, 7, 512)         0         \n",
      "_________________________________________________________________\n",
      "conv2d_31 (Conv2D)           (None, 7, 7, 512)         2359808   \n",
      "_________________________________________________________________\n",
      "batch_normalization_40 (Batc (None, 7, 7, 512)         2048      \n",
      "_________________________________________________________________\n",
      "max_pooling2d_22 (MaxPooling (None, 4, 4, 512)         0         \n",
      "_________________________________________________________________\n",
      "activation_33 (Activation)   (None, 4, 4, 512)         0         \n",
      "_________________________________________________________________\n",
      "conv2d_32 (Conv2D)           (None, 4, 4, 728)         3355352   \n",
      "_________________________________________________________________\n",
      "batch_normalization_41 (Batc (None, 4, 4, 728)         2912      \n",
      "_________________________________________________________________\n",
      "activation_34 (Activation)   (None, 4, 4, 728)         0         \n",
      "_________________________________________________________________\n",
      "conv2d_33 (Conv2D)           (None, 4, 4, 728)         4770584   \n",
      "_________________________________________________________________\n",
      "batch_normalization_42 (Batc (None, 4, 4, 728)         2912      \n",
      "_________________________________________________________________\n",
      "max_pooling2d_23 (MaxPooling (None, 2, 2, 728)         0         \n",
      "_________________________________________________________________\n",
      "conv2d_34 (Conv2D)           (None, 2, 2, 1024)        6710272   \n",
      "_________________________________________________________________\n",
      "batch_normalization_43 (Batc (None, 2, 2, 1024)        4096      \n",
      "_________________________________________________________________\n",
      "activation_35 (Activation)   (None, 2, 2, 1024)        0         \n",
      "_________________________________________________________________\n",
      "global_average_pooling2d_3 ( (None, 1024)              0         \n",
      "_________________________________________________________________\n",
      "dropout_3 (Dropout)          (None, 1024)              0         \n",
      "_________________________________________________________________\n",
      "dense_3 (Dense)              (None, 6)                 6150      \n",
      "=================================================================\n",
      "Total params: 19,525,878\n",
      "Trainable params: 19,517,142\n",
      "Non-trainable params: 8,736\n",
      "_________________________________________________________________\n"
     ]
    }
   ],
   "source": [
    "model.summary()"
   ]
  },
  {
   "cell_type": "code",
   "execution_count": 39,
   "metadata": {},
   "outputs": [],
   "source": [
    "model.compile(loss='sparse_categorical_crossentropy', optimizer='adam', metrics=['accuracy'])"
   ]
  },
  {
   "cell_type": "code",
   "execution_count": 40,
   "metadata": {},
   "outputs": [],
   "source": [
    "time = datetime.datetime.now().strftime(\"%Y%m%d-%H%M%S\")\n",
    "log_dir = \"logs/fit/\" + time\n",
    "tensorboard_callback = tf.keras.callbacks.TensorBoard(log_dir=log_dir, histogram_freq=1)"
   ]
  },
  {
   "cell_type": "code",
   "execution_count": 41,
   "metadata": {},
   "outputs": [],
   "source": [
    "earlystopping = tf.keras.callbacks.EarlyStopping(\n",
    "    monitor='val_loss', min_delta=0, patience=5, verbose=0, mode='auto',\n",
    "    baseline=None, restore_best_weights=False\n",
    ")"
   ]
  },
  {
   "cell_type": "code",
   "execution_count": 42,
   "metadata": {},
   "outputs": [
    {
     "name": "stdout",
     "output_type": "stream",
     "text": [
      "Epoch 1/10\n",
      "   2/1106 [..............................] - ETA: 2:05 - loss: 2.0365 - accuracy: 0.1875WARNING:tensorflow:Callbacks method `on_train_batch_begin` is slow compared to the batch time. Check your callbacks.\n",
      "WARNING:tensorflow:Callbacks method `on_train_batch_end` is slow compared to the batch time. Check your callbacks.\n",
      "1106/1106 [==============================] - 60s 54ms/step - loss: 1.9603 - accuracy: 0.2113 - val_loss: 1.9070 - val_accuracy: 0.2640\n",
      "Epoch 2/10\n",
      "1106/1106 [==============================] - 60s 54ms/step - loss: 1.6940 - accuracy: 0.3017 - val_loss: 1.6556 - val_accuracy: 0.3273\n",
      "Epoch 3/10\n",
      "1106/1106 [==============================] - 59s 53ms/step - loss: 1.5149 - accuracy: 0.3899 - val_loss: 1.6242 - val_accuracy: 0.3796\n",
      "Epoch 4/10\n",
      "1106/1106 [==============================] - 60s 54ms/step - loss: 1.3717 - accuracy: 0.4607 - val_loss: 1.5153 - val_accuracy: 0.3852\n",
      "Epoch 5/10\n",
      "1106/1106 [==============================] - 59s 54ms/step - loss: 1.2501 - accuracy: 0.5173 - val_loss: 1.2673 - val_accuracy: 0.5166\n",
      "Epoch 6/10\n",
      "1106/1106 [==============================] - 60s 54ms/step - loss: 1.1462 - accuracy: 0.5656 - val_loss: 1.3747 - val_accuracy: 0.4915\n",
      "Epoch 7/10\n",
      "1106/1106 [==============================] - 59s 53ms/step - loss: 1.0617 - accuracy: 0.6040 - val_loss: 1.3099 - val_accuracy: 0.5232\n",
      "Epoch 8/10\n",
      "1106/1106 [==============================] - 59s 54ms/step - loss: 0.9668 - accuracy: 0.6411 - val_loss: 1.2175 - val_accuracy: 0.5510\n",
      "Epoch 9/10\n",
      "1106/1106 [==============================] - 59s 53ms/step - loss: 0.8731 - accuracy: 0.6832 - val_loss: 1.2311 - val_accuracy: 0.5684\n",
      "Epoch 10/10\n",
      "1106/1106 [==============================] - 59s 53ms/step - loss: 0.7602 - accuracy: 0.7241 - val_loss: 1.4861 - val_accuracy: 0.5148\n"
     ]
    },
    {
     "data": {
      "text/plain": [
       "<tensorflow.python.keras.callbacks.History at 0x21350d18ec8>"
      ]
     },
     "execution_count": 42,
     "metadata": {},
     "output_type": "execute_result"
    }
   ],
   "source": [
    "epochs = 10\n",
    "\n",
    "model.fit(train_ds, epochs=epochs, callbacks=[tensorboard_callback, earlystopping], validation_data=val_ds, batch_size = 16)"
   ]
  },
  {
   "cell_type": "code",
   "execution_count": 43,
   "metadata": {},
   "outputs": [],
   "source": [
    "if not os.path.exists('models/'):\n",
    "        os.mkdir('models/')\n",
    "\n",
    "model.save(\"models/\" + time + \"-model.h5\")"
   ]
  },
  {
   "cell_type": "code",
   "execution_count": 44,
   "metadata": {},
   "outputs": [
    {
     "data": {
      "text/plain": [
       "Reusing TensorBoard on port 6006 (pid 22972), started 4 days, 0:36:50 ago. (Use '!kill 22972' to kill it.)"
      ]
     },
     "metadata": {},
     "output_type": "display_data"
    },
    {
     "data": {
      "text/html": [
       "\n",
       "      <iframe id=\"tensorboard-frame-7d82b4fdb8fcd783\" width=\"100%\" height=\"800\" frameborder=\"0\">\n",
       "      </iframe>\n",
       "      <script>\n",
       "        (function() {\n",
       "          const frame = document.getElementById(\"tensorboard-frame-7d82b4fdb8fcd783\");\n",
       "          const url = new URL(\"/\", window.location);\n",
       "          url.port = 6006;\n",
       "          frame.src = url;\n",
       "        })();\n",
       "      </script>\n",
       "  "
      ],
      "text/plain": [
       "<IPython.core.display.HTML object>"
      ]
     },
     "metadata": {},
     "output_type": "display_data"
    }
   ],
   "source": [
    "%tensorboard --logdir logs/fit"
   ]
  },
  {
   "cell_type": "code",
   "execution_count": 59,
   "metadata": {},
   "outputs": [
    {
     "name": "stdout",
     "output_type": "stream",
     "text": [
      "dress\n"
     ]
    }
   ],
   "source": [
    "img = keras.preprocessing.image.load_img(\n",
    "    \"example/mtb9.PNG\", target_size=image_size\n",
    ")\n",
    "\n",
    "img_array = keras.preprocessing.image.img_to_array(img)\n",
    "img_array = tf.expand_dims(img_array, 0)  # Create batch axis\n",
    "\n",
    "predictions = model.predict(img_array)\n",
    "\n",
    "result = np.argmax(predictions[0])\n",
    "\n",
    "p_list = { 0:\"dress\", 1:\"outer\", 2:\"pants\", 3:\"skirt\", 4:\"suit\", 5:\"top\"}\n",
    "\n",
    "print(p_list[result])"
   ]
  }
 ],
 "metadata": {
  "kernelspec": {
   "display_name": "Python 3",
   "language": "python",
   "name": "python3"
  },
  "language_info": {
   "codemirror_mode": {
    "name": "ipython",
    "version": 3
   },
   "file_extension": ".py",
   "mimetype": "text/x-python",
   "name": "python",
   "nbconvert_exporter": "python",
   "pygments_lexer": "ipython3",
   "version": "3.7.6"
  }
 },
 "nbformat": 4,
 "nbformat_minor": 4
}
